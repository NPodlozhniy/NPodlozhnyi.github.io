{
 "cells": [
  {
   "cell_type": "raw",
   "id": "e46edf3d-db9b-4234-9540-b0c25c4463b5",
   "metadata": {},
   "source": [
    "---\n",
    "title: \"Maturing Conversions in AB-experiment\"\n",
    "summary: \"Why you need to be patient and when cohort-wise approach is a flaw\"\n",
    "author: \"Nikita Podlozhniy\"\n",
    "date: \"2024-08-20\"\n",
    "format:\n",
    "    hugo-md:\n",
    "        output-file: \"maturing-conversions.md\"\n",
    "        html-math-method: katex\n",
    "        code-fold: true\n",
    "jupyter: python3\n",
    "execute:\n",
    "    enabled: false\n",
    "---"
   ]
  },
  {
   "cell_type": "markdown",
   "id": "68372030-acba-45a2-bf77-e1b6d0d0c230",
   "metadata": {},
   "source": [
    "## Background"
   ]
  },
  {
   "cell_type": "markdown",
   "id": "68c3e85a-61c1-4f03-b7b3-bdbb1a7547ea",
   "metadata": {
    "editable": true,
    "slideshow": {
     "slide_type": ""
    },
    "tags": []
   },
   "source": [
    "Hey, some time passed since the last post, where I described why it's must to apply Dunnett's correction for multivariate testing.\n",
    "This time I'm eager to open the topic of maturing metrics, particularly conversions, how to properly analyse the experiment with such a target, what are the options and which one is applied at HomeBuddy where we strive to squeeze maximum from every experiment. "
   ]
  },
  {
   "cell_type": "markdown",
   "id": "3372f762-a2dc-4b05-8d22-e6030ab4515d",
   "metadata": {},
   "source": [
    "### Prerequisites"
   ]
  },
  {
   "cell_type": "markdown",
   "id": "5c4647f2-8e59-4e0d-83e2-fdfeec7ad0b3",
   "metadata": {},
   "source": [
    "As usual the code snippets that are used for demo are written in Python, so to thoroughly follow the content, it's better to have some exposure to the language and its main packages, although I'm adding extensive comments, so even if you're not into programming you can grasp the pith anyway.\n",
    "\n",
    "> *Disclaimer: The actual notebook was written on Python 3.11.4 and to keep the results reproducible here is the list of particular packages that are being used specified with their versions.*"
   ]
  },
  {
   "cell_type": "code",
   "execution_count": null,
   "id": "2273d50c-9c24-4666-9aff-1c3fb2b04458",
   "metadata": {},
   "outputs": [],
   "source": [
    "#| eval: false\n",
    "pip install --quiet --upgrade numpy==1.25.2 pandas==2.0.3 scipy==1.11.2 statsmodels==0.14.0 podlozhnyy_module==2.5.3"
   ]
  },
  {
   "cell_type": "markdown",
   "id": "c9e7bca2-bc8e-4d14-af6e-0c09aa15dbf8",
   "metadata": {},
   "source": [
    "### Data"
   ]
  },
  {
   "cell_type": "markdown",
   "id": "1eab8d35-c212-41f2-9e67-13d1124ce3b2",
   "metadata": {},
   "source": [
    "We need more data!\n",
    "This time the data simulation process is a little tricky than in case of a plain conversion as soon as we need to specify the maturation curve.\n",
    "\n",
    "If you are not familiar with the concept of a maturation let me provide you with an example: imagine as a target in an AB experiment you have a deep conversion from a visit to a final goal, it may be an order for an arbitrary e-commerce web-site or the first payment in a mobile game.\n",
    "\n",
    "What all these deep actions usually have in common is that they are revenue-generating events which makes them a good proxy to measure the success of the experiment, from the other flip they take time to happen, depending on the specifics of the business, this could be even days or weeks.\n",
    "\n",
    "In the context of HomeBuddy this might be an appointment or a deal that is our north star, as this is the reaper point where both sides (lead and contractor) reached their primary goal.\n",
    "\n",
    "In order to avoid revealing the cards, I suggest we use an arbitrary maturation curve that is not inherited from our data, however it's a pretty true-to-life example of how metric adds up to the final value."
   ]
  },
  {
   "cell_type": "markdown",
   "id": "4dfef45c-93d7-4ac1-a0b6-1871007793ac",
   "metadata": {},
   "source": [
    "Maturation curves are usually might be described to a very high extent with [Pareto](https://en.wikipedia.org/wiki/Pareto_distribution) distribution, which was initially developed to define a wealth's distribution in the society, however the theory underneath is going way beyond widely known Pareto 80-20 principle as in essence it's a parametric distribution that is good to define highly skewed data samples with a long heavy tail.\n",
    "\n",
    "If you're interested in challenging your metric using the materials from the post, I suggest you give a shot to [ParetoApprox](https://github.com/NPodlozhniy/podlozhnyy-module/blob/d01847c676180537cc2f0a3279f2ae2748d1fecf/podlozhnyy_module/pareto.py#L7) function from my module that basically finds the best Pareto distribution parameters to fit the supplied array of the data, and voila you have a random variable that describes your metric and therefore you can do an infinite sampling and verify hypotheses about the applied techniques.\n",
    "\n",
    "For this post let's stop at one specific and quite realistic distribution of the metric maturation by days."
   ]
  },
  {
   "cell_type": "code",
   "execution_count": 1,
   "id": "4c091d0b-cd3f-45c7-80b8-4fa4148867c7",
   "metadata": {},
   "outputs": [
    {
     "name": "stdout",
     "output_type": "stream",
     "text": [
      "Hey! You've successfully imported the module featured by https://github.com/NPodlozhniy\n",
      "To check the entire set of methods, execute dir(podlozhnyy_module). Enjoy!\n"
     ]
    }
   ],
   "source": [
    "#| output: false\n",
    "import numpy as np\n",
    "import pandas as pd\n",
    "\n",
    "import podlozhnyy_module as pm\n",
    "\n",
    "from tqdm.notebook import tqdm"
   ]
  },
  {
   "cell_type": "markdown",
   "id": "6f5738ba-4164-4e1a-9434-ee669583d8eb",
   "metadata": {},
   "source": [
    "What's important is barely we can expect that all visitors finally will reach the goal and hence while those, who will, can be described with Pareto, the major part of visitors will never convert and hence the true distribution of visitors is the sampling between never converted visitors and the rest of them, whose conversion day is distributed by Pareto.\n",
    "\n",
    "Hopefully I've already created such an \"Extended\" Pareto distribution and you can define a metric of such a nature right out of the box: \n",
    "[ParetoExtended](https://github.com/NPodlozhniy/podlozhnyy-module/blob/d01847c676180537cc2f0a3279f2ae2748d1fecf/podlozhnyy_module/pareto.py#L54) in addition to Pareto specific `alpha`, `loc` and `scale` params is taking `default_proba` and `default_value` which means what ultimate percentage of visitors would never convert and which particular value should I assign to them, it's an arbitrary (usually negative) number that stands on the left of X axis from the main Pareto distribution."
   ]
  },
  {
   "cell_type": "code",
   "execution_count": 2,
   "id": "e2564659-7eed-4312-a6d0-da7a7a5c02ab",
   "metadata": {},
   "outputs": [],
   "source": [
    "f = pm.pareto.ParetoExtended(\n",
    "    alpha=1.161,\n",
    "    default_value=0,\n",
    "    default_proba=0.5\n",
    ")"
   ]
  },
  {
   "cell_type": "markdown",
   "id": "4b123a3e-4d48-452a-a4da-8fb1682f00af",
   "metadata": {},
   "source": [
    "As an example here is the metric where the ultimate conversion is a half of the users (and the other half is never converted) and their conversions happen accordingly to a textbook Pareto principle 80-20"
   ]
  },
  {
   "cell_type": "code",
   "execution_count": 3,
   "id": "1242ab41-21b8-4753-bfed-a0e8ed3ab620",
   "metadata": {},
   "outputs": [
    {
     "data": {
      "image/png": "[encoded data removed]",
      "text/plain": [
       "<Figure size 640x480 with 1 Axes>"
      ]
     },
     "metadata": {},
     "output_type": "display_data"
    }
   ],
   "source": [
    "from matplotlib import pyplot as plt\n",
    "\n",
    "plt.style.use('dark_background')\n",
    "\n",
    "\n",
    "def plot_maturating_curve(f: pm.pareto.ParetoExtended, xmin=0, ymin=None) -> None:\n",
    "    \"\"\"\n",
    "    Plot maturating curve for the conversion that has given distribution\n",
    "    \"\"\"\n",
    "\n",
    "    xarr = np.linspace(xmin, 24, 100)\n",
    "    cdf = [f.cdf(x) for x in xarr]\n",
    "\n",
    "    weeks_x = range(6, 24, 7)\n",
    "    weeks_cdf = [f.cdf(x) for x in weeks_x]\n",
    "\n",
    "    plt.plot(xarr, cdf, 'y-', linewidth=2)\n",
    "    plt.scatter(x=weeks_x, y=weeks_cdf, marker='o', s=36, c='y')\n",
    "\n",
    "    plt.xlabel('Day No.')\n",
    "    plt.ylabel('Cumulative Share of Conversions')\n",
    "    plt.title('Maturating Curve')\n",
    "    plt.xlim([min(xarr), max(xarr) + 1])\n",
    "    plt.ylim([ymin if ymin else f._zero_p, 1.0])\n",
    "    plt.grid()\n",
    "    plt.show()\n",
    "\n",
    "plot_maturating_curve(f, xmin=1)"
   ]
  },
  {
   "cell_type": "markdown",
   "id": "0a6b5d80-5bde-4ddd-8d2d-0687a7e960eb",
   "metadata": {},
   "source": [
    "The line start from 0.5 because it's defined with `default_proba` that only a half of users will have a conversion after all, for the half of them there will be no conversion at all, so they reach the maturatity on the first day."
   ]
  },
  {
   "cell_type": "code",
   "execution_count": 4,
   "id": "1019fbce-8116-4906-9018-6e0ccb02d946",
   "metadata": {},
   "outputs": [
    {
     "name": "stdout",
     "output_type": "stream",
     "text": [
      "20% of population possess 75.2% of wealth\n"
     ]
    }
   ],
   "source": [
    "# eval: false\n",
    "sample = f.rvs(100_000)\n",
    "\n",
    "# 80th percentile of Pareto part is 90th percentile of declared random variable\n",
    "# as half of values are set to zero with default_proba\n",
    "percentile80 = np.percentile(sample, 90)\n",
    "\n",
    "print(f\"20% of population possess {sum(sample[sample >= percentile80]) / sum(sample):.1%} of wealth\")"
   ]
  },
  {
   "cell_type": "markdown",
   "id": "095c4cbe-0f28-442b-a237-a75eaa1db0ee",
   "metadata": {},
   "source": [
    "So, as you can see everything works as expected, and in addition you have flexibility for sampling as non-converted users are embedded"
   ]
  },
  {
   "cell_type": "markdown",
   "id": "ae74ff1a-4de9-4e02-af42-d750abfd0d01",
   "metadata": {},
   "source": [
    "## Power Research"
   ]
  },
  {
   "cell_type": "markdown",
   "id": "57970679-484d-4c36-b1ce-402edf56bc09",
   "metadata": {},
   "source": [
    "The focus of the article is to explore what happens to the power of an experiment when a maturating conversion is not treated properly"
   ]
  },
  {
   "cell_type": "markdown",
   "id": "29ed38f7-089e-4634-b5a2-e8c2ccbdeed2",
   "metadata": {},
   "source": [
    "### Sample Size"
   ]
  },
  {
   "cell_type": "markdown",
   "id": "d0fad9b9-3e9c-4112-a5f6-a865a616f0ed",
   "metadata": {},
   "source": [
    "First of all let's set a few introductory parameters and move on to the sample's size calculation, that we have to provide in order to achieve 80% power. We explore a deep conversion, so the base value is a matter of tenths of a percent, in addition we will employ multivariate testing approach as it's usually the case."
   ]
  },
  {
   "cell_type": "code",
   "execution_count": 5,
   "id": "4b684867-a0b1-4c8a-8eb7-1c2f8256ada8",
   "metadata": {},
   "outputs": [],
   "source": [
    "from podlozhnyy_module.abtesting import ZDunnett\n",
    "from statsmodels.stats.proportion import proportion_confint\n",
    "\n",
    "\n",
    "CONVERSION = 0.004\n",
    "N_GROUPS = 3\n",
    "DURATION_DAYS = 21\n",
    "USERS_PER_DAY = 10_000\n",
    "EFFECT_SIZE = 0.12\n",
    "\n",
    "\n",
    "from scipy.stats import norm, binom\n",
    "\n",
    "def min_sample_size(mde: float, var: float, alpha: float=0.05, power: float=0.8):\n",
    "    \"\"\"\n",
    "    General-purpose calculator for T-test sample size.\n",
    "    As long as a variance is supplied as a prameter, \n",
    "    it can be accountant for different variations of a classical test.\n",
    "\n",
    "    Args:\n",
    "        mde: absolute value of a minimal detectable effect\n",
    "        var: variance of leveraged T-statistic\n",
    "        alpha: Type I error rate\n",
    "        power: 1 - Type II error rate\n",
    "    Returns:\n",
    "        int, minimum size of each sample\n",
    "    \"\"\"\n",
    "    effect_size = mde / var ** 0.5\n",
    "    return round(2 * ((norm.ppf(1 - alpha/2) + norm.ppf(power)) / effect_size) ** 2)"
   ]
  },
  {
   "cell_type": "markdown",
   "id": "b16a1074-554e-4e59-9616-38662d7c97d6",
   "metadata": {},
   "source": [
    "For an accurate size calculation let's get a proper estimate of the variance from a simulation of a future experiment. The conversions number is considered a binomial random variable, like there is no maturity, it's equal to a size estimation on the basis of the historical value of your conversion."
   ]
  },
  {
   "cell_type": "code",
   "execution_count": 16,
   "id": "8ba38981-d069-4b56-9ead-16ec0694b09f",
   "metadata": {},
   "outputs": [
    {
     "data": {
      "text/plain": [
       "{'variant': ['B', 'C'],\n",
       " 'statistic': array([-0.71881574, -0.47094824]),\n",
       " 'p-value': array([0.69330407, 0.85181339])}"
      ]
     },
     "execution_count": 16,
     "metadata": {},
     "output_type": "execute_result"
    }
   ],
   "source": [
    "input = dict()\n",
    "\n",
    "input[\"names\"] = [chr(ord(\"A\") + i) for i in range(N_GROUPS)]\n",
    "input[\"variant\"] = input[\"names\"][-1]\n",
    "\n",
    "input[\"base\"] = [DURATION_DAYS * USERS_PER_DAY] * N_GROUPS\n",
    "input[\"target\"] = [binom(n=DURATION_DAYS * USERS_PER_DAY, p=CONVERSION).rvs() for _ in range(N_GROUPS)]\n",
    "\n",
    "test = ZDunnett(input, \"base\", \"target\", \"names\", \"variant\")\n",
    "\n",
    "test.groups_results()"
   ]
  },
  {
   "cell_type": "code",
   "execution_count": 17,
   "id": "b5188042-5ab3-48e3-bf55-282481dd7cfd",
   "metadata": {},
   "outputs": [
    {
     "data": {
      "text/plain": [
       "207983"
      ]
     },
     "execution_count": 17,
     "metadata": {},
     "output_type": "execute_result"
    }
   ],
   "source": [
    "min_sample_size(mde=EFFECT_SIZE * CONVERSION, var=test.variance, alpha=0.1, power=0.8)"
   ]
  },
  {
   "cell_type": "markdown",
   "id": "ea934f1b-8768-4ed9-a922-813325f76a68",
   "metadata": {},
   "source": [
    "Of course there is some variance in this variance calculation, although it's essentially enough to carry an experiment for 21 day with 10K users per day to get 80% power, given the rest of input parameters and if you wait an infinite amount of time after the sampling is finished and consequently take into account every single conversion that happens sooner or later."
   ]
  },
  {
   "cell_type": "markdown",
   "id": "b9d74c1d-14b5-4f8f-a8e0-01857b683c49",
   "metadata": {},
   "source": [
    "### Monte-Carlo"
   ]
  },
  {
   "cell_type": "markdown",
   "id": "fe1ffea0-d3f7-4383-9eb7-35498649e703",
   "metadata": {},
   "source": [
    "Let's design a procedure to look at the power in case of early stopping for different time frames and as a good habit it's always better to ensure the correctness of the criterion beforehand - so will measure that FWER is controlled accordingly as well."
   ]
  },
  {
   "cell_type": "code",
   "execution_count": 18,
   "id": "1fc4579a-733b-4ccb-b1d0-6d2492c4c631",
   "metadata": {},
   "outputs": [],
   "source": [
    "# it can by any negative number, that works just like a signal of the lack of conversion\n",
    "DEFAULT = -10"
   ]
  },
  {
   "cell_type": "markdown",
   "id": "b5d4fe44-3e70-4aba-83c6-4c470a892c45",
   "metadata": {},
   "source": [
    "It is proposed to use some arbitrary extended Pareto distribution, that has a few characteristics\n",
    " - 75% of conversions happen during the first week\n",
    " - 90% of conversions happen within 3 weeks\n",
    " - in total percentage of conversions is equal to `CONVERSION`"
   ]
  },
  {
   "cell_type": "code",
   "execution_count": 19,
   "id": "78a84add-2ddc-49cb-b6ce-60e02d5ffaf0",
   "metadata": {},
   "outputs": [
    {
     "data": {
      "image/png": "[encoded data removed]",
      "text/plain": [
       "<Figure size 640x480 with 1 Axes>"
      ]
     },
     "metadata": {},
     "output_type": "display_data"
    },
    {
     "name": "stdout",
     "output_type": "stream",
     "text": [
      "76% of conversions happen during 1 week\n",
      "87% of conversions happen during 2 weeks\n",
      "91% of conversions happen during 3 weeks\n"
     ]
    }
   ],
   "source": [
    "def distribution(conv_proba: float) -> pm.pareto.ParetoExtended:\n",
    "    \"\"\"\n",
    "    Returns a possible distribution of a maturating metric\n",
    "\n",
    "    Args:\n",
    "        conv_proba: ultimate share of conversions\n",
    "        equals to: 1 - the share of users who will not convert\n",
    "    \"\"\"\n",
    "    return pm.pareto.ParetoExtended(\n",
    "        alpha=1.136,\n",
    "        loc=-4.475,\n",
    "        scale=2.981,\n",
    "        default_value=DEFAULT,\n",
    "        default_proba=1-conv_proba,\n",
    "    )\n",
    "\n",
    "f = distribution(1.0)\n",
    "\n",
    "plot_maturating_curve(f, xmin=0, ymin=0.4)\n",
    "\n",
    "for idx, val in enumerate([f.cdf(x) for x in range(6, 22, 7)]):\n",
    "\n",
    "    print(f\"{val:.0%} of conversions happen during {1 + idx} week{'s' if idx > 0 else ''}\")"
   ]
  },
  {
   "cell_type": "markdown",
   "id": "21f79594-369a-49dc-a9a5-175087154133",
   "metadata": {},
   "source": [
    "In addition we need a sample generator that would count the conversions that happen only before we draw a conclusion. Method `generate_sample` would vary throughout the notebook: the first implementation reflects the idea of drawing a conclusion right after we stopped the experiment."
   ]
  },
  {
   "cell_type": "markdown",
   "id": "efe46c47-7da9-4b14-be5c-9c7cf64047ae",
   "metadata": {},
   "source": [
    "As usual Monte-Carlo process comes handy when you want to carry some \"meta\" experiments. \n",
    "Simplifying the code, Monte Carlo procedure is wrapped into a function with all the necessary parameters supplied as arguments."
   ]
  },
  {
   "cell_type": "code",
   "execution_count": 21,
   "id": "6ed3f090-5477-4a8b-9aa2-eb84ccf8af36",
   "metadata": {},
   "outputs": [],
   "source": [
    "def generate_sample(\n",
    "    conv_proba: float,\n",
    "    exp_duration: int,\n",
    "    users_per_day: int,\n",
    ") -> int:\n",
    "    \"\"\"\n",
    "    Build a sample of bernoulli random variable where\n",
    "    1 = conversion happened during the time of an experiment\n",
    "    0 = conversion wouldn't happen at all or only after we stopped and draw a conclusion\n",
    "    The output is the sum of the sample = total number of conversions\n",
    "\n",
    "    Args:\n",
    "        conv_proba: ultimate share of conversions\n",
    "        exp_duration: experiment duration (days)\n",
    "        users_per_day: number of users received per day\n",
    "    Returns:\n",
    "        int: number of registered conversions\n",
    "    \"\"\"\n",
    "\n",
    "    rv = distribution(conv_proba)\n",
    "    conversions = 0\n",
    "\n",
    "    for day in range(exp_duration):\n",
    "\n",
    "        data = rv.rvs(users_per_day)\n",
    "        conversions += sum((data > DEFAULT) & (data <= day))\n",
    "\n",
    "    return conversions\n",
    "\n",
    "\n",
    "def monte_carlo(\n",
    "    aa_test: bool = True,\n",
    "    verbose: bool = True,\n",
    "    n_iterations: int = 1_000,\n",
    "    exp_duration: int = DURATION_DAYS,\n",
    "    users_per_day: int = USERS_PER_DAY,\n",
    "    p_general: float = CONVERSION,\n",
    "    n_groups: int = N_GROUPS,\n",
    "    effect_size: float = EFFECT_SIZE,\n",
    "    alpha: float = 0.10,\n",
    "    **kwargs,\n",
    ") -> tuple:\n",
    "\n",
    "    input = dict.fromkeys([\"base\", \"target\", \"names\", \"variant\"])\n",
    "    input[\"names\"] = [chr(ord(\"A\") + i) for i in range(n_groups)]\n",
    "    input[\"variant\"] = input[\"names\"][-1]\n",
    "\n",
    "    dunnett_positives = 0\n",
    "    z_positives = 0\n",
    "\n",
    "    for i in range(n_iterations):\n",
    "\n",
    "        input[\"base\"] = [exp_duration * users_per_day] * n_groups\n",
    "        input[\"target\"] = [\n",
    "            generate_sample(\n",
    "                p_general,\n",
    "                exp_duration,\n",
    "                users_per_day,\n",
    "                **kwargs\n",
    "            ) for _ in range(n_groups - 1)\n",
    "        ]\n",
    "        input[\"target\"] += [\n",
    "            generate_sample(\n",
    "                p_general * (1 + effect_size * (1 - aa_test)),\n",
    "                exp_duration,\n",
    "                users_per_day,\n",
    "                **kwargs\n",
    "            )\n",
    "        ]\n",
    "\n",
    "        dunnett_test = ZDunnett(input, \"base\", \"target\", \"names\", \"variant\")\n",
    "\n",
    "        dunnett_p_value = dunnett_test.groups_results(alternative=\"two-sided\")[\"p-value\"]\n",
    "\n",
    "        if aa_test:\n",
    "            if max(dunnett_p_value <= alpha):\n",
    "                dunnett_positives += 1\n",
    "        else:\n",
    "            if isinstance(dunnett_p_value, np.ndarray) and dunnett_p_value[-1] <= alpha:\n",
    "                dunnett_positives += 1\n",
    "            elif isinstance(dunnett_p_value, np.float64) and dunnett_p_value <= alpha:\n",
    "                dunnett_positives += 1\n",
    "            \n",
    "    dl, dr = proportion_confint(count=dunnett_positives, nobs=n_iterations, alpha=0.10, method='wilson')\n",
    "\n",
    "    if verbose:\n",
    "        buffer_window = kwargs.get(\"extra_waiting_days\")\n",
    "        baking_window = kwargs.get(\"baking_window\")\n",
    "        print (\n",
    "            f\"{'FPR ' if aa_test else f'TPR of {effect_size:.0%} effect size {chr(10)}'}\"\n",
    "            f\"for {exp_duration}-day's experiment\"\n",
    "            f\"{f'{chr(10)}with {buffer_window} buffer days in the end' if buffer_window else ''}\"\n",
    "            f\"{f'{chr(10)}with baking window of {baking_window} days' if baking_window else ''}\"\n",
    "            f\"{chr(10)}where {users_per_day:,} users are exposed per day:{chr(10)}\"\n",
    "            f\" {dunnett_positives / n_iterations:.3f} ± {(dr - dl) / 2:.3f}\"\n",
    "        )\n",
    "    return [dl, dunnett_positives / n_iterations, dr]"
   ]
  },
  {
   "cell_type": "markdown",
   "id": "1b210ef6-ded3-47f0-8e2a-12b30f98b83e",
   "metadata": {},
   "source": [
    "### Correctness"
   ]
  },
  {
   "cell_type": "markdown",
   "id": "bacdfb76-8fa3-4cea-bd87-b0d7c30be170",
   "metadata": {},
   "source": [
    "It's never an excess to double check that the criterion that is used works as expected. "
   ]
  },
  {
   "cell_type": "code",
   "execution_count": 22,
   "id": "bbd7cacd-76a8-4ce1-bde9-549f60825663",
   "metadata": {},
   "outputs": [
    {
     "name": "stdout",
     "output_type": "stream",
     "text": [
      "FPR for 21-day's experiment\n",
      "where 10,000 users are exposed per day:\n",
      " 0.101 ± 0.016\n",
      "CPU times: total: 8min\n",
      "Wall time: 8min 5s\n"
     ]
    }
   ],
   "source": [
    "%%time\n",
    "np.random.seed(2024)\n",
    "_ = monte_carlo()"
   ]
  },
  {
   "cell_type": "markdown",
   "id": "149de794-0361-4f09-aff7-d1d94b8e7cfe",
   "metadata": {},
   "source": [
    "Alpha is way between the bounds for Type I error rate, so we're free to go ahead."
   ]
  },
  {
   "cell_type": "markdown",
   "id": "eeb92cfe-8dae-4065-b81c-a3c2624b145c",
   "metadata": {},
   "source": [
    "### Power"
   ]
  },
  {
   "cell_type": "markdown",
   "id": "517b36ac-eb11-4fe4-b8f6-74fb4e90780b",
   "metadata": {},
   "source": [
    "In case of no pause after the latest visitor exposure - the power falls off to 60%, just a reminder that it supposed to be 80%, insane!"
   ]
  },
  {
   "cell_type": "code",
   "execution_count": 23,
   "id": "0b469c4d-cd25-4610-90c5-5b06cf534ffa",
   "metadata": {},
   "outputs": [
    {
     "name": "stdout",
     "output_type": "stream",
     "text": [
      "TPR of 12% effect size \n",
      "for 21-day's experiment\n",
      "where 10,000 users are exposed per day:\n",
      " 0.568 ± 0.026\n",
      "CPU times: total: 7min 29s\n",
      "Wall time: 7min 32s\n"
     ]
    }
   ],
   "source": [
    "%%time\n",
    "np.random.seed(2024)\n",
    "_ = monte_carlo(aa_test=False)"
   ]
  },
  {
   "cell_type": "markdown",
   "id": "d3b8e9f2-6dd0-4ee4-95ed-bd0b35de4ee7",
   "metadata": {},
   "source": [
    "Let's explore what happens to the power if we are not in a hurry with conclusions."
   ]
  },
  {
   "cell_type": "code",
   "execution_count": 24,
   "id": "18078f44-8575-4c1b-978c-ac16a611163e",
   "metadata": {},
   "outputs": [],
   "source": [
    "def generate_sample(\n",
    "    conv_proba: float,\n",
    "    exp_duration: int,\n",
    "    users_per_day: int,\n",
    "    extra_waiting_days: int,\n",
    ") -> int:\n",
    "    \"\"\"\n",
    "    Extra Args:\n",
    "        extra_waiting_days: how many days we wait until drawing a conclusion\n",
    "    \"\"\"\n",
    "\n",
    "    rv = distribution(conv_proba)\n",
    "    conversions = 0\n",
    "\n",
    "    for day in range(exp_duration):\n",
    "\n",
    "        data = rv.rvs(users_per_day)\n",
    "        conversions += sum((data > DEFAULT) & (data <= day + extra_waiting_days))\n",
    "\n",
    "    return conversions"
   ]
  },
  {
   "cell_type": "markdown",
   "id": "46233432-10cf-4efa-8ed2-a43284d015b1",
   "metadata": {},
   "source": [
    "A new way to generate a sample provides and extra opportunity to select how many days we're ready to wait until the experiment is finished. \n",
    "Be careful as the code below takes time!"
   ]
  },
  {
   "cell_type": "code",
   "execution_count": 25,
   "id": "808b6388-11b3-4026-904b-cd5e82282b46",
   "metadata": {},
   "outputs": [
    {
     "data": {
      "application/vnd.jupyter.widget-view+json": {
       "model_id": "688ad45d75a045a3a805844a0061a3ea",
       "version_major": 2,
       "version_minor": 0
      },
      "text/plain": [
       "  0%|          | 0/11 [00:00<?, ?it/s]"
      ]
     },
     "metadata": {},
     "output_type": "display_data"
    },
    {
     "name": "stdout",
     "output_type": "stream",
     "text": [
      "CPU times: total: 1h 17min 19s\n",
      "Wall time: 1h 17min 40s\n"
     ]
    }
   ],
   "source": [
    "%%time\n",
    "np.random.seed(2024)\n",
    "\n",
    "power_with_waiting = []\n",
    "\n",
    "for to_wait_for in tqdm(range(1, 22, 2)):\n",
    "    result = monte_carlo(aa_test=False, verbose=False, extra_waiting_days=to_wait_for)\n",
    "    power_with_waiting.append(result)"
   ]
  },
  {
   "cell_type": "code",
   "execution_count": 26,
   "id": "c85a06a4-d099-4a63-a114-281729a7d5e2",
   "metadata": {},
   "outputs": [
    {
     "data": {
      "application/vnd.jupyter.widget-view+json": {
       "model_id": "ca3184db00364f349af039725caa487d",
       "version_major": 2,
       "version_minor": 0
      },
      "text/plain": [
       "  0%|          | 0/11 [00:00<?, ?it/s]"
      ]
     },
     "metadata": {},
     "output_type": "display_data"
    },
    {
     "name": "stdout",
     "output_type": "stream",
     "text": [
      "CPU times: total: 1h 37min 48s\n",
      "Wall time: 1h 37min 56s\n"
     ]
    }
   ],
   "source": [
    "%%time\n",
    "np.random.seed(2024)\n",
    "\n",
    "power_with_waiting_4weeks = []\n",
    "\n",
    "for to_wait_for in tqdm(range(1, 22, 2)):\n",
    "    result = monte_carlo(aa_test=False, verbose=False, exp_duration=28, effect_size=0.10, extra_waiting_days=to_wait_for)\n",
    "    power_with_waiting_4weeks.append(result)"
   ]
  },
  {
   "cell_type": "markdown",
   "id": "99c99bfe-e0e0-47e0-898c-edafe0dcbcb2",
   "metadata": {},
   "source": [
    "The chart makes it clear how important it is - not to rush with conclusions, in parenthesis, in everyday life it works exactly the same! \n",
    "We lose about 10 percentage points of the power if we are not ready to wait yet another week."
   ]
  },
  {
   "cell_type": "code",
   "execution_count": null,
   "id": "7806ec67-6670-48c0-b0cd-e52719cd5773",
   "metadata": {},
   "outputs": [],
   "source": [
    "#| eval: false\n",
    "import plotly.express as px\n",
    "import plotly.graph_objs as go\n",
    "\n",
    "def hex2rgba(hex, alpha):\n",
    "    \"\"\"\n",
    "    Convert plotly hex colors to rgb and enables transparency adjustment\n",
    "    \"\"\"\n",
    "    col_hex = hex.lstrip('#')\n",
    "    col_rgb = tuple(int(col_hex[i : i + 2], 16) for i in (0, 2, 4))\n",
    "    col_rgb += (alpha,)\n",
    "    return 'rgba' + str(col_rgb)\n",
    "\n",
    "def get_new_color(colors):\n",
    "    while True:\n",
    "        for color in colors:\n",
    "            yield color\n",
    "\n",
    "colors_list = px.colors.qualitative.Plotly\n",
    "rgba_colors = [hex2rgba(color, alpha=0.5) for color in colors_list]\n",
    "palette = get_new_color(rgba_colors)\n",
    "\n",
    "def add_chart(figure, data, title=None, showtitle=False):\n",
    "\n",
    "    x = list(range(1, 22, 2))\n",
    "    color = next(palette)\n",
    "    \n",
    "    figure.add_trace(\n",
    "        go.Scatter(\n",
    "            name=title if title else \"Point Estimate\",\n",
    "            x=x,\n",
    "            y=[v[1] for v in data],\n",
    "            mode='lines',\n",
    "            line=dict(color=color),\n",
    "            showlegend=showtitle,\n",
    "        ),\n",
    "    )\n",
    "    figure.add_trace(\n",
    "        go.Scatter(\n",
    "            name='Upper Bound',\n",
    "            x=x,\n",
    "            y=[v[2] for v in data],\n",
    "            mode='lines',\n",
    "            line=dict(width=0),\n",
    "            marker=dict(color=\"#444\"),\n",
    "            hovertemplate=\"%{y:.3f}\",\n",
    "            showlegend=False,\n",
    "        ),\n",
    "    )\n",
    "    figure.add_trace(\n",
    "        go.Scatter(\n",
    "            name='Lower Bound',\n",
    "            x=x,\n",
    "            y=[v[0] for v in data],\n",
    "            mode='lines',\n",
    "            line=dict(width=0),\n",
    "            marker=dict(color=\"#444\"),            \n",
    "            hovertemplate=\"%{y:.3f}\",\n",
    "            showlegend=False,\n",
    "            fillcolor=color,\n",
    "            fill='tonexty',\n",
    "        ),\n",
    "    )\n",
    "\n",
    "\n",
    "figure = go.Figure()\n",
    "\n",
    "add_chart(figure, power_with_waiting)\n",
    "\n",
    "figure.update_xaxes(\n",
    "    title_text=\"Days passed since the exposure was stopped until a conclusion was made\"\n",
    ")\n",
    "\n",
    "figure.update_layout(\n",
    "    yaxis_title='True Positive Rate',\n",
    "    title={\n",
    "        \"x\": 0.5,\n",
    "        \"text\": 'Power of criterion',\n",
    "    },\n",
    "    hovermode=\"x\",\n",
    "    template=\"plotly_dark\",\n",
    ")\n",
    "\n",
    "figure.show()"
   ]
  },
  {
   "cell_type": "code",
   "execution_count": 28,
   "id": "a218e4da-d3a2-4965-8e95-29de47890951",
   "metadata": {},
   "outputs": [],
   "source": [
    "#| echo: false\n",
    "figure.write_json(\"power-dynamic-with-waiting.json\")"
   ]
  },
  {
   "cell_type": "raw",
   "id": "be03b8c7-58bc-417c-a46d-d5605952fdfc",
   "metadata": {},
   "source": [
    "{{< plotly obj=power-dynamic-with-waiting >}}"
   ]
  },
  {
   "cell_type": "markdown",
   "id": "151f8bae-05d5-4696-9186-c8a0f7940fbd",
   "metadata": {},
   "source": [
    "Essentially, it's a mediocre example, when it comes to the real experiments we usually have more hidden variables that impact metrics maturation: working days and hours, holidays, etc.\n",
    "To show you the dependency on the day of the week let me add a basic weekly seasonality.\n",
    "In simple words a delay to maturation of the metric during the weekend is added, that applies a sense of a business process that can't be done on a weekend so conversion happens only during the working week.\n",
    "Of course it's intensely simplified example that only takes into account the first week of the maturation and doesn't account for users variation per day, the result speaks for itself though."
   ]
  },
  {
   "cell_type": "code",
   "execution_count": 29,
   "id": "bb9392eb-bfd0-45f7-ba90-64749475c503",
   "metadata": {},
   "outputs": [],
   "source": [
    "def generate_sample(\n",
    "    conv_proba: float,\n",
    "    exp_duration: int,\n",
    "    users_per_day: int,\n",
    "    extra_waiting_days: int,\n",
    "    weekday_exp_start: int,\n",
    ") -> int:\n",
    "    \"\"\"\n",
    "    Extra Args:\n",
    "        weekday_exp_start: number of a weekday in ISO format\n",
    "        From 1 through 7, where Monday = 1 and so on\n",
    "    \"\"\"\n",
    "\n",
    "    rv = distribution(conv_proba)\n",
    "    conversions = 0\n",
    "\n",
    "    for day in range(exp_duration):\n",
    "        data = rv.rvs(users_per_day)\n",
    "        if weekday_exp_start and (weekday_exp_start + day) % 6 == 0:\n",
    "            conversions += sum((data > DEFAULT) & (data + 2 <= day + extra_waiting_days))\n",
    "        elif weekday_exp_start and (weekday_exp_start + day) % 7 == 0:\n",
    "            conversions += sum((data > DEFAULT) & (data + 1 <= day + extra_waiting_days))\n",
    "        else:\n",
    "            conversions += sum((data > DEFAULT) & (data <= day + extra_waiting_days))\n",
    "\n",
    "    return conversions"
   ]
  },
  {
   "cell_type": "markdown",
   "id": "bbd89276-72de-4413-a52c-723ff69a1c9b",
   "metadata": {},
   "source": [
    "As a rule of thumb the experiments are run during the working week only and are analyzed during the working week, usually if one was run on the night from Monday to Tuesday it will be stopped on the corresponding night a few weeks later and analyzed on the next day.\n",
    "I suggest we reproducing this set up and assume we draw a conclusion at the next day after stopping (for simplicity you can imagine that we run all experiments at midnight).\n",
    "How the power of an experiment depends on a day of the week when it was run?"
   ]
  },
  {
   "cell_type": "code",
   "execution_count": 30,
   "id": "1a922b8d-b482-495c-aad6-64d9e7fb1cc1",
   "metadata": {},
   "outputs": [
    {
     "data": {
      "application/vnd.jupyter.widget-view+json": {
       "model_id": "cddeaf2b36f248c1b0de1734f70ed54d",
       "version_major": 2,
       "version_minor": 0
      },
      "text/plain": [
       "  0%|          | 0/5 [00:00<?, ?it/s]"
      ]
     },
     "metadata": {},
     "output_type": "display_data"
    },
    {
     "name": "stdout",
     "output_type": "stream",
     "text": [
      "CPU times: total: 33min 27s\n",
      "Wall time: 33min 28s\n"
     ]
    }
   ],
   "source": [
    "%%time\n",
    "np.random.seed(2024)\n",
    "\n",
    "weekday_power = []\n",
    "\n",
    "for day_of_week in tqdm(range(1, 6)):\n",
    "    result = monte_carlo(aa_test=False, verbose=False, extra_waiting_days=0, weekday_exp_start=day_of_week)\n",
    "    weekday_power.append(result)"
   ]
  },
  {
   "cell_type": "code",
   "execution_count": null,
   "id": "51611fd6-6d6c-4b50-ba92-cd53e3bc9a8d",
   "metadata": {},
   "outputs": [],
   "source": [
    "#| eval: false\n",
    "\n",
    "import plotly.graph_objects as go\n",
    "\n",
    "fig = go.Figure()\n",
    "\n",
    "fig.add_trace(go.Bar(\n",
    "    name='TPR',\n",
    "    x=['Mon', 'Tue', 'Wed', 'Thu', 'Fri'],\n",
    "    y=[v[1] for v in weekday_power],\n",
    "    marker_color=next(palette),\n",
    "    error_y=dict(type='data', array=[round(v[1] - v[0], 3) for v in weekday_power]),\n",
    "))\n",
    "\n",
    "fig.update_layout(\n",
    "    yaxis_title='True Positive Rate',\n",
    "    title={\n",
    "        \"x\": 0.5,\n",
    "        \"text\": 'Power of criterion',\n",
    "    },\n",
    "    hovermode=\"x\",\n",
    "    template=\"plotly_dark\",\n",
    ")\n",
    "\n",
    "fig.show()"
   ]
  },
  {
   "cell_type": "code",
   "execution_count": 55,
   "id": "69eabc8d-59b4-4f43-bff4-829fbe3e7a93",
   "metadata": {},
   "outputs": [],
   "source": [
    "#| echo: false\n",
    "fig.write_json(\"power-by-weekdays.json\")"
   ]
  },
  {
   "cell_type": "raw",
   "id": "0bcfcac0-3498-4102-80d0-eed63cd09204",
   "metadata": {},
   "source": [
    "{{< plotly obj=power-by-weekdays >}}"
   ]
  },
  {
   "cell_type": "markdown",
   "id": "9dfeca7f-80b4-4d02-868e-ad161873d10a",
   "metadata": {},
   "source": [
    "As expected, worst day of the week scenario is Monday, interesting what happens to the power if we're ready to wait with analysis for an extra week until the next Monday?"
   ]
  },
  {
   "cell_type": "code",
   "execution_count": 33,
   "id": "01cce677-d2f0-436b-96c0-4cfee98a74ff",
   "metadata": {},
   "outputs": [
    {
     "name": "stdout",
     "output_type": "stream",
     "text": [
      "TPR of 12% effect size \n",
      "for 21-day's experiment\n",
      "with 7 buffer days in the end\n",
      "where 10,000 users are exposed per day:\n",
      " 0.623 ± 0.025\n"
     ]
    }
   ],
   "source": [
    "np.random.seed(2024)\n",
    "_ = monte_carlo(aa_test=False, extra_waiting_days=7, weekday_exp_start=1)"
   ]
  },
  {
   "cell_type": "markdown",
   "id": "4df28910-e805-486c-a82b-1916b0cad35a",
   "metadata": {},
   "source": [
    "It improves the power and levels the weekday effect out; it's what I suggest you take away: any extra dependency complicates the process and may decrease the power, although to wait for an extra week to let the metric reach its maturation appears to be a solution anyway."
   ]
  },
  {
   "cell_type": "markdown",
   "id": "46ea7e4b-f7ca-4e51-9f30-ce6caf5760f5",
   "metadata": {},
   "source": [
    "### Baking Window"
   ]
  },
  {
   "cell_type": "markdown",
   "id": "024aa7e5-2d7d-43de-b880-6e40673c17b3",
   "metadata": {},
   "source": [
    "Often it's suggested to use a baking window concept: so to register a conversion during the defined time frame respectively for every cohort, it's a viable option and always a go-to technique. \n",
    "Let's compare such a \"cohort based\" approach power against the basis \"count everything that's converted so far\"."
   ]
  },
  {
   "cell_type": "code",
   "execution_count": 34,
   "id": "d1dc47bc-fc80-4e05-aded-a1ec2947141b",
   "metadata": {},
   "outputs": [],
   "source": [
    "def generate_sample(\n",
    "    conv_proba: float,\n",
    "    exp_duration: int,\n",
    "    users_per_day: int,\n",
    "    baking_window: int,\n",
    ") -> int:\n",
    "    \"\"\"\n",
    "    Extra Args:\n",
    "        baking_window: only count a conversion if it happens during this number of days\n",
    "    \"\"\"\n",
    "\n",
    "    rv = distribution(conv_proba)\n",
    "    data = rv.rvs(users_per_day * exp_duration)\n",
    "    conversions = sum((data > DEFAULT) & (data < baking_window))\n",
    "\n",
    "    return conversions"
   ]
  },
  {
   "cell_type": "markdown",
   "id": "8f326f15-444c-408d-aae0-57811ab1a03d",
   "metadata": {},
   "source": [
    "We need to recalculate sample size as it would be different because now the ultimate conversion is lower, we only take into account specific time frame for every cohort. "
   ]
  },
  {
   "cell_type": "code",
   "execution_count": 35,
   "id": "a962b56d-913e-477a-91d8-34d99e846994",
   "metadata": {},
   "outputs": [
    {
     "data": {
      "text/plain": [
       "{'variant': ['B', 'C'],\n",
       " 'statistic': array([0.77838058, 0.30579237]),\n",
       " 'p-value': array([0.65239556, 0.93402278])}"
      ]
     },
     "execution_count": 35,
     "metadata": {},
     "output_type": "execute_result"
    }
   ],
   "source": [
    "input = dict()\n",
    "\n",
    "input[\"names\"] = [chr(ord(\"A\") + i) for i in range(N_GROUPS)]\n",
    "input[\"variant\"] = input[\"names\"][-1]\n",
    "\n",
    "input[\"base\"] = [DURATION_DAYS * USERS_PER_DAY] * N_GROUPS\n",
    "input[\"target\"] = [generate_sample(CONVERSION, DURATION_DAYS, USERS_PER_DAY, baking_window=7) for _ in range(N_GROUPS)]\n",
    "\n",
    "test = ZDunnett(input, \"base\", \"target\", \"names\", \"variant\")\n",
    "\n",
    "test.groups_results()"
   ]
  },
  {
   "cell_type": "code",
   "execution_count": 36,
   "id": "f8f49e22-43e7-4bc9-a543-b97abce4631f",
   "metadata": {},
   "outputs": [
    {
     "data": {
      "text/plain": [
       "344708"
      ]
     },
     "execution_count": 36,
     "metadata": {},
     "output_type": "execute_result"
    }
   ],
   "source": [
    "min_sample_size(mde=EFFECT_SIZE * np.mean(test.p_samples / test.n_samples), var=test.variance)"
   ]
  },
  {
   "cell_type": "markdown",
   "id": "7d4d6d99-08f6-4d77-822b-ebcf34ea48d8",
   "metadata": {},
   "source": [
    "As you can see more days of sampling are required for this technique, followed by those after the end of experiment when we wait for a convergence of a conversion."
   ]
  },
  {
   "cell_type": "code",
   "execution_count": 37,
   "id": "cd2cb6db-78da-4da3-a1ff-010e7c106a8b",
   "metadata": {},
   "outputs": [
    {
     "name": "stdout",
     "output_type": "stream",
     "text": [
      "TPR of 12% effect size \n",
      "for 21-day's experiment\n",
      "with baking window of 7 days\n",
      "where 10,000 users are exposed per day:\n",
      " 0.594 ± 0.026\n"
     ]
    }
   ],
   "source": [
    "np.random.seed(2024)\n",
    "_ = monte_carlo(aa_test=False, baking_window=7)"
   ]
  },
  {
   "cell_type": "markdown",
   "id": "9be5092f-3a5e-458b-8eb7-0905b25e6558",
   "metadata": {},
   "source": [
    "If no more days provided - then the power is rather low, although for more extensive experiment it's mush higher."
   ]
  },
  {
   "cell_type": "code",
   "execution_count": 38,
   "id": "6b54c5ef-36a9-4b92-bfd5-f45c6f5de268",
   "metadata": {},
   "outputs": [
    {
     "name": "stdout",
     "output_type": "stream",
     "text": [
      "TPR of 12% effect size \n",
      "for 28-day's experiment\n",
      "with baking window of 7 days\n",
      "where 10,000 users are exposed per day:\n",
      " 0.712 ± 0.024\n"
     ]
    }
   ],
   "source": [
    "np.random.seed(2024)\n",
    "_ = monte_carlo(aa_test=False, exp_duration=28, baking_window=7)"
   ]
  },
  {
   "cell_type": "markdown",
   "id": "33fbfdc1-78d2-461b-b1e8-1e05222d08cf",
   "metadata": {},
   "source": [
    "So, it's interesting which strategy outperforms another one, so let's make a comparison for different time spans. \n",
    " - the first one it's just how many days we wait until the end of experiment before the analysis\n",
    " - with the second one in addition baking window is applied, so we only count a conversion within a specific window that is exact same width like the break after the end of the experiment"
   ]
  },
  {
   "cell_type": "code",
   "execution_count": 39,
   "id": "7490f975-4248-440c-baf9-3ae1cd782237",
   "metadata": {},
   "outputs": [
    {
     "data": {
      "application/vnd.jupyter.widget-view+json": {
       "model_id": "efa549a869964e18866bdbc89d8e6f8c",
       "version_major": 2,
       "version_minor": 0
      },
      "text/plain": [
       "  0%|          | 0/11 [00:00<?, ?it/s]"
      ]
     },
     "metadata": {},
     "output_type": "display_data"
    },
    {
     "name": "stdout",
     "output_type": "stream",
     "text": [
      "CPU times: total: 1h 16min 21s\n",
      "Wall time: 1h 16min 40s\n"
     ]
    }
   ],
   "source": [
    "%%time\n",
    "np.random.seed(2024)\n",
    "\n",
    "power_baking_window = []\n",
    "\n",
    "for to_wait_for in tqdm(range(1, 22, 2)):\n",
    "    result = monte_carlo(aa_test=False, verbose=False, baking_window=to_wait_for)\n",
    "    power_baking_window.append(result)"
   ]
  },
  {
   "cell_type": "code",
   "execution_count": null,
   "id": "c2b82f67-a36c-4a97-9aba-49037eea0ff8",
   "metadata": {},
   "outputs": [],
   "source": [
    "#| eval: false\n",
    "figure = go.Figure()\n",
    "\n",
    "add_chart(figure, power_with_waiting, title=\"w/o baking window\", showtitle=True)\n",
    "add_chart(figure, power_baking_window, title=\"with baking window\", showtitle=True)\n",
    "\n",
    "figure.update_xaxes(\n",
    "    title_text=\"Days passed since the exposure was stopped (doubles up as baking window width)\"\n",
    ")\n",
    "\n",
    "figure.update_layout(\n",
    "    yaxis_title='True Positive Rate',\n",
    "    title={\n",
    "        \"x\": 0.5,\n",
    "        \"text\": 'Power of criterion (3 weeks experiment)',\n",
    "    },\n",
    "    hovermode=\"x\",\n",
    "    template=\"plotly_dark\",\n",
    ")\n",
    "\n",
    "figure.show()"
   ]
  },
  {
   "cell_type": "code",
   "execution_count": 75,
   "id": "586a7b41-95fb-4750-ade7-d35fe9b52710",
   "metadata": {},
   "outputs": [],
   "source": [
    "#| echo: false\n",
    "figure.write_json(\"power-comparison-baking-window.json\")"
   ]
  },
  {
   "cell_type": "raw",
   "id": "9f4867fa-559d-4f1a-b032-b5fb040e68c6",
   "metadata": {},
   "source": [
    "{{< plotly obj=power-comparison-baking-window >}}"
   ]
  },
  {
   "cell_type": "markdown",
   "id": "576ffeeb-4343-44bd-b038-b87371e0651e",
   "metadata": {},
   "source": [
    "So, for the analyzed set up it's obvious that the basic approach is a winner and uniformly no less powerful. \n",
    "It provides a higher power by a wide margin if you wait just a few days after the experiment while if you have a forbearance to wait longer the difference is not significant."
   ]
  },
  {
   "cell_type": "code",
   "execution_count": 42,
   "id": "bb880ab5-2aa3-4d21-9bce-bb13658e42ea",
   "metadata": {},
   "outputs": [
    {
     "data": {
      "application/vnd.jupyter.widget-view+json": {
       "model_id": "8a07f745d3634dd0861ae668aa44c61d",
       "version_major": 2,
       "version_minor": 0
      },
      "text/plain": [
       "  0%|          | 0/11 [00:00<?, ?it/s]"
      ]
     },
     "metadata": {},
     "output_type": "display_data"
    },
    {
     "name": "stdout",
     "output_type": "stream",
     "text": [
      "CPU times: total: 1h 43min 17s\n",
      "Wall time: 1h 43min 22s\n"
     ]
    }
   ],
   "source": [
    "%%time\n",
    "np.random.seed(2024)\n",
    "\n",
    "power_baking_window_4weeks = []\n",
    "\n",
    "for to_wait_for in tqdm(range(1, 22, 2)):\n",
    "    result = monte_carlo(aa_test=False, verbose=False, exp_duration=28, effect_size=0.10, baking_window=to_wait_for)\n",
    "    power_baking_window_4weeks.append(result)"
   ]
  },
  {
   "cell_type": "markdown",
   "id": "fb38e319-6dbe-4fb8-8f26-5461fc78722c",
   "metadata": {},
   "source": [
    "One last thing that is important to be mentioned is how this tendency is affected by a duration of an experiment. \n",
    "It's quite obvious that the longer experiment takes the less significant will be an effect of waiting (under the conditions of the same target metric maturation curve). \n",
    "Here is the comparison similar to one above but for 4-weeks experiment with a little less effect size, so it shall show close power numbers. "
   ]
  },
  {
   "cell_type": "code",
   "execution_count": null,
   "id": "0e38c587-75d7-4da9-be0b-69f3276e4eae",
   "metadata": {},
   "outputs": [],
   "source": [
    "#| eval: false\n",
    "figure = go.Figure()\n",
    "\n",
    "add_chart(figure, power_with_waiting_4weeks, title=\"w/o baking window\", showtitle=True)\n",
    "add_chart(figure, power_baking_window_4weeks, title=\"with baking window\", showtitle=True)\n",
    "\n",
    "figure.update_xaxes(\n",
    "    title_text=\"Days passed since the exposure was stopped (doubles up as baking window width)\"\n",
    ")\n",
    "\n",
    "figure.update_layout(\n",
    "    yaxis_title='True Positive Rate',\n",
    "    title={\n",
    "        \"x\": 0.5,\n",
    "        \"text\": 'Power of Сriterion (4 weeks experiment)',\n",
    "    },\n",
    "    hovermode=\"x\",\n",
    "    template=\"plotly_dark\",\n",
    ")\n",
    "\n",
    "figure.show()"
   ]
  },
  {
   "cell_type": "code",
   "execution_count": 77,
   "id": "b2bf52cc-d76c-4422-9820-2187e1533e8e",
   "metadata": {},
   "outputs": [],
   "source": [
    "#| echo: false\n",
    "figure.write_json(\"power-comparison-baking-window-4weeks.json\")"
   ]
  },
  {
   "cell_type": "raw",
   "id": "507b9cc6-0187-4e9b-ac3e-76111dbac203",
   "metadata": {},
   "source": [
    "{{< plotly obj=power-comparison-baking-window-4weeks >}}"
   ]
  },
  {
   "cell_type": "markdown",
   "id": "01daa294-1fb0-4720-9c9f-b9819116e586",
   "metadata": {
    "editable": true,
    "slideshow": {
     "slide_type": ""
    },
    "tags": []
   },
   "source": [
    "So, two observations:\n",
    " - it seems that no matter what is the experiment's duration the strategy where all events are counted works better in case of a short baking window \n",
    " - waiting at least for a week after the experiment is over for more conversions to happen is must for short experiments only"
   ]
  },
  {
   "cell_type": "markdown",
   "id": "3ff8e83b-2ea4-40e1-a88b-b5c920a93a64",
   "metadata": {},
   "source": [
    "## Conclusion"
   ]
  },
  {
   "cell_type": "markdown",
   "id": "652094f6-8bfe-458e-b3fe-6b8109ba0e4a",
   "metadata": {},
   "source": [
    "Now you know, how important it's to give your metric time to mature and don't rush with the conclusions for \"gray\" experiments, even if you didn't reach statistically significant result immediately after you stopped the exposure to the experiment, it doesn't mean that you would finally get it a little later.\n",
    "\n",
    "The effect is especially great for the shorter experiments, within your data specific the time frames may strongly vary although this rule is an invariant, the longer you run it the less power you lose when drawing a conclusion right after the experiment's finish. However it totally makes sense to give some time to the recent users to have their conversions if you want to take them into account in the same way as those who came earlier, otherwise the latest users performance is neglected and the conclusion relies on those who came earlier mostly.\n",
    "\n",
    "The final thought is that not every time well-known techniques fits your personal set up, in our case it was easy to show that movement to a baking window can only either (or even both simultaneously) drop the power down or push the experiment duration up, so the simpler default approach works uniformly better."
   ]
  },
  {
   "cell_type": "code",
   "execution_count": null,
   "id": "9f6866d6-9825-45dc-896f-5b2c2117abab",
   "metadata": {},
   "outputs": [],
   "source": []
  }
 ],
 "metadata": {
  "kernelspec": {
   "display_name": "Python 3 (ipykernel)",
   "language": "python",
   "name": "python3"
  },
  "language_info": {
   "codemirror_mode": {
    "name": "ipython",
    "version": 3
   },
   "file_extension": ".py",
   "mimetype": "text/x-python",
   "name": "python",
   "nbconvert_exporter": "python",
   "pygments_lexer": "ipython3",
   "version": "3.11.4"
  }
 },
 "nbformat": 4,
 "nbformat_minor": 5
}
