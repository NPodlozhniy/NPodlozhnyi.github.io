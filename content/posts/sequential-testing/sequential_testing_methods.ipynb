{
 "cells": [
  {
   "cell_type": "raw",
   "metadata": {},
   "source": [
    "---\n",
    "title: \"Sequential Testing Guide\"\n",
    "summary: \"How GST is often misinterpreted and why its genuine version is way better than AVI?\"\n",
    "author: \"Nikita Podlozhniy\"\n",
    "date: \"2024-12-25\"\n",
    "format:\n",
    "    hugo-md:\n",
    "        output-file: \"sequential-testing.md\"\n",
    "        html-math-method: katex\n",
    "        code-fold: true\n",
    "jupyter: python3\n",
    "execute:\n",
    "    enabled: false\n",
    "---"
   ]
  },
  {
   "cell_type": "markdown",
   "metadata": {
    "id": "oHzsTIEf782C"
   },
   "source": [
    "# Intro\n",
    "Sequential testing designs have gained significant popularity in AB testing due to their ability to potentially reduce the required sample size and experiment duration while maintaining statistical correctness. This approach allows for interim analyses of data as it accumulates, offering the possibility to stop the experiment early if a clear winner emerges, or if it becomes evident that the treatment effect is insufficient to justify continuing (stop for futility)\n",
    "\n",
    "In this article, we shift our focus away from the theoretical intricacies of the problem and instead delve into a comprehensive exploration of available sequential testing solutions. We will discuss their implementations, compare their performance, and highlight their strengths and weaknesses. By examining these practical aspects, we aim to equip practitioners with the knowledge to make informed decisions when incorporating sequential testing into their AB testing workflows."
   ]
  },
  {
   "cell_type": "markdown",
   "metadata": {
    "id": "CrdB3jlx9Tv6"
   },
   "source": [
    "# Approach\n",
    "\n",
    "Among the variety of sequential testing designs, there are basically two broad families of algorithms: Group Sequential Testing (GST) and Always Valid Inference (AVI). These methods represent distinct philosophies in their handling of interim analyses and experiment stopping criteria..\n",
    "\n",
    " - GST works with predefined interim analysis points and utilizes predetermined stopping boundaries to decide whether to stop the experiment at each stage.\n",
    "\n",
    " - AVI allows continuous monitoring and providing valid confident intervals at any point, making it adaptable for uncertain experiment duration or analysis frequencies.\n",
    "\n",
    "This article primarily focuses on these two techniques, providing an overview of their methodologies and practical implications."
   ]
  },
  {
   "cell_type": "markdown",
   "metadata": {
    "id": "D73-XqtW-q1s"
   },
   "source": [
    "# Group Sequential Testing"
   ]
  },
  {
   "cell_type": "markdown",
   "metadata": {
    "id": "9ogT3HIY-yKE"
   },
   "source": [
    "For group sequential testing there is a handy [package in R](https://github.com/cran/ldbounds/blob/master/R/ldBounds.R) and I will show below how to use it, although for those, who prefers Python due to any reason, whether it is the absence of an interpreter, infrastructure limitations or just personal preferences, there is no direct and popular alternative package, so I had to write it on my own and now ready to share with you after careful testing and benchmarking."
   ]
  },
  {
   "cell_type": "markdown",
   "metadata": {
    "id": "peGrMiScAMKn"
   },
   "source": [
    "## GST in R"
   ]
  },
  {
   "cell_type": "markdown",
   "metadata": {
    "id": "kv-ifwNSAa_z"
   },
   "source": [
    "If you're ready to use R library there are two options: use R runtime directly or through `rpy2` Python package.\n",
    "Both options are available for example within Google Colab environment.\n",
    "\n",
    "Here is an instance of `rpy2` package inference within Colab Notebook, when you run R code from the Python interpreter using an extension."
   ]
  },
  {
   "cell_type": "markdown",
   "metadata": {
    "id": "hvt2GnPOBBap"
   },
   "source": [
    "### iPython Notebook"
   ]
  },
  {
   "cell_type": "code",
   "execution_count": 1,
   "metadata": {
    "id": "iLSo6UqZ0I27"
   },
   "outputs": [],
   "source": [
    "#| code-fold: false\n",
    "#| eval: false\n",
    "%load_ext rpy2.ipython"
   ]
  },
  {
   "cell_type": "code",
   "execution_count": 2,
   "metadata": {
    "colab": {
     "base_uri": "https://localhost:8080/"
    },
    "id": "R76klrhd719Z",
    "outputId": "04e63036-2590-495a-e60e-1c982c7c9c21"
   },
   "outputs": [],
   "source": [
    "#| code-fold: false\n",
    "#| output: false\n",
    "#| eval: false\n",
    "%%R\n",
    "R.version.string\n",
    "install.packages(\"ldbounds\")"
   ]
  },
  {
   "cell_type": "code",
   "execution_count": 3,
   "metadata": {
    "colab": {
     "base_uri": "https://localhost:8080/"
    },
    "id": "YaarsRXP3Qzl",
    "outputId": "98a2c19b-a1ab-4398-bd36-38ad9334a357"
   },
   "outputs": [],
   "source": [
    "#| code-fold: false\n",
    "#| output: asis\n",
    "#| eval: false\n",
    "%%R\n",
    "library(ldbounds)\n",
    "ldBounds(t=seq(1/4, 1, 1/4), iuse=3, phi=1, alpha=0.05, sides=1)$upper.bounds"
   ]
  },
  {
   "cell_type": "markdown",
   "metadata": {
    "id": "yYDKHiN_fAGH"
   },
   "source": [
    "### Python File\n",
    "\n",
    "The code above may be rewritten into a simple `.py` file as follows, you are to use created `stats` package as a plain Python package thereafter."
   ]
  },
  {
   "cell_type": "raw",
   "metadata": {},
   "source": [
    "::: {.callout-note}\n",
    "It will not work in Google Colab for instance, as it R installed in addition to Python.\n",
    ":::"
   ]
  },
  {
   "cell_type": "code",
   "execution_count": 4,
   "metadata": {
    "id": "b5xEEmZw7j1C"
   },
   "outputs": [],
   "source": [
    "#| eval: false\n",
    "import rpy2.robjects.packages as rpackages\n",
    "from rpy2.robjects.vectors import StrVector\n",
    "\n",
    "utils = rpackages.importr('utils')\n",
    "\n",
    "# select a mirror for R packages\n",
    "utils.chooseCRANmirror(ind=1)\n",
    "\n",
    "# R package names\n",
    "packnames = ('ldbounds')\n",
    "\n",
    "# Selectively install what needs to be install.\n",
    "names_to_install = [\n",
    "    package for package in packnames if not rpackages.isinstalled(package)\n",
    "]\n",
    "\n",
    "if len(names_to_install) > 0:\n",
    "    utils.install_packages(StrVector(names_to_install))\n",
    "\n",
    "stats = rpackages.importr('ldbounds')"
   ]
  },
  {
   "cell_type": "markdown",
   "metadata": {},
   "source": [
    "If R is not your cup of tea, or simply there is no option to run it within the scope of the production infrastructure, what is the most common limitation by the way, now begins exactly what you need."
   ]
  },
  {
   "cell_type": "markdown",
   "metadata": {
    "id": "BfAaLKSgXolC"
   },
   "source": [
    "## GST in Python"
   ]
  },
  {
   "cell_type": "markdown",
   "metadata": {
    "id": "Use9VWlbbGLZ"
   },
   "source": [
    "There is quite popular incorrect implementation powered by Zalando [`expan`](https://github.com/zalando/expan/blob/master/expan/core/early_stopping.py)\n",
    "\n",
    "It works without probability integration and mistakenly leverage alpha spending function as a critical value at each step, it's common misunderstanding about alpha-spending function approach, there are number of implementations that do it the exact same wrong way, and even world's leading publication for data science, according to their own definition, makes the same mistakes, for instance: [Understanding of Group Sequential Testing published in Towards Data Science](https://towardsdatascience.com/understanding-group-sequential-testing-befb35cec07a)\n",
    "\n",
    "As it will shown below that approach is statistically incorrect and so it's highly recommended to avoid it.\n",
    "\n",
    "Instead I propose you to apply the new library [`seqabpy`](https://github.com/NPodlozhniy/seqabpy) that is powerful and accurate and what is more important implemented according to the original papers [Interim analysis:\n",
    "The alpha spending function approach by K. K. Gordon Lan and David L. DeMets (1983)](https://eclass.uoa.gr/modules/document/file.php/MATH301/PracticalSession3/LanDeMets.pdf) and further related publications, you may find them all mentioned in Reference lines of the methods' docstrings, let's take a look at the functionality"
   ]
  },
  {
   "cell_type": "code",
   "execution_count": 5,
   "metadata": {
    "id": "lKEoYY-eI9fL"
   },
   "outputs": [],
   "source": [
    "import numpy as np\n",
    "import pandas as pd\n",
    "\n",
    "from scipy.stats import norm"
   ]
  },
  {
   "cell_type": "markdown",
   "metadata": {
    "id": "wMAFqJB-SlV4"
   },
   "source": [
    "`seabpy` provides Group Sequential Testing in a separate module - `gatsby` which name is an anagram of **G**roup **S**equential **AB T**esting in **PY**thon and below it's shown why `gatsby` is often referred as «The Great Gatsby»"
   ]
  },
  {
   "cell_type": "code",
   "execution_count": 6,
   "metadata": {
    "id": "ENt1IYQbQqly"
   },
   "outputs": [],
   "source": [
    "#| code-fold: false\n",
    "#| output: false\n",
    "#!pip install seqabpy\n",
    "from seqabpy import gatsby"
   ]
  },
  {
   "cell_type": "markdown",
   "metadata": {
    "id": "eyV7B-iVfG14"
   },
   "source": [
    "### Lan-DeMets"
   ]
  },
  {
   "cell_type": "markdown",
   "metadata": {
    "id": "kHBV8GTwIgiB"
   },
   "source": [
    "`calculate_sequential_bounds` function implements rigorous approach to calculate confidence bounds in one-sided GST.\n",
    "In addition to upper bounds, if `beta` is provided it calculates lower bounds to unlock the option of stopping the test for futility, maintaining provided Type II error rate. The algorithm is taken from the article [Group sequential designs using both type I and type II error probability spending functions by Chang MN, Hwang I, Shih WJ. (1998)](https://www.tandfonline.com/doi/abs/10.1080/03610929808832161)"
   ]
  },
  {
   "cell_type": "code",
   "execution_count": 7,
   "metadata": {
    "colab": {
     "base_uri": "https://localhost:8080/"
    },
    "id": "zcV4qVhKGht2",
    "outputId": "80121ac4-d811-43f1-8dcb-3ab295c6bfd8"
   },
   "outputs": [
    {
     "name": "stdout",
     "output_type": "stream",
     "text": [
      "Sequential bounds algorithm to stop for futility converged to 0.00064 tolerance in 8 iterations using O'Brien-Fleming spending function.\n"
     ]
    },
    {
     "data": {
      "text/plain": [
       "(array([-3.02102866, -1.41478896, -0.59632535, -0.05664366,  0.35069266,\n",
       "         0.68203514,  0.96419224,  1.21185008,  1.43395402,  1.79496377]),\n",
       " array([6.08789285, 4.22919942, 3.39632756, 2.90614903, 2.57897214,\n",
       "        2.34174062, 2.15981329, 2.0146325 , 1.89528829, 1.79496377]))"
      ]
     },
     "execution_count": 3,
     "metadata": {},
     "output_type": "execute_result"
    }
   ],
   "source": [
    "#| code-fold: false\n",
    "gatsby.calculate_sequential_bounds(np.linspace(1/10, 1, 10), alpha=0.05, beta=0.2)"
   ]
  },
  {
   "cell_type": "markdown",
   "metadata": {
    "id": "fM1hxhAxICum"
   },
   "source": [
    "`ldBounds` function returns  the exact same numbers as R package and tailored to have similar interface, in both input and output.\n",
    "\n",
    "As a subtle benefit it supports more spending functions, take a look at the docstring to know more details."
   ]
  },
  {
   "cell_type": "code",
   "execution_count": 8,
   "metadata": {
    "colab": {
     "base_uri": "https://localhost:8080/"
    },
    "id": "z35aUN73UJdX",
    "outputId": "ee807996-0e9f-4e06-b51f-7213cf7f4e74"
   },
   "outputs": [
    {
     "data": {
      "text/plain": [
       "{'time.points': array([0.25, 0.5 , 0.75, 1.  ]),\n",
       " 'alpha.spending': array([0.0125, 0.0125, 0.0125, 0.0125]),\n",
       " 'overall.alpha': 0.05,\n",
       " 'upper.bounds': array([2.24140273, 2.1251188 , 2.01870509, 1.92553052]),\n",
       " 'nominal.alpha': array([0.0125    , 0.01678835, 0.02175894, 0.02708151])}"
      ]
     },
     "execution_count": 4,
     "metadata": {},
     "output_type": "execute_result"
    }
   ],
   "source": [
    "#| code-fold: false\n",
    "gatsby.ldBounds(t=np.linspace(1/4, 1, 4), iuse=3, phi=1)"
   ]
  },
  {
   "cell_type": "markdown",
   "metadata": {
    "id": "DIPmVuR8JcTL"
   },
   "source": [
    "In case of calculation of upper bounds only the algorithm is faster, given that these boundaries shall be defined and fixed offline prior to the experiment start, it's totally sensible performance, when in addition lower aka futility bounds are computed it takes more time"
   ]
  },
  {
   "cell_type": "code",
   "execution_count": 9,
   "metadata": {
    "colab": {
     "base_uri": "https://localhost:8080/"
    },
    "id": "ga2Rji9e7kDh",
    "outputId": "27756ba6-6006-4bfa-dfcb-cddaf5438580"
   },
   "outputs": [
    {
     "name": "stdout",
     "output_type": "stream",
     "text": [
      "CPU times: total: 7.73 s\n",
      "Wall time: 7.75 s\n"
     ]
    },
    {
     "data": {
      "text/plain": [
       "{'time.points': array([0.1, 0.2, 0.3, 0.4, 0.5, 0.6, 0.7, 0.8, 0.9, 1. ]),\n",
       " 'alpha.spending': array([1.97703624e-07, 2.34868089e-04, 2.43757240e-03, 6.62960181e-03,\n",
       "        1.07070137e-02, 1.37029812e-02, 1.55891351e-02, 1.66134835e-02,\n",
       "        1.70337597e-02, 1.70513868e-02]),\n",
       " 'overall.alpha': 0.10000000000000009,\n",
       " 'upper.bounds': array([5.07115563, 3.4973068 , 2.79510152, 2.38848818, 2.11870064,\n",
       "        1.92350461, 1.77394818, 1.65463799, 1.55659472, 1.47418673]),\n",
       " 'nominal.alpha': array([1.97703624e-07, 2.34990500e-04, 2.59417098e-03, 8.45892623e-03,\n",
       "        1.70578873e-02, 2.72083541e-02, 3.80358613e-02, 4.89989759e-02,\n",
       "        5.97833696e-02, 7.02156613e-02])}"
      ]
     },
     "execution_count": 5,
     "metadata": {},
     "output_type": "execute_result"
    }
   ],
   "source": [
    "#| code-fold: false\n",
    "%%time\n",
    "gatsby.ldBounds(t=np.linspace(1/10, 1, 10), alpha=0.1)"
   ]
  },
  {
   "cell_type": "markdown",
   "metadata": {
    "id": "UoUoazl1JX-a"
   },
   "source": [
    "An example of less popular Haybittle-Peto spending function usage"
   ]
  },
  {
   "cell_type": "code",
   "execution_count": 10,
   "metadata": {
    "colab": {
     "base_uri": "https://localhost:8080/"
    },
    "id": "VAYZEwZR7rZT",
    "outputId": "9823afe8-9ff2-454f-9ece-4ac6b1e8e436"
   },
   "outputs": [
    {
     "data": {
      "text/plain": [
       "{'time.points': array([0.25, 0.5 , 0.75, 1.  ]),\n",
       " 'alpha.spending': array([0.0013499, 0.       , 0.       , 0.0486501]),\n",
       " 'overall.alpha': 0.05,\n",
       " 'upper.bounds': array([3.        , 3.        , 3.        , 1.63391418]),\n",
       " 'nominal.alpha': array([0.0013499 , 0.0013499 , 0.0013499 , 0.05113844])}"
      ]
     },
     "execution_count": 6,
     "metadata": {},
     "output_type": "execute_result"
    }
   ],
   "source": [
    "#| code-fold: false\n",
    "gatsby.ldBounds(t=np.linspace(1/4, 1, 4), iuse=5)"
   ]
  },
  {
   "cell_type": "markdown",
   "metadata": {
    "id": "1TLpIZHoX7_S"
   },
   "source": [
    "### GST"
   ]
  },
  {
   "cell_type": "markdown",
   "metadata": {
    "id": "UehI_SiacO5S"
   },
   "source": [
    "`GST` is the general function that accounts for various deviations in the experiment design, in other words if the peeking strategy is different the method adjusts the bounds to guarantee the valid statistical approach whenever it's possible.\n",
    "\n",
    "In particular it's perfect to handle a few changed peeking points when the total number of peeking remains the same, and it works in a best possible way with under- and oversampling, in the latter case the procedure is not fully correct though as we will see in the simulations part.\n",
    "\n",
    "The idea of implementation is taken from [Group Sequential and Confirmatory Adaptive Designs in Clinical Trials by G. Wassmer and  W. Brannath (2016)](https://link.springer.com/book/10.1007/978-3-319-32562-0)"
   ]
  },
  {
   "cell_type": "markdown",
   "metadata": {
    "id": "pKVFFGXecOLc"
   },
   "source": [
    "Here are a few examples, that shows how different peeking strategy affects the bounds:\n"
   ]
  },
  {
   "cell_type": "code",
   "execution_count": 11,
   "metadata": {
    "colab": {
     "base_uri": "https://localhost:8080/"
    },
    "id": "0j8Io99Q6SD9",
    "outputId": "99b1e38e-6db1-4bfb-dce8-e824c15b78fa"
   },
   "outputs": [
    {
     "data": {
      "text/plain": [
       "{'time.points': array([0.3, 0.6, 1. ]),\n",
       " 'alpha.spending': array([4.27257874e-05, 3.76533752e-03, 2.11919367e-02]),\n",
       " 'overall.alpha': 0.02499999999999991,\n",
       " 'upper.bounds': array([3.92857254, 2.669972  , 1.98103004]),\n",
       " 'nominal.alpha': array([4.27257874e-05, 3.79287858e-03, 2.37939526e-02])}"
      ]
     },
     "execution_count": 7,
     "metadata": {},
     "output_type": "execute_result"
    }
   ],
   "source": [
    "#| code-fold: false\n",
    "gatsby.ldBounds(t=np.array([0.3, 0.6, 1.0]), alpha=0.025)"
   ]
  },
  {
   "cell_type": "markdown",
   "metadata": {},
   "source": [
    " - in case of under-sampling the last upper bound is lower what reflects that all the rest of alpha volume is spent at this point\n",
    " - in case of over-sampling the last upper bound is higher, what helps to control Type I error rate, after the expected sample size is reached"
   ]
  },
  {
   "cell_type": "code",
   "execution_count": 12,
   "metadata": {
    "colab": {
     "base_uri": "https://localhost:8080/"
    },
    "id": "Zo5RONH2flQK",
    "outputId": "215d3960-81c1-4343-d8a9-5b619bf1cf5e"
   },
   "outputs": [
    {
     "data": {
      "text/plain": [
       "array([3.92857254, 2.669972  , 1.96890411])"
      ]
     },
     "execution_count": 8,
     "metadata": {},
     "output_type": "execute_result"
    }
   ],
   "source": [
    "#| code-fold: false\n",
    "gatsby.GST(actual=np.array([0.3, 0.6, 0.8]), expected=np.array([0.3, 0.6, 1]), alpha=0.025)"
   ]
  },
  {
   "cell_type": "code",
   "execution_count": 13,
   "metadata": {
    "colab": {
     "base_uri": "https://localhost:8080/"
    },
    "id": "E8auWgGGflJE",
    "outputId": "69168f26-b937-4a0f-f9c3-a9cdeba7a90c"
   },
   "outputs": [
    {
     "data": {
      "text/plain": [
       "array([3.92857254, 2.669972  , 1.98949242])"
      ]
     },
     "execution_count": 9,
     "metadata": {},
     "output_type": "execute_result"
    }
   ],
   "source": [
    "#| code-fold: false\n",
    "gatsby.GST(actual=np.array([0.3, 0.6, 1.2]), expected=np.array([0.3, 0.6, 1]), alpha=0.025)"
   ]
  },
  {
   "cell_type": "markdown",
   "metadata": {
    "id": "GQpSoEq0cRlu"
   },
   "source": [
    "Under- and over- sampling may also happen in a more natural way, when a few peeking points are added or removed"
   ]
  },
  {
   "cell_type": "code",
   "execution_count": 14,
   "metadata": {
    "colab": {
     "base_uri": "https://localhost:8080/"
    },
    "id": "381edtEf7Tjf",
    "outputId": "3e313330-0360-4c99-f3b0-36e0f783e204"
   },
   "outputs": [
    {
     "data": {
      "text/plain": [
       "{'time.points': array([0.3, 0.6, 0.8, 1. ]),\n",
       " 'alpha.spending': array([4.27257874e-05, 3.76533752e-03, 8.40372704e-03, 1.27882097e-02]),\n",
       " 'overall.alpha': 0.02499999999999991,\n",
       " 'upper.bounds': array([3.92857254, 2.669972  , 2.28886308, 2.03074404]),\n",
       " 'nominal.alpha': array([4.27257874e-05, 3.79287858e-03, 1.10436544e-02, 2.11404831e-02])}"
      ]
     },
     "execution_count": 10,
     "metadata": {},
     "output_type": "execute_result"
    }
   ],
   "source": [
    "#| code-fold: false\n",
    "gatsby.ldBounds(t=np.array([0.3, 0.6, 0.8, 1.0]), alpha=0.025)"
   ]
  },
  {
   "cell_type": "code",
   "execution_count": 15,
   "metadata": {
    "colab": {
     "base_uri": "https://localhost:8080/"
    },
    "id": "e7eaadyldAw3",
    "outputId": "2b757501-16d9-441e-8bc1-8f5f6f0cbc19"
   },
   "outputs": [
    {
     "data": {
      "text/plain": [
       "array([3.92857254, 2.669972  , 2.15083427])"
      ]
     },
     "execution_count": 11,
     "metadata": {},
     "output_type": "execute_result"
    }
   ],
   "source": [
    "#| code-fold: false\n",
    "gatsby.GST(actual=np.array([0.3, 0.6, 0.8]), expected=np.array([0.3, 0.6, 0.8, 1]), alpha=0.025)"
   ]
  },
  {
   "cell_type": "code",
   "execution_count": 16,
   "metadata": {
    "colab": {
     "base_uri": "https://localhost:8080/"
    },
    "id": "R53TShZWTVLD",
    "outputId": "9a6f008b-9bc3-4b21-a748-6f7efdd5a66d"
   },
   "outputs": [
    {
     "data": {
      "text/plain": [
       "array([3.92857254, 2.669972  , 1.98102292, 2.0375539 ])"
      ]
     },
     "execution_count": 12,
     "metadata": {},
     "output_type": "execute_result"
    }
   ],
   "source": [
    "#| code-fold: false\n",
    "gatsby.GST(actual=np.array([0.3, 0.6, 1, 1.2]), expected=np.array([0.3, 0.6, 1]), alpha=0.025)"
   ]
  },
  {
   "cell_type": "markdown",
   "metadata": {
    "id": "SP0wdECFcxn2"
   },
   "source": [
    "`GST` also supports `int` as an input, if peeking point are distributed uniformly it's what you should use in sake of convenience"
   ]
  },
  {
   "cell_type": "code",
   "execution_count": 17,
   "metadata": {
    "colab": {
     "base_uri": "https://localhost:8080/"
    },
    "id": "DzTljk-MSMTv",
    "outputId": "9e393a61-1592-40da-dce1-1c5793a6d1ac"
   },
   "outputs": [
    {
     "data": {
      "text/plain": [
       "array([5.05481268, 3.48557771, 2.78550934, 2.38021304, 2.1113425 ,\n",
       "       1.9168349 , 1.76778516])"
      ]
     },
     "execution_count": 13,
     "metadata": {},
     "output_type": "execute_result"
    }
   ],
   "source": [
    "#| code-fold: false\n",
    "gatsby.GST(7, 7)"
   ]
  },
  {
   "cell_type": "markdown",
   "metadata": {
    "id": "hykDr9dsu5aB"
   },
   "source": [
    "While the method comes handy in most of scenarios, it doesn't support all the possible deviations: the beginning of the expected and actual peeking strategies must be the same: so it's either over- or under- sampling or the change in peeking points when their number remains equal\n",
    "\n",
    "Needless to say that the application of `GST` and other functions mentioned above apparently is not limited to one-sided hypotheses, in order to test two-sided alternative: just set $\\alpha$ to half of the value, like `0.025` if you want to challenge two-sided hypothesis at `0.95` confidence level, and define lower bounds symmetrically about zero, so they would be the same in absolute values, but negative."
   ]
  },
  {
   "cell_type": "code",
   "execution_count": 18,
   "metadata": {
    "colab": {
     "base_uri": "https://localhost:8080/"
    },
    "id": "0OfO2i8hdKns",
    "outputId": "7d9a452e-1530-40fe-810c-e6e69d4ddcee"
   },
   "outputs": [
    {
     "data": {
      "text/plain": [
       "array([3.92857254, 2.669972  , 2.30467653, 2.05129976])"
      ]
     },
     "execution_count": 14,
     "metadata": {},
     "output_type": "execute_result"
    }
   ],
   "source": [
    "#| code-fold: false\n",
    "gatsby.GST(actual=np.array([0.3, 0.6, 0.9, 1.2]), expected=np.array([0.3, 0.6, 0.8, 1]), alpha=0.025)\n",
    "\n",
    "# the following will not work\n",
    "# gatsby.GST(actual=np.array([0.3, 0.6]), expected=np.array([0.8, 1]))\n",
    "# gatsby.GST(\n",
    "#     actual=np.array([0.3, 0.5, 0.6, 0.7, 0.8, 0.9, 1]),\n",
    "#     expected=np.array([0.3, 0.6, 0.8, 1])\n",
    "# )"
   ]
  },
  {
   "cell_type": "markdown",
   "metadata": {
    "id": "3Xns3jRXDHe9"
   },
   "source": [
    "# Always Valid Inference"
   ]
  },
  {
   "cell_type": "markdown",
   "metadata": {
    "id": "uToH-bI80OXm"
   },
   "source": [
    "While AVI is becoming increasingly popular in the field, bypassing GST, it's worth noting that there are currently no widely adopted, comprehensive Python or R packages that focus solely on this approach.\n",
    "\n",
    "There is one recent package `savvi` appeared this year, but it's still in `v0..` version and have not been yet fully acknowledged by the community. What is more it focuses only on the publications of Lindon et al. from [2022](https://openreview.net/pdf?id=a4zg0jiuVi) and [2024](https://arxiv.org/pdf/2210.08589), while there are other notable authors like [Zhao et al.](https://arxiv.org/pdf/1905.10493) and [Howard et al.](https://arxiv.org/abs/1810.08240) whose approach will be challenged in addition to Lindon's work"
   ]
  },
  {
   "cell_type": "code",
   "execution_count": 19,
   "metadata": {
    "id": "pORAktcJV0F-"
   },
   "outputs": [],
   "source": [
    "#| code-fold: false\n",
    "from seqabpy import gavi"
   ]
  },
  {
   "cell_type": "markdown",
   "metadata": {
    "id": "z-_nvqEL3v3u"
   },
   "source": [
    "`seqabpy` provides Always Valid Inference functionality in `gavi` module where as of now, `AlwaysValidInference` is a main class that implements confidence intervals valid at any point.\n",
    "While intervals and namely their continuous comparison to the current z-score provides the apparatus that is just enough for practical decisions, `p-values` are to be released later as well, to complete experiment analysis picture.\n",
    "\n",
    "`AlwaysValidInference` an array of sample sizes when the peeking happens along with the metric variance and the result point difference.\n",
    "Multiple supported properties comprise different algorithms (the detailed description may be found in each docsrting) that return a boolean array indicating whether the null hypothesis is rejected in favour of one- or two- sided alternative for each size."
   ]
  },
  {
   "cell_type": "code",
   "execution_count": 20,
   "metadata": {
    "id": "FWh8PWvsTAXq"
   },
   "outputs": [],
   "source": [
    "#| code-fold: false\n",
    "avi = gavi.AlwaysValidInference(size=np.arange(10, 100, 10), sigma2=1, estimate=1)"
   ]
  },
  {
   "cell_type": "markdown",
   "metadata": {
    "id": "shaMpwiy4sId"
   },
   "source": [
    "`GAVI` is the method proposed by Howard et al. and widely adopted in tech by Eppo"
   ]
  },
  {
   "cell_type": "code",
   "execution_count": 21,
   "metadata": {
    "colab": {
     "base_uri": "https://localhost:8080/"
    },
    "id": "PT2psanLThrN",
    "outputId": "ef518de1-1e18-4935-fc8a-94973c13f3b3"
   },
   "outputs": [
    {
     "data": {
      "text/plain": [
       "array([False,  True,  True,  True,  True,  True,  True,  True,  True])"
      ]
     },
     "execution_count": 17,
     "metadata": {},
     "output_type": "execute_result"
    }
   ],
   "source": [
    "#| code-fold: false\n",
    "avi.GAVI(50)"
   ]
  },
  {
   "cell_type": "markdown",
   "metadata": {
    "id": "oJFe1vsv46Co"
   },
   "source": [
    "`mSPRT` is the approach proposed by M. Lindon in his article and is leveraged by Netflix"
   ]
  },
  {
   "cell_type": "code",
   "execution_count": 22,
   "metadata": {
    "colab": {
     "base_uri": "https://localhost:8080/"
    },
    "id": "nbhdC-6ITw__",
    "outputId": "64adde63-4a4c-40b5-feaa-dde05e9119a9"
   },
   "outputs": [
    {
     "data": {
      "text/plain": [
       "array([False, False,  True,  True,  True,  True,  True,  True,  True])"
      ]
     },
     "execution_count": 18,
     "metadata": {},
     "output_type": "execute_result"
    }
   ],
   "source": [
    "#| code-fold: false\n",
    "avi.mSPRT(0.08)"
   ]
  },
  {
   "cell_type": "markdown",
   "metadata": {
    "id": "l6HNj0F95gPY"
   },
   "source": [
    "`StatSig_SPRT` is the variation proposed by Zhao et al. and as it comes from the name used currently by StatSig"
   ]
  },
  {
   "cell_type": "code",
   "execution_count": 23,
   "metadata": {
    "colab": {
     "base_uri": "https://localhost:8080/"
    },
    "id": "yD6gGpr3T9uX",
    "outputId": "c1b741a1-b0ed-4111-a0b1-aa63adcd9c8c"
   },
   "outputs": [
    {
     "data": {
      "text/plain": [
       "array([False,  True,  True,  True,  True,  True,  True,  True,  True])"
      ]
     },
     "execution_count": 19,
     "metadata": {},
     "output_type": "execute_result"
    }
   ],
   "source": [
    "#| code-fold: false\n",
    "avi.StatSig_SPRT()"
   ]
  },
  {
   "cell_type": "markdown",
   "metadata": {
    "id": "80F85khh6Ab4"
   },
   "source": [
    "The last and, this time, indeed least heavily criticized `statsig_alpha_corrected_v1` approach, which was their first attempt to furnish their platform with a sequential testing framework. It's mainly added for the reference to show how sequential testing must not work like"
   ]
  },
  {
   "cell_type": "code",
   "execution_count": 24,
   "metadata": {
    "colab": {
     "base_uri": "https://localhost:8080/"
    },
    "id": "zQUctDHaUJIQ",
    "outputId": "7ffb56d8-4d3b-478c-b04d-fad91cd36252"
   },
   "outputs": [
    {
     "data": {
      "text/plain": [
       "array([False, False, False,  True,  True,  True,  True,  True,  True])"
      ]
     },
     "execution_count": 20,
     "metadata": {},
     "output_type": "execute_result"
    }
   ],
   "source": [
    "#| code-fold: false\n",
    "avi.statsig_alpha_corrected_v1(100)"
   ]
  },
  {
   "cell_type": "markdown",
   "metadata": {
    "id": "h8FqJHmpUTz2"
   },
   "source": [
    "# Simulations"
   ]
  },
  {
   "cell_type": "markdown",
   "metadata": {
    "id": "TpRiUOhL8W99"
   },
   "source": [
    "For those who have visited my blog before, there is nothing new in how we will conduct testing, it is good old Monte Carlo. For more details checkout my previous posts like [Dunnett's Correction for ABC testing](https://npodlozhniy.github.io/posts/dunnett-correction/#canonical-ab-test)\n",
    "\n",
    "We will measure False and True positive rates for two kinds of the target metric: a continuous variable and a conversion. Furthermore we will learn how tolerant are different methods to under- and over- sampling."
   ]
  },
  {
   "cell_type": "code",
   "execution_count": 25,
   "metadata": {
    "id": "MRvc6gotaFwJ"
   },
   "outputs": [],
   "source": [
    "# Global simulation settings\n",
    "N = 500\n",
    "alpha = 0.05\n",
    "n_iterations = 100_000\n",
    "\n",
    "\n",
    "def stops_at(is_significant: np.ndarray, sample_size: np.ndarray) -> int:\n",
    "    \"\"\"\n",
    "    Determines the stopping sample size.\n",
    "\n",
    "    This function identifies the first instance where the input\n",
    "    condition is True and returns the corresponding sample size.\n",
    "\n",
    "    Args:\n",
    "        is_significant: A boolean array of the stop condition for each size\n",
    "        sample_size: An array of sample sizes.\n",
    "\n",
    "    Returns:\n",
    "        The stopping sample size.\n",
    "\n",
    "    Example:\n",
    "        >>> detN([False, False, True, True], [50, 100, 150, 200])\n",
    "        150\n",
    "    \"\"\"\n",
    "    if len(is_significant) != len(sample_size):\n",
    "        raise ValueError(\"Input arrays must have the same length.\")\n",
    "    w = np.where(is_significant)[0]\n",
    "    return None if len(w) == 0 else sample_size[w[0]]"
   ]
  },
  {
   "cell_type": "markdown",
   "metadata": {
    "id": "dwrxh07_Jjj4"
   },
   "source": [
    "One thing about GST is that incredible freedom in spending function choice what makes it possible to experiment and find the best fit for your data.\n",
    "For demonstration purposes I suggest using Kim-DeMets spending function with different values of the power $\\phi$: the higher $\\phi$ the more strict the function is at the beginning of the experiment.\n",
    "\n",
    "You can play around the trade-off: would you like to spend more $\\alpha$ at the start, detecting faster if there are greater uplifts in you experiment group or to preserve the major part of alpha until the end keeping maximum power to reject the hypothesis when the expected sample size is reached."
   ]
  },
  {
   "cell_type": "code",
   "execution_count": 26,
   "metadata": {},
   "outputs": [],
   "source": [
    "gst_linear = gatsby.GST(actual=10, expected=10, iuse=3, phi=1, alpha=alpha)\n",
    "gst_quadratic = gatsby.GST(actual=10, expected=10, iuse=3, phi=2, alpha=alpha)\n",
    "gst_cubic = gatsby.GST(actual=10, expected=10, iuse=3, phi=3, alpha=alpha)"
   ]
  },
  {
   "cell_type": "raw",
   "metadata": {},
   "source": [
    "::: {.callout-tip}\n",
    "If the title or the legend items are not visible to you - click to one legend item and the chart will be rendered properly.\n",
    ":::"
   ]
  },
  {
   "cell_type": "code",
   "execution_count": 27,
   "metadata": {
    "colab": {
     "base_uri": "https://localhost:8080/",
     "height": 542
    },
    "id": "Ti0bCDk_W75N",
    "outputId": "3685bc4c-10a6-45e0-9dfe-ae1204d14abb"
   },
   "outputs": [],
   "source": [
    "#| eval: false\n",
    "import plotly.express as px\n",
    "import plotly.graph_objs as go\n",
    "\n",
    "def hex2rgba(hex, alpha):\n",
    "    \"\"\"\n",
    "    Convert plotly hex colors to rgb and enables transparency adjustment\n",
    "    \"\"\"\n",
    "    col_hex = hex.lstrip('#')\n",
    "    col_rgb = tuple(int(col_hex[i : i + 2], 16) for i in (0, 2, 4))\n",
    "    col_rgb += (alpha,)\n",
    "    return 'rgba' + str(col_rgb)\n",
    "\n",
    "def get_new_color(colors):\n",
    "    while True:\n",
    "        for color in colors:\n",
    "            yield color\n",
    "\n",
    "colors_list = px.colors.qualitative.Plotly\n",
    "rgba_colors = [hex2rgba(color, alpha=0.5) for color in colors_list]\n",
    "palette = get_new_color(rgba_colors)\n",
    "\n",
    "def add_chart(figure, data, title=None):\n",
    "\n",
    "    x = np.arange(1, len(data) + 1) / len(data)\n",
    "    color = next(palette)\n",
    "\n",
    "    figure.add_trace(\n",
    "        go.Scatter(\n",
    "            name=title,\n",
    "            x=x,\n",
    "            y=data,\n",
    "            mode='lines',\n",
    "            line=dict(color=color, width=4, dash='solid'),\n",
    "            hovertemplate=\"%{y:.3f}\"\n",
    "        ),\n",
    "    )\n",
    "\n",
    "\n",
    "figure = go.Figure()\n",
    "\n",
    "add_chart(figure, gst_linear, r\"$\\text{Linear: } \\phi = 1$\")\n",
    "add_chart(figure, gst_quadratic, r\"$\\text{Quadratic: } \\phi = 2$\")\n",
    "add_chart(figure, gst_cubic, r\"$\\text{Cubic: } \\phi = 3$\")\n",
    "\n",
    "figure.update_xaxes(\n",
    "    title_text=\"Peeking moments\"\n",
    ")\n",
    "\n",
    "figure.update_layout(\n",
    "    yaxis_title=\"Critical value for z-score\",\n",
    "    title={\n",
    "        \"x\": 0.5,\n",
    "        \"text\": r\"$\\text{Kim-DeMets spending function: } \\alpha \\cdot t^{\\phi} \\text{ differences}$\",\n",
    "    },\n",
    "    hovermode=\"x\",\n",
    "    template=\"plotly_dark\",\n",
    ")\n",
    "\n",
    "figure.write_json(\"alpha-spending-functions-comparison.json\")\n",
    "figure.show()"
   ]
  },
  {
   "cell_type": "raw",
   "metadata": {},
   "source": [
    "{{< plotly obj=alpha-spending-functions-comparison >}}"
   ]
  },
  {
   "cell_type": "markdown",
   "metadata": {
    "id": "Tq0hvzNuAwo2"
   },
   "source": [
    "## Expan Flaw"
   ]
  },
  {
   "cell_type": "markdown",
   "metadata": {
    "id": "1pfijvsWMIX5"
   },
   "source": [
    "Remember I promised to show, that `expan` way to determine boundaries is wrong, so here is a quick proof: the code is taken without changes from their GitHub: [zalando/expan/early_stopping](https://github.com/zalando/expan/blob/master/expan/core/early_stopping.py)"
   ]
  },
  {
   "cell_type": "code",
   "execution_count": 28,
   "metadata": {
    "colab": {
     "base_uri": "https://localhost:8080/"
    },
    "id": "my7-MnpLaDK8",
    "outputId": "568d1c93-d26b-4b91-bc30-994272ec3369"
   },
   "outputs": [],
   "source": [
    "#| eval: false\n",
    "from statsmodels.stats.proportion import proportion_confint\n",
    "\n",
    "\n",
    "def sample_size(x):\n",
    "    \"\"\" Calculates valid sample size given the data.\n",
    "\n",
    "    :param x: sample to calculate the sample size\n",
    "    :type  x: pd.Series or list (array-like)\n",
    "\n",
    "    :return: sample size of the sample excluding nans\n",
    "    :rtype: int\n",
    "    \"\"\"\n",
    "    # cast into a dummy numpy array to infer the dtype\n",
    "    x_as_array = np.array(x)\n",
    "\n",
    "    if np.issubdtype(x_as_array.dtype, np.number):\n",
    "        _x = np.array(x, dtype=float)\n",
    "        x_nan = np.isnan(_x).sum()\n",
    "    # assuming categorical sample\n",
    "    elif isinstance(x, pd.core.series.Series):\n",
    "        x_nan = x.str.contains('NA').sum()\n",
    "    else:\n",
    "        x_nan = list(x).count('NA')\n",
    "\n",
    "    return int(len(x) - x_nan)\n",
    "\n",
    "def obrien_fleming(information_fraction, alpha=0.05):\n",
    "    \"\"\" Calculate an approximation of the O'Brien-Fleming alpha spending function.\n",
    "\n",
    "    :param information_fraction: share of the information  amount at the point of evaluation,\n",
    "                                 e.g. the share of the maximum sample size\n",
    "    :type  information_fraction: float\n",
    "    :param alpha: type-I error rate\n",
    "    :type  alpha: float\n",
    "\n",
    "    :return: redistributed alpha value at the time point with the given information fraction\n",
    "    :rtype:  float\n",
    "    \"\"\"\n",
    "    return (1 - norm.cdf(norm.ppf(1 - alpha / 2) / np.sqrt(information_fraction))) * 2\n",
    "\n",
    "\n",
    "def group_sequential(x, y, spending_function='obrien_fleming', estimated_sample_size=None, alpha=0.05, cap=8):\n",
    "    \"\"\" Group sequential method to determine whether to stop early.\n",
    "\n",
    "    :param x: sample of a treatment group\n",
    "    :type  x: pd.Series or array-like\n",
    "    :param y: sample of a control group\n",
    "    :type  y: pd.Series or array-like\n",
    "    :param spending_function: name of the alpha spending function, currently supports only 'obrien_fleming'.\n",
    "    :type  spending_function: str\n",
    "    :param estimated_sample_size: sample size to be achieved towards the end of experiment\n",
    "    :type  estimated_sample_size: int\n",
    "    :param alpha: type-I error rate\n",
    "    :type  alpha: float\n",
    "    :param cap: upper bound of the adapted z-score\n",
    "    :type  cap: int\n",
    "\n",
    "    :return: results of type EarlyStoppingTestStatistics\n",
    "    :rtype:  EarlyStoppingTestStatistics\n",
    "    \"\"\"\n",
    "\n",
    "    # Coercing missing values to right format\n",
    "    _x = np.array(x, dtype=float)\n",
    "    _y = np.array(y, dtype=float)\n",
    "\n",
    "    n_x = sample_size(_x)\n",
    "    n_y = sample_size(_y)\n",
    "\n",
    "    if not estimated_sample_size:\n",
    "        information_fraction = 1.0\n",
    "    else:\n",
    "        information_fraction = min(1.0, (n_x + n_y) / estimated_sample_size)\n",
    "\n",
    "    # alpha spending function\n",
    "    if spending_function in ('obrien_fleming'):\n",
    "        func = eval(spending_function)\n",
    "    else:\n",
    "        raise NotImplementedError\n",
    "    alpha_new = func(information_fraction, alpha=alpha)\n",
    "\n",
    "    # calculate the z-score bound\n",
    "    bound = norm.ppf(1 - alpha_new / 2)\n",
    "    # replace potential inf with an upper bound\n",
    "    if bound == np.inf:\n",
    "        bound = cap\n",
    "\n",
    "    mu_x = np.nanmean(_x)\n",
    "    mu_y = np.nanmean(_y)\n",
    "    sigma_x = np.nanstd(_x)\n",
    "    sigma_y = np.nanstd(_y)\n",
    "    z = (mu_x - mu_y) / np.sqrt(sigma_x ** 2 / n_x + sigma_y ** 2 / n_y)\n",
    "\n",
    "    if z > bound or z < -bound:\n",
    "        stop = True\n",
    "    else:\n",
    "        stop = False\n",
    "\n",
    "    return stop\n",
    "\n",
    "fpr = 0\n",
    "\n",
    "for r in range(n_iterations):\n",
    "\n",
    "    x = np.random.normal(1, 1, N)\n",
    "    y = np.random.normal(1, 1, N)\n",
    "\n",
    "    for current_size in np.linspace(N/10, N, 10).astype(int):\n",
    "        stopping = group_sequential(x[:current_size], y[:current_size], estimated_sample_size=2*N, alpha=0.05)\n",
    "        if stopping:\n",
    "            fpr += 1\n",
    "            break\n",
    "\n",
    "l, r = proportion_confint(count=fpr, nobs=n_iterations, alpha=0.10, method='wilson')\n",
    "print(f\"false positives: {fpr/n_iterations:.3f} ± {(r - l) / 2:.3f} is significantly higher than {alpha}\")"
   ]
  },
  {
   "cell_type": "markdown",
   "metadata": {
    "id": "Vgljd_dqb7Gt"
   },
   "source": [
    "So, as was said above, it doesn't control FPR as it should according to Group Sequential Testing problem design and hence this myth of the direct application of alpha spending function have to be dispelled: it doesn't work this way and further you will see that it's not much better than custom ad-hoc corrections."
   ]
  },
  {
   "cell_type": "raw",
   "metadata": {},
   "source": [
    "::: {.callout-warning}\n",
    "Please, do not use `expan` for sequential testing as their implementation is wrong.\n",
    ":::"
   ]
  },
  {
   "cell_type": "markdown",
   "metadata": {
    "id": "Aov21pJkGkBS"
   },
   "source": [
    "## Monte Carlo"
   ]
  },
  {
   "cell_type": "code",
   "execution_count": 29,
   "metadata": {
    "id": "XHb14wBERhcQ"
   },
   "outputs": [],
   "source": [
    "from collections import defaultdict\n",
    "\n",
    "\n",
    "def monte_carlo(\n",
    "    metric: str=\"normal\",\n",
    "    sampling: str=\"accurate\",\n",
    "    effect_size: float=0.10,\n",
    "    aa_test: bool=True,\n",
    "    N: int = N,\n",
    ") -> pd.DataFrame:\n",
    "\n",
    "    result = defaultdict(list)\n",
    "    eff = 0 if aa_test else effect_size\n",
    "\n",
    "    if metric == \"normal\":\n",
    "        mu, sigma = 1, 1\n",
    "    else:\n",
    "        p = 0.10\n",
    "        sigma = (p * (1 - p)) ** 0.5\n",
    "        # for bernoulli rv sigma is less than for normal\n",
    "        # so it's better to increase N to get similar power\n",
    "        N *= int((sigma / p) ** 2)\n",
    "\n",
    "    for _ in range(n_iterations):\n",
    "        if metric == \"normal\":\n",
    "            x = np.random.normal(mu, sigma, N)\n",
    "            y = np.random.normal(mu+eff, sigma, N)\n",
    "        else:\n",
    "            x = np.random.choice(a=[0, 1], size=N, replace=True, p=[1 - p, p])\n",
    "            y = np.random.choice(a=[0, 1], size=N, replace=True, p=[1 - p*(1+eff), p*(1+eff)])\n",
    "\n",
    "        size = np.arange(1, N + 1)\n",
    "        diff = (np.cumsum(y) / size) - (np.cumsum(x) / size)\n",
    "\n",
    "        test = gavi.AlwaysValidInference(size=size, sigma2=sigma**2, estimate=diff, alpha=alpha)\n",
    "\n",
    "        itermittent_analyses = np.linspace(N/10, N, 10).astype(int) - 1\n",
    "        z_score = diff[itermittent_analyses] / np.sqrt(2 * sigma ** 2 / size[itermittent_analyses])\n",
    "\n",
    "        result['No_Seq'].append(N if z_score[-1] > norm.ppf(1 - alpha) else None)\n",
    "\n",
    "        if sampling == \"accurate\":\n",
    "\n",
    "            result['GAVI'].append(stops_at(test.GAVI(), size))\n",
    "            result['mSPRT'].append(stops_at(test.mSPRT(), size))\n",
    "            result['StatSig_SPRT'].append(stops_at(test.StatSig_SPRT(), size))\n",
    "            result['StatSig_v1'].append(stops_at(test.statsig_alpha_corrected_v1(), size))\n",
    "\n",
    "            result['GST_linear'].append(stops_at(z_score > gst_linear, size[itermittent_analyses]))\n",
    "            result['GST_quadratic'].append(stops_at(z_score > gst_quadratic, size[itermittent_analyses]))\n",
    "            result['GST_cubic'].append(stops_at(z_score > gst_cubic, size[itermittent_analyses]))\n",
    "\n",
    "        elif sampling == \"undersampled\":\n",
    "\n",
    "            result['GAVI'].append(stops_at(test.GAVI(phi=N*7/5), size))\n",
    "            # undersampling is the case, when the effect is larger than expected\n",
    "            # so let's say effect ~ 7/5 times larger, 4 * (5/7)^2 ~ 2\n",
    "            result['mSPRT'].append(stops_at(test.mSPRT(phi=2 * sigma**2 / diff**2), size))\n",
    "            result['StatSig_SPRT'].append(stops_at(test.StatSig_SPRT(), size))\n",
    "            result['StatSig_v1'].append(stops_at(test.statsig_alpha_corrected_v1(N=N*7/5), size))\n",
    "\n",
    "            result['GST_linear'].append(stops_at(z_score > gst_linear_undersampled, size[itermittent_analyses]))\n",
    "            result['GST_quadratic'].append(stops_at(z_score > gst_quadratic_undersampled, size[itermittent_analyses]))\n",
    "            result['GST_cubic'].append(stops_at(z_score > gst_cubic_undersampled, size[itermittent_analyses]))\n",
    "\n",
    "        elif sampling == \"oversampled\":\n",
    "\n",
    "            result['GAVI'].append(stops_at(test.GAVI(phi=N*7/10), size))\n",
    "            # oversmapling is the case, when the effect is lower than expected\n",
    "            # so let's say effect ~ 7/10 times lower, 4 * (7/10)^2 ~ 8\n",
    "            result['mSPRT'].append(stops_at(test.mSPRT(phi=8 * sigma**2 / diff**2), size))\n",
    "            result['StatSig_SPRT'].append(stops_at(test.StatSig_SPRT(), size))\n",
    "            result['StatSig_v1'].append(stops_at(test.statsig_alpha_corrected_v1(N=N*7/10), size))\n",
    "\n",
    "            result['GST_linear'].append(stops_at(z_score > gst_linear_oversampled, size[itermittent_analyses]))\n",
    "            result['GST_quadratic'].append(stops_at(z_score > gst_quadratic_oversampled, size[itermittent_analyses]))\n",
    "            result['GST_cubic'].append(stops_at(z_score > gst_cubic_oversampled, size[itermittent_analyses]))\n",
    "\n",
    "        else:\n",
    "            raise ValueError(\"Unknown sampling method\")\n",
    "\n",
    "    # remove StatSig_v1 from Power comparison\n",
    "    if not aa_test:\n",
    "        result.pop('StatSig_v1')\n",
    "\n",
    "    df = pd.DataFrame(result).agg([\"count\", \"median\"]).T.assign(\n",
    "          PositiveRate=lambda x: (x[\"count\"] / n_iterations).round(3)\n",
    "        ).assign(\n",
    "            SampleSize=lambda x: x[\"median\"].astype(int)\n",
    "        )[[\"PositiveRate\", \"SampleSize\"]]\n",
    "\n",
    "    return df\n",
    "\n",
    "\n",
    "def plot_positive_rate(\n",
    "    df: pd.DataFrame,\n",
    "    aa_test: bool=True,\n",
    "    sampling: str=None\n",
    "):\n",
    "\n",
    "    fig = go.Figure()\n",
    "\n",
    "    if aa_test:\n",
    "        error_const = round(3 * (alpha * (1 - alpha) / n_iterations) ** 0.5, 3)\n",
    "    else:\n",
    "        error_array = round(3 * (df[\"PositiveRate\"] * (1 - df[\"PositiveRate\"]) / n_iterations) ** 0.5, 3)\n",
    "\n",
    "    fig.add_trace(go.Bar(\n",
    "        x=df.index,\n",
    "        y=df[\"PositiveRate\"],\n",
    "        marker_color=next(palette),\n",
    "        error_y=dict(type='constant', value=error_const) if aa_test else dict(type='data', array=error_array),\n",
    "    ))\n",
    "\n",
    "    if aa_test:\n",
    "        fig.add_hline(\n",
    "            y=0.05,\n",
    "            line_dash=\"dot\",\n",
    "            annotation_text=\"designed Type I error rate\",\n",
    "            annotation_position=\"top right\"\n",
    "        )\n",
    "\n",
    "    title = (\n",
    "        f\"{'Correctness' if aa_test else 'Power'} of\"\n",
    "        f\"{' ' + sampling if sampling else ''} Sequential Testing Design\"\n",
    "    )\n",
    "    \n",
    "    fig.update_layout(\n",
    "        yaxis_title=f\"{str(not aa_test)} Positive Rate\",\n",
    "        title={\n",
    "            \"x\": 0.5,\n",
    "            \"text\": title,\n",
    "        },\n",
    "        hovermode=\"x\",\n",
    "        template=\"plotly_dark\",\n",
    "    )\n",
    "\n",
    "    fig.write_json(f\"{title.replace(' ', '-').lower()}.json\")\n",
    "\n",
    "    fig.show()"
   ]
  },
  {
   "cell_type": "markdown",
   "metadata": {
    "id": "mE83fV5ge1bX"
   },
   "source": [
    "### Continuous Variable"
   ]
  },
  {
   "cell_type": "markdown",
   "metadata": {
    "id": "4f1dnDBkZpZj"
   },
   "source": [
    "As you can see for GST bounds are pre-calculated for the necessary intermittent analyses number that were expected to and in fact take place.\n",
    "We calculate bounds for 10 intermittent analyses scenario, in addition considering over- and under- sampling designs."
   ]
  },
  {
   "cell_type": "code",
   "execution_count": 30,
   "metadata": {
    "id": "BJpkRTqOXO5T"
   },
   "outputs": [],
   "source": [
    "gst_linear_undersampled = gatsby.GST(actual=10, expected=14, iuse=3, phi=1, alpha=alpha)\n",
    "gst_quadratic_undersampled = gatsby.GST(actual=10, expected=14, iuse=3, phi=2, alpha=alpha)\n",
    "gst_cubic_undersampled = gatsby.GST(actual=10, expected=14, iuse=3, phi=3, alpha=alpha)\n",
    "\n",
    "gst_linear_oversampled = gatsby.GST(actual=10, expected=7, iuse=3, phi=1, alpha=alpha)\n",
    "gst_quadratic_oversampled = gatsby.GST(actual=10, expected=7, iuse=3, phi=2, alpha=alpha)\n",
    "gst_cubic_oversampled = gatsby.GST(actual=10, expected=7, iuse=3, phi=3, alpha=alpha)"
   ]
  },
  {
   "cell_type": "markdown",
   "metadata": {
    "id": "C9xj7-f4ZXFy"
   },
   "source": [
    "#### False Positives"
   ]
  },
  {
   "cell_type": "code",
   "execution_count": 31,
   "metadata": {
    "colab": {
     "base_uri": "https://localhost:8080/",
     "height": 300
    },
    "id": "2OPJa6PSlit0",
    "outputId": "78676958-eede-4d38-9d8f-678e15272671"
   },
   "outputs": [
    {
     "data": {
      "text/html": [
       "<div>\n",
       "<style scoped>\n",
       "    .dataframe tbody tr th:only-of-type {\n",
       "        vertical-align: middle;\n",
       "    }\n",
       "\n",
       "    .dataframe tbody tr th {\n",
       "        vertical-align: top;\n",
       "    }\n",
       "\n",
       "    .dataframe thead th {\n",
       "        text-align: right;\n",
       "    }\n",
       "</style>\n",
       "<table border=\"1\" class=\"dataframe\">\n",
       "  <thead>\n",
       "    <tr style=\"text-align: right;\">\n",
       "      <th></th>\n",
       "      <th>PositiveRate</th>\n",
       "      <th>SampleSize</th>\n",
       "    </tr>\n",
       "  </thead>\n",
       "  <tbody>\n",
       "    <tr>\n",
       "      <th>No_Seq</th>\n",
       "      <td>0.051</td>\n",
       "      <td>500</td>\n",
       "    </tr>\n",
       "    <tr>\n",
       "      <th>GAVI</th>\n",
       "      <td>0.018</td>\n",
       "      <td>221</td>\n",
       "    </tr>\n",
       "    <tr>\n",
       "      <th>mSPRT</th>\n",
       "      <td>0.048</td>\n",
       "      <td>38</td>\n",
       "    </tr>\n",
       "    <tr>\n",
       "      <th>StatSig_SPRT</th>\n",
       "      <td>0.026</td>\n",
       "      <td>43</td>\n",
       "    </tr>\n",
       "    <tr>\n",
       "      <th>StatSig_v1</th>\n",
       "      <td>0.074</td>\n",
       "      <td>421</td>\n",
       "    </tr>\n",
       "    <tr>\n",
       "      <th>GST_linear</th>\n",
       "      <td>0.051</td>\n",
       "      <td>300</td>\n",
       "    </tr>\n",
       "    <tr>\n",
       "      <th>GST_quadratic</th>\n",
       "      <td>0.050</td>\n",
       "      <td>400</td>\n",
       "    </tr>\n",
       "    <tr>\n",
       "      <th>GST_cubic</th>\n",
       "      <td>0.051</td>\n",
       "      <td>400</td>\n",
       "    </tr>\n",
       "  </tbody>\n",
       "</table>\n",
       "</div>"
      ],
      "text/plain": [
       "               PositiveRate  SampleSize\n",
       "No_Seq                0.051         500\n",
       "GAVI                  0.018         221\n",
       "mSPRT                 0.048          38\n",
       "StatSig_SPRT          0.026          43\n",
       "StatSig_v1            0.074         421\n",
       "GST_linear            0.051         300\n",
       "GST_quadratic         0.050         400\n",
       "GST_cubic             0.051         400"
      ]
     },
     "execution_count": 25,
     "metadata": {},
     "output_type": "execute_result"
    }
   ],
   "source": [
    "df = monte_carlo(aa_test=True)\n",
    "df"
   ]
  },
  {
   "cell_type": "code",
   "execution_count": 32,
   "metadata": {
    "colab": {
     "base_uri": "https://localhost:8080/",
     "height": 542
    },
    "id": "Hdg7YXhggvLt",
    "outputId": "8450de67-f386-4288-db3a-5589826925e7"
   },
   "outputs": [],
   "source": [
    "#| eval: false\n",
    "plot_positive_rate(df, aa_test=True)"
   ]
  },
  {
   "cell_type": "raw",
   "metadata": {},
   "source": [
    "{{< plotly obj=correctness-of-sequential-testing-design >}}"
   ]
  },
  {
   "cell_type": "markdown",
   "metadata": {
    "id": "JqThbBaD6k7v"
   },
   "source": [
    "As it immediately comes clear: StatSig v1 correction was a flaw, all the other methods are targeting $\\alpha$ as needed, however out of AVI it's only mSPRT that gives high enough level, the rest of them make fewer false positives what usually is a sign of lower statistical power, we will see it later.\n",
    "\n"
   ]
  },
  {
   "cell_type": "code",
   "execution_count": 33,
   "metadata": {
    "colab": {
     "base_uri": "https://localhost:8080/",
     "height": 300
    },
    "id": "YUbUs3fGvlJN",
    "outputId": "39f957c9-d440-4368-d916-a18e33e4debf"
   },
   "outputs": [
    {
     "data": {
      "text/html": [
       "<div>\n",
       "<style scoped>\n",
       "    .dataframe tbody tr th:only-of-type {\n",
       "        vertical-align: middle;\n",
       "    }\n",
       "\n",
       "    .dataframe tbody tr th {\n",
       "        vertical-align: top;\n",
       "    }\n",
       "\n",
       "    .dataframe thead th {\n",
       "        text-align: right;\n",
       "    }\n",
       "</style>\n",
       "<table border=\"1\" class=\"dataframe\">\n",
       "  <thead>\n",
       "    <tr style=\"text-align: right;\">\n",
       "      <th></th>\n",
       "      <th>PositiveRate</th>\n",
       "      <th>SampleSize</th>\n",
       "    </tr>\n",
       "  </thead>\n",
       "  <tbody>\n",
       "    <tr>\n",
       "      <th>No_Seq</th>\n",
       "      <td>0.050</td>\n",
       "      <td>500</td>\n",
       "    </tr>\n",
       "    <tr>\n",
       "      <th>GAVI</th>\n",
       "      <td>0.014</td>\n",
       "      <td>253</td>\n",
       "    </tr>\n",
       "    <tr>\n",
       "      <th>mSPRT</th>\n",
       "      <td>0.043</td>\n",
       "      <td>38</td>\n",
       "    </tr>\n",
       "    <tr>\n",
       "      <th>StatSig_SPRT</th>\n",
       "      <td>0.026</td>\n",
       "      <td>41</td>\n",
       "    </tr>\n",
       "    <tr>\n",
       "      <th>StatSig_v1</th>\n",
       "      <td>0.015</td>\n",
       "      <td>451</td>\n",
       "    </tr>\n",
       "    <tr>\n",
       "      <th>GST_linear</th>\n",
       "      <td>0.047</td>\n",
       "      <td>350</td>\n",
       "    </tr>\n",
       "    <tr>\n",
       "      <th>GST_quadratic</th>\n",
       "      <td>0.046</td>\n",
       "      <td>500</td>\n",
       "    </tr>\n",
       "    <tr>\n",
       "      <th>GST_cubic</th>\n",
       "      <td>0.045</td>\n",
       "      <td>500</td>\n",
       "    </tr>\n",
       "  </tbody>\n",
       "</table>\n",
       "</div>"
      ],
      "text/plain": [
       "               PositiveRate  SampleSize\n",
       "No_Seq                0.050         500\n",
       "GAVI                  0.014         253\n",
       "mSPRT                 0.043          38\n",
       "StatSig_SPRT          0.026          41\n",
       "StatSig_v1            0.015         451\n",
       "GST_linear            0.047         350\n",
       "GST_quadratic         0.046         500\n",
       "GST_cubic             0.045         500"
      ]
     },
     "execution_count": 26,
     "metadata": {},
     "output_type": "execute_result"
    }
   ],
   "source": [
    "monte_carlo(aa_test=True, sampling=\"undersampled\")"
   ]
  },
  {
   "cell_type": "code",
   "execution_count": 34,
   "metadata": {
    "colab": {
     "base_uri": "https://localhost:8080/",
     "height": 300
    },
    "id": "5dFkGBY3wEff",
    "outputId": "66269668-7974-487a-f19e-4af7d5315c0c"
   },
   "outputs": [
    {
     "data": {
      "text/html": [
       "<div>\n",
       "<style scoped>\n",
       "    .dataframe tbody tr th:only-of-type {\n",
       "        vertical-align: middle;\n",
       "    }\n",
       "\n",
       "    .dataframe tbody tr th {\n",
       "        vertical-align: top;\n",
       "    }\n",
       "\n",
       "    .dataframe thead th {\n",
       "        text-align: right;\n",
       "    }\n",
       "</style>\n",
       "<table border=\"1\" class=\"dataframe\">\n",
       "  <thead>\n",
       "    <tr style=\"text-align: right;\">\n",
       "      <th></th>\n",
       "      <th>PositiveRate</th>\n",
       "      <th>SampleSize</th>\n",
       "    </tr>\n",
       "  </thead>\n",
       "  <tbody>\n",
       "    <tr>\n",
       "      <th>No_Seq</th>\n",
       "      <td>0.051</td>\n",
       "      <td>500</td>\n",
       "    </tr>\n",
       "    <tr>\n",
       "      <th>GAVI</th>\n",
       "      <td>0.021</td>\n",
       "      <td>189</td>\n",
       "    </tr>\n",
       "    <tr>\n",
       "      <th>mSPRT</th>\n",
       "      <td>0.046</td>\n",
       "      <td>35</td>\n",
       "    </tr>\n",
       "    <tr>\n",
       "      <th>StatSig_SPRT</th>\n",
       "      <td>0.027</td>\n",
       "      <td>36</td>\n",
       "    </tr>\n",
       "    <tr>\n",
       "      <th>StatSig_v1</th>\n",
       "      <td>0.187</td>\n",
       "      <td>378</td>\n",
       "    </tr>\n",
       "    <tr>\n",
       "      <th>GST_linear</th>\n",
       "      <td>0.065</td>\n",
       "      <td>250</td>\n",
       "    </tr>\n",
       "    <tr>\n",
       "      <th>GST_quadratic</th>\n",
       "      <td>0.072</td>\n",
       "      <td>300</td>\n",
       "    </tr>\n",
       "    <tr>\n",
       "      <th>GST_cubic</th>\n",
       "      <td>0.077</td>\n",
       "      <td>350</td>\n",
       "    </tr>\n",
       "  </tbody>\n",
       "</table>\n",
       "</div>"
      ],
      "text/plain": [
       "               PositiveRate  SampleSize\n",
       "No_Seq                0.051         500\n",
       "GAVI                  0.021         189\n",
       "mSPRT                 0.046          35\n",
       "StatSig_SPRT          0.027          36\n",
       "StatSig_v1            0.187         378\n",
       "GST_linear            0.065         250\n",
       "GST_quadratic         0.072         300\n",
       "GST_cubic             0.077         350"
      ]
     },
     "execution_count": 27,
     "metadata": {},
     "output_type": "execute_result"
    }
   ],
   "source": [
    "df = monte_carlo(aa_test=True, sampling=\"oversampled\")\n",
    "df"
   ]
  },
  {
   "cell_type": "code",
   "execution_count": 35,
   "metadata": {
    "colab": {
     "base_uri": "https://localhost:8080/",
     "height": 542
    },
    "id": "XCIw1CvfhH7N",
    "outputId": "884b4547-34a9-4144-e56d-682f89969985"
   },
   "outputs": [],
   "source": [
    "#| eval: false\n",
    "plot_positive_rate(df, aa_test=True, sampling=\"oversampled\")"
   ]
  },
  {
   "cell_type": "raw",
   "metadata": {},
   "source": [
    "{{< plotly obj=correctness-of-oversampled-sequential-testing-design >}}"
   ]
  },
  {
   "cell_type": "markdown",
   "metadata": {
    "id": "tMcs6jsFfuHw"
   },
   "source": [
    "\n",
    "\n",
    "1. Over-sampling is a tough cookie for `GST`, in such a case GST doesn't work correctly, it inflates Type I error, so it's important to note the difference here between `AVI` and `GST`, the latter one is not designed to handle over-sampling\n",
    "2. StatSig distinguished itself: their v1 version suffers more than any other method form both under- and over- sampling, while on the other flip their SPRT implementation is totally resistant to under- and over- sampling and if identifies the positive, it does it quickly, most likely it will be underpowered though.\n",
    "3. As of now mSPRT seems to be the best choice as it identifies the differences so fast and just a little less often than it should."
   ]
  },
  {
   "cell_type": "markdown",
   "metadata": {
    "id": "oj2VLwddZN_9"
   },
   "source": [
    "#### True Positives"
   ]
  },
  {
   "cell_type": "markdown",
   "metadata": {
    "id": "IstCTL46EBlZ"
   },
   "source": [
    "It's time to compare the power of different methods, I'm not going to consider StatSig Alpha corrected version anymore as it's not a valid procedure"
   ]
  },
  {
   "cell_type": "code",
   "execution_count": 36,
   "metadata": {
    "colab": {
     "base_uri": "https://localhost:8080/",
     "height": 269
    },
    "id": "xaZOpt2LwnaY",
    "outputId": "cd49683e-6c8a-42d5-c8dc-777fb4adc5a8"
   },
   "outputs": [
    {
     "data": {
      "text/html": [
       "<div>\n",
       "<style scoped>\n",
       "    .dataframe tbody tr th:only-of-type {\n",
       "        vertical-align: middle;\n",
       "    }\n",
       "\n",
       "    .dataframe tbody tr th {\n",
       "        vertical-align: top;\n",
       "    }\n",
       "\n",
       "    .dataframe thead th {\n",
       "        text-align: right;\n",
       "    }\n",
       "</style>\n",
       "<table border=\"1\" class=\"dataframe\">\n",
       "  <thead>\n",
       "    <tr style=\"text-align: right;\">\n",
       "      <th></th>\n",
       "      <th>PositiveRate</th>\n",
       "      <th>SampleSize</th>\n",
       "    </tr>\n",
       "  </thead>\n",
       "  <tbody>\n",
       "    <tr>\n",
       "      <th>No_Seq</th>\n",
       "      <td>0.474</td>\n",
       "      <td>500</td>\n",
       "    </tr>\n",
       "    <tr>\n",
       "      <th>GAVI</th>\n",
       "      <td>0.222</td>\n",
       "      <td>285</td>\n",
       "    </tr>\n",
       "    <tr>\n",
       "      <th>mSPRT</th>\n",
       "      <td>0.268</td>\n",
       "      <td>202</td>\n",
       "    </tr>\n",
       "    <tr>\n",
       "      <th>StatSig_SPRT</th>\n",
       "      <td>0.188</td>\n",
       "      <td>230</td>\n",
       "    </tr>\n",
       "    <tr>\n",
       "      <th>GST_linear</th>\n",
       "      <td>0.409</td>\n",
       "      <td>300</td>\n",
       "    </tr>\n",
       "    <tr>\n",
       "      <th>GST_quadratic</th>\n",
       "      <td>0.445</td>\n",
       "      <td>350</td>\n",
       "    </tr>\n",
       "    <tr>\n",
       "      <th>GST_cubic</th>\n",
       "      <td>0.459</td>\n",
       "      <td>400</td>\n",
       "    </tr>\n",
       "  </tbody>\n",
       "</table>\n",
       "</div>"
      ],
      "text/plain": [
       "               PositiveRate  SampleSize\n",
       "No_Seq                0.474         500\n",
       "GAVI                  0.222         285\n",
       "mSPRT                 0.268         202\n",
       "StatSig_SPRT          0.188         230\n",
       "GST_linear            0.409         300\n",
       "GST_quadratic         0.445         350\n",
       "GST_cubic             0.459         400"
      ]
     },
     "execution_count": 28,
     "metadata": {},
     "output_type": "execute_result"
    }
   ],
   "source": [
    "df = monte_carlo(aa_test=False)\n",
    "df"
   ]
  },
  {
   "cell_type": "code",
   "execution_count": 37,
   "metadata": {
    "colab": {
     "base_uri": "https://localhost:8080/",
     "height": 542
    },
    "id": "Qt2CF_m8E8hl",
    "outputId": "7ee8a025-1570-4fab-eb33-d079bd1aa9a9"
   },
   "outputs": [],
   "source": [
    "#| eval: false\n",
    "plot_positive_rate(df, aa_test=False)"
   ]
  },
  {
   "cell_type": "raw",
   "metadata": {},
   "source": [
    "{{< plotly obj=power-of-sequential-testing-design >}}"
   ]
  },
  {
   "cell_type": "code",
   "execution_count": 38,
   "metadata": {
    "colab": {
     "base_uri": "https://localhost:8080/",
     "height": 269
    },
    "id": "LXTDjwdIwp1Y",
    "outputId": "d0a5d4ad-cd2d-4068-aadb-e520f30b147f"
   },
   "outputs": [
    {
     "data": {
      "text/html": [
       "<div>\n",
       "<style scoped>\n",
       "    .dataframe tbody tr th:only-of-type {\n",
       "        vertical-align: middle;\n",
       "    }\n",
       "\n",
       "    .dataframe tbody tr th {\n",
       "        vertical-align: top;\n",
       "    }\n",
       "\n",
       "    .dataframe thead th {\n",
       "        text-align: right;\n",
       "    }\n",
       "</style>\n",
       "<table border=\"1\" class=\"dataframe\">\n",
       "  <thead>\n",
       "    <tr style=\"text-align: right;\">\n",
       "      <th></th>\n",
       "      <th>PositiveRate</th>\n",
       "      <th>SampleSize</th>\n",
       "    </tr>\n",
       "  </thead>\n",
       "  <tbody>\n",
       "    <tr>\n",
       "      <th>No_Seq</th>\n",
       "      <td>0.478</td>\n",
       "      <td>500</td>\n",
       "    </tr>\n",
       "    <tr>\n",
       "      <th>GAVI</th>\n",
       "      <td>0.211</td>\n",
       "      <td>306</td>\n",
       "    </tr>\n",
       "    <tr>\n",
       "      <th>mSPRT</th>\n",
       "      <td>0.253</td>\n",
       "      <td>210</td>\n",
       "    </tr>\n",
       "    <tr>\n",
       "      <th>StatSig_SPRT</th>\n",
       "      <td>0.190</td>\n",
       "      <td>233</td>\n",
       "    </tr>\n",
       "    <tr>\n",
       "      <th>GST_linear</th>\n",
       "      <td>0.425</td>\n",
       "      <td>350</td>\n",
       "    </tr>\n",
       "    <tr>\n",
       "      <th>GST_quadratic</th>\n",
       "      <td>0.449</td>\n",
       "      <td>450</td>\n",
       "    </tr>\n",
       "    <tr>\n",
       "      <th>GST_cubic</th>\n",
       "      <td>0.455</td>\n",
       "      <td>500</td>\n",
       "    </tr>\n",
       "  </tbody>\n",
       "</table>\n",
       "</div>"
      ],
      "text/plain": [
       "               PositiveRate  SampleSize\n",
       "No_Seq                0.478         500\n",
       "GAVI                  0.211         306\n",
       "mSPRT                 0.253         210\n",
       "StatSig_SPRT          0.190         233\n",
       "GST_linear            0.425         350\n",
       "GST_quadratic         0.449         450\n",
       "GST_cubic             0.455         500"
      ]
     },
     "execution_count": 29,
     "metadata": {},
     "output_type": "execute_result"
    }
   ],
   "source": [
    "df = monte_carlo(aa_test=False, sampling=\"undersampled\")\n",
    "df"
   ]
  },
  {
   "cell_type": "code",
   "execution_count": 39,
   "metadata": {
    "colab": {
     "base_uri": "https://localhost:8080/",
     "height": 542
    },
    "id": "V7Khav1sGM9y",
    "outputId": "35321ac3-b18d-49ab-f3da-b091c4d6ed6f"
   },
   "outputs": [],
   "source": [
    "#| eval: false\n",
    "plot_positive_rate(df, aa_test=False, sampling=\"undersampled\")"
   ]
  },
  {
   "cell_type": "raw",
   "metadata": {},
   "source": [
    "{{< plotly obj=power-of-undersampled-sequential-testing-design >}}"
   ]
  },
  {
   "cell_type": "code",
   "execution_count": 40,
   "metadata": {
    "colab": {
     "base_uri": "https://localhost:8080/",
     "height": 269
    },
    "id": "bTQCzX10ZRTJ",
    "outputId": "c11f0bc1-4156-4a7d-a141-92a8970e0cd4"
   },
   "outputs": [
    {
     "data": {
      "text/html": [
       "<div>\n",
       "<style scoped>\n",
       "    .dataframe tbody tr th:only-of-type {\n",
       "        vertical-align: middle;\n",
       "    }\n",
       "\n",
       "    .dataframe tbody tr th {\n",
       "        vertical-align: top;\n",
       "    }\n",
       "\n",
       "    .dataframe thead th {\n",
       "        text-align: right;\n",
       "    }\n",
       "</style>\n",
       "<table border=\"1\" class=\"dataframe\">\n",
       "  <thead>\n",
       "    <tr style=\"text-align: right;\">\n",
       "      <th></th>\n",
       "      <th>PositiveRate</th>\n",
       "      <th>SampleSize</th>\n",
       "    </tr>\n",
       "  </thead>\n",
       "  <tbody>\n",
       "    <tr>\n",
       "      <th>No_Seq</th>\n",
       "      <td>0.476</td>\n",
       "      <td>500</td>\n",
       "    </tr>\n",
       "    <tr>\n",
       "      <th>GAVI</th>\n",
       "      <td>0.236</td>\n",
       "      <td>268</td>\n",
       "    </tr>\n",
       "    <tr>\n",
       "      <th>mSPRT</th>\n",
       "      <td>0.263</td>\n",
       "      <td>208</td>\n",
       "    </tr>\n",
       "    <tr>\n",
       "      <th>StatSig_SPRT</th>\n",
       "      <td>0.190</td>\n",
       "      <td>233</td>\n",
       "    </tr>\n",
       "    <tr>\n",
       "      <th>GST_linear</th>\n",
       "      <td>0.443</td>\n",
       "      <td>300</td>\n",
       "    </tr>\n",
       "    <tr>\n",
       "      <th>GST_quadratic</th>\n",
       "      <td>0.496</td>\n",
       "      <td>300</td>\n",
       "    </tr>\n",
       "    <tr>\n",
       "      <th>GST_cubic</th>\n",
       "      <td>0.519</td>\n",
       "      <td>350</td>\n",
       "    </tr>\n",
       "  </tbody>\n",
       "</table>\n",
       "</div>"
      ],
      "text/plain": [
       "               PositiveRate  SampleSize\n",
       "No_Seq                0.476         500\n",
       "GAVI                  0.236         268\n",
       "mSPRT                 0.263         208\n",
       "StatSig_SPRT          0.190         233\n",
       "GST_linear            0.443         300\n",
       "GST_quadratic         0.496         300\n",
       "GST_cubic             0.519         350"
      ]
     },
     "execution_count": 30,
     "metadata": {},
     "output_type": "execute_result"
    }
   ],
   "source": [
    "monte_carlo(aa_test=False, sampling=\"oversampled\")"
   ]
  },
  {
   "cell_type": "markdown",
   "metadata": {
    "id": "PX2KbRruloHW"
   },
   "source": [
    "So, as it comes from bar chart and tables:\n",
    "\n",
    "1. all `AVI` (including over-sampled options) are way weaker than even under-sampled GST, so power-wise `GST` is an unconditional winner\n",
    "2. it's appealing that for under-sampled `GST` the power has just a subtle decline, and even then only for strict spending function (Cubic), providing an increase for permissive spending function (Linear)\n",
    "3. Although if `AVI` rejects null hypothesis it does quicker (the required Sample Size is smaller) than `GST` on average"
   ]
  },
  {
   "cell_type": "markdown",
   "metadata": {
    "id": "Sa5RuY63v6ts"
   },
   "source": [
    "### Conversion Rate"
   ]
  },
  {
   "cell_type": "markdown",
   "metadata": {
    "id": "hGVhfvmEIlr3"
   },
   "source": [
    "In addition to continuous measure, let's consider ratio variable, how the methods work with conversions"
   ]
  },
  {
   "cell_type": "markdown",
   "metadata": {
    "id": "mwRJvk5gQZAm"
   },
   "source": [
    "#### False Positives"
   ]
  },
  {
   "cell_type": "code",
   "execution_count": 41,
   "metadata": {
    "id": "UH_QPZiYzA95"
   },
   "outputs": [],
   "source": [
    "#| echo: false\n",
    "import warnings\n",
    "warnings.filterwarnings(\"ignore\", category=RuntimeWarning)"
   ]
  },
  {
   "cell_type": "code",
   "execution_count": 42,
   "metadata": {
    "colab": {
     "base_uri": "https://localhost:8080/",
     "height": 300
    },
    "id": "UdmRkGofxMC4",
    "outputId": "801369fb-9033-4930-c5bf-d67ac236933c"
   },
   "outputs": [
    {
     "data": {
      "text/html": [
       "<div>\n",
       "<style scoped>\n",
       "    .dataframe tbody tr th:only-of-type {\n",
       "        vertical-align: middle;\n",
       "    }\n",
       "\n",
       "    .dataframe tbody tr th {\n",
       "        vertical-align: top;\n",
       "    }\n",
       "\n",
       "    .dataframe thead th {\n",
       "        text-align: right;\n",
       "    }\n",
       "</style>\n",
       "<table border=\"1\" class=\"dataframe\">\n",
       "  <thead>\n",
       "    <tr style=\"text-align: right;\">\n",
       "      <th></th>\n",
       "      <th>PositiveRate</th>\n",
       "      <th>SampleSize</th>\n",
       "    </tr>\n",
       "  </thead>\n",
       "  <tbody>\n",
       "    <tr>\n",
       "      <th>No_Seq</th>\n",
       "      <td>0.050</td>\n",
       "      <td>4500</td>\n",
       "    </tr>\n",
       "    <tr>\n",
       "      <th>GAVI</th>\n",
       "      <td>0.018</td>\n",
       "      <td>1913</td>\n",
       "    </tr>\n",
       "    <tr>\n",
       "      <th>mSPRT</th>\n",
       "      <td>0.072</td>\n",
       "      <td>88</td>\n",
       "    </tr>\n",
       "    <tr>\n",
       "      <th>StatSig_SPRT</th>\n",
       "      <td>0.044</td>\n",
       "      <td>60</td>\n",
       "    </tr>\n",
       "    <tr>\n",
       "      <th>StatSig_v1</th>\n",
       "      <td>0.074</td>\n",
       "      <td>3796</td>\n",
       "    </tr>\n",
       "    <tr>\n",
       "      <th>GST_linear</th>\n",
       "      <td>0.050</td>\n",
       "      <td>2700</td>\n",
       "    </tr>\n",
       "    <tr>\n",
       "      <th>GST_quadratic</th>\n",
       "      <td>0.049</td>\n",
       "      <td>3600</td>\n",
       "    </tr>\n",
       "    <tr>\n",
       "      <th>GST_cubic</th>\n",
       "      <td>0.049</td>\n",
       "      <td>3600</td>\n",
       "    </tr>\n",
       "  </tbody>\n",
       "</table>\n",
       "</div>"
      ],
      "text/plain": [
       "               PositiveRate  SampleSize\n",
       "No_Seq                0.050        4500\n",
       "GAVI                  0.018        1913\n",
       "mSPRT                 0.072          88\n",
       "StatSig_SPRT          0.044          60\n",
       "StatSig_v1            0.074        3796\n",
       "GST_linear            0.050        2700\n",
       "GST_quadratic         0.049        3600\n",
       "GST_cubic             0.049        3600"
      ]
     },
     "execution_count": 32,
     "metadata": {},
     "output_type": "execute_result"
    }
   ],
   "source": [
    "df = monte_carlo(aa_test=True, metric=\"choice\")\n",
    "df"
   ]
  },
  {
   "cell_type": "code",
   "execution_count": 43,
   "metadata": {
    "colab": {
     "base_uri": "https://localhost:8080/",
     "height": 542
    },
    "id": "8gdYowTzJlte",
    "outputId": "79082d17-38bb-425e-f9c3-df79c6d4a2ec"
   },
   "outputs": [],
   "source": [
    "#| eval: false\n",
    "plot_positive_rate(df, aa_test=True, sampling=\"ratio\")"
   ]
  },
  {
   "cell_type": "raw",
   "metadata": {},
   "source": [
    "{{< plotly obj=correctness-of-ratio-sequential-testing-design >}}"
   ]
  },
  {
   "cell_type": "markdown",
   "metadata": {
    "id": "7MSD8QEG9Ph-"
   },
   "source": [
    "As you see, in addition to StatSig v1 Alpha Correction which is again an outsider, mSPRT approximation is not good enough for Bernoulli random variable, for conversions it's another approach that shall be applied, `savvi` package might come handy here as it the main purpose the that library - to work with inhomogeneous Bernoulli or Poisson process.\n",
    "Alternatively, you may use `sequential_p_value` function from `gavi` module of `seqabpy`, it's a valid procedure following the algorithm defined by M. Lindon and A. Malek in [Anytime-Valid Inference For Multinomial Count Data (2022)](https://openreview.net/pdf?id=a4zg0jiuVi), could be a little less powerful though than `savvi` implementation that follows even more recent articles."
   ]
  },
  {
   "cell_type": "code",
   "execution_count": 44,
   "metadata": {
    "colab": {
     "base_uri": "https://localhost:8080/"
    },
    "id": "u7r0bYBbbHDw",
    "outputId": "26f8430c-05cd-4539-bcae-7b2a3affbefb"
   },
   "outputs": [
    {
     "name": "stdout",
     "output_type": "stream",
     "text": [
      "AVI p-value for Conversion: 0.075\n"
     ]
    }
   ],
   "source": [
    "expected_probs = [0.5, 0.5]\n",
    "\n",
    "# it's an asymptotic algorithm, so only numerators are compared\n",
    "# assuming the denominators of convesrion are similar like in fair A/B test\n",
    "actual_counts = [156, 212]\n",
    "\n",
    "print(f\"AVI p-value for Conversion: {gavi.sequential_p_value(actual_counts, expected_probs):.3f}\")"
   ]
  },
  {
   "cell_type": "code",
   "execution_count": 45,
   "metadata": {
    "colab": {
     "base_uri": "https://localhost:8080/",
     "height": 300
    },
    "id": "0uczOs1NyHbc",
    "outputId": "101e6331-9367-42c2-f4ee-a8146ae29b0d"
   },
   "outputs": [
    {
     "data": {
      "text/html": [
       "<div>\n",
       "<style scoped>\n",
       "    .dataframe tbody tr th:only-of-type {\n",
       "        vertical-align: middle;\n",
       "    }\n",
       "\n",
       "    .dataframe tbody tr th {\n",
       "        vertical-align: top;\n",
       "    }\n",
       "\n",
       "    .dataframe thead th {\n",
       "        text-align: right;\n",
       "    }\n",
       "</style>\n",
       "<table border=\"1\" class=\"dataframe\">\n",
       "  <thead>\n",
       "    <tr style=\"text-align: right;\">\n",
       "      <th></th>\n",
       "      <th>PositiveRate</th>\n",
       "      <th>SampleSize</th>\n",
       "    </tr>\n",
       "  </thead>\n",
       "  <tbody>\n",
       "    <tr>\n",
       "      <th>No_Seq</th>\n",
       "      <td>0.051</td>\n",
       "      <td>4500</td>\n",
       "    </tr>\n",
       "    <tr>\n",
       "      <th>GAVI</th>\n",
       "      <td>0.022</td>\n",
       "      <td>1620</td>\n",
       "    </tr>\n",
       "    <tr>\n",
       "      <th>mSPRT</th>\n",
       "      <td>0.069</td>\n",
       "      <td>85</td>\n",
       "    </tr>\n",
       "    <tr>\n",
       "      <th>StatSig_SPRT</th>\n",
       "      <td>0.045</td>\n",
       "      <td>61</td>\n",
       "    </tr>\n",
       "    <tr>\n",
       "      <th>StatSig_v1</th>\n",
       "      <td>0.189</td>\n",
       "      <td>3377</td>\n",
       "    </tr>\n",
       "    <tr>\n",
       "      <th>GST_linear</th>\n",
       "      <td>0.064</td>\n",
       "      <td>2250</td>\n",
       "    </tr>\n",
       "    <tr>\n",
       "      <th>GST_quadratic</th>\n",
       "      <td>0.072</td>\n",
       "      <td>2700</td>\n",
       "    </tr>\n",
       "    <tr>\n",
       "      <th>GST_cubic</th>\n",
       "      <td>0.076</td>\n",
       "      <td>3150</td>\n",
       "    </tr>\n",
       "  </tbody>\n",
       "</table>\n",
       "</div>"
      ],
      "text/plain": [
       "               PositiveRate  SampleSize\n",
       "No_Seq                0.051        4500\n",
       "GAVI                  0.022        1620\n",
       "mSPRT                 0.069          85\n",
       "StatSig_SPRT          0.045          61\n",
       "StatSig_v1            0.189        3377\n",
       "GST_linear            0.064        2250\n",
       "GST_quadratic         0.072        2700\n",
       "GST_cubic             0.076        3150"
      ]
     },
     "execution_count": 34,
     "metadata": {},
     "output_type": "execute_result"
    }
   ],
   "source": [
    "df = monte_carlo(aa_test=True, metric=\"choice\", sampling=\"oversampled\")\n",
    "df"
   ]
  },
  {
   "cell_type": "code",
   "execution_count": 46,
   "metadata": {
    "colab": {
     "base_uri": "https://localhost:8080/",
     "height": 542
    },
    "id": "REMrrDCzOKRg",
    "outputId": "c7865d24-1569-492e-ecf2-95222ee1cc7d"
   },
   "outputs": [],
   "source": [
    "#| eval: false\n",
    "plot_positive_rate(df, aa_test=True, sampling=\"oversampled ratio\")"
   ]
  },
  {
   "cell_type": "raw",
   "metadata": {},
   "source": [
    "{{< plotly obj=correctness-of-oversampled-ratio-sequential-testing-design >}}"
   ]
  },
  {
   "cell_type": "markdown",
   "metadata": {
    "id": "G4DrU3NidJCC"
   },
   "source": [
    "This chart above is just to assure you, that for conversions over-sampled `GST` doesn't work neither, I can't help but prove that `GST` in oversampling design is a flaw, while yet much better than Statsig v1 Alpha Corrections."
   ]
  },
  {
   "cell_type": "markdown",
   "metadata": {
    "id": "g7U8eRAxQeAK"
   },
   "source": [
    "#### True Positives"
   ]
  },
  {
   "cell_type": "markdown",
   "metadata": {
    "id": "T1fd2ZgWQgsC"
   },
   "source": [
    "Let's take a brief look at the power comparison for a couple different effect sizes"
   ]
  },
  {
   "cell_type": "code",
   "execution_count": 47,
   "metadata": {
    "colab": {
     "base_uri": "https://localhost:8080/",
     "height": 269
    },
    "id": "FWAUaHlwxudX",
    "outputId": "dc2b8f64-e3ff-437a-addd-64329a37e3ac"
   },
   "outputs": [
    {
     "data": {
      "text/html": [
       "<div>\n",
       "<style scoped>\n",
       "    .dataframe tbody tr th:only-of-type {\n",
       "        vertical-align: middle;\n",
       "    }\n",
       "\n",
       "    .dataframe tbody tr th {\n",
       "        vertical-align: top;\n",
       "    }\n",
       "\n",
       "    .dataframe thead th {\n",
       "        text-align: right;\n",
       "    }\n",
       "</style>\n",
       "<table border=\"1\" class=\"dataframe\">\n",
       "  <thead>\n",
       "    <tr style=\"text-align: right;\">\n",
       "      <th></th>\n",
       "      <th>PositiveRate</th>\n",
       "      <th>SampleSize</th>\n",
       "    </tr>\n",
       "  </thead>\n",
       "  <tbody>\n",
       "    <tr>\n",
       "      <th>No_Seq</th>\n",
       "      <td>0.480</td>\n",
       "      <td>4500</td>\n",
       "    </tr>\n",
       "    <tr>\n",
       "      <th>GAVI</th>\n",
       "      <td>0.240</td>\n",
       "      <td>2482</td>\n",
       "    </tr>\n",
       "    <tr>\n",
       "      <th>mSPRT</th>\n",
       "      <td>0.310</td>\n",
       "      <td>1441</td>\n",
       "    </tr>\n",
       "    <tr>\n",
       "      <th>StatSig_SPRT</th>\n",
       "      <td>0.226</td>\n",
       "      <td>1702</td>\n",
       "    </tr>\n",
       "    <tr>\n",
       "      <th>GST_linear</th>\n",
       "      <td>0.420</td>\n",
       "      <td>2700</td>\n",
       "    </tr>\n",
       "    <tr>\n",
       "      <th>GST_quadratic</th>\n",
       "      <td>0.449</td>\n",
       "      <td>3150</td>\n",
       "    </tr>\n",
       "    <tr>\n",
       "      <th>GST_cubic</th>\n",
       "      <td>0.460</td>\n",
       "      <td>3600</td>\n",
       "    </tr>\n",
       "  </tbody>\n",
       "</table>\n",
       "</div>"
      ],
      "text/plain": [
       "               PositiveRate  SampleSize\n",
       "No_Seq                0.480        4500\n",
       "GAVI                  0.240        2482\n",
       "mSPRT                 0.310        1441\n",
       "StatSig_SPRT          0.226        1702\n",
       "GST_linear            0.420        2700\n",
       "GST_quadratic         0.449        3150\n",
       "GST_cubic             0.460        3600"
      ]
     },
     "execution_count": 35,
     "metadata": {},
     "output_type": "execute_result"
    }
   ],
   "source": [
    "df = monte_carlo(aa_test=False, metric=\"choice\", effect_size=0.10)\n",
    "df"
   ]
  },
  {
   "cell_type": "code",
   "execution_count": 48,
   "metadata": {
    "colab": {
     "base_uri": "https://localhost:8080/",
     "height": 542
    },
    "id": "M0y26Q1tSUs9",
    "outputId": "dcb652bc-6f3e-4007-ba89-b30303dcd378"
   },
   "outputs": [],
   "source": [
    "#| eval: false\n",
    "plot_positive_rate(df, aa_test=False, sampling=\"ratio\")"
   ]
  },
  {
   "cell_type": "raw",
   "metadata": {},
   "source": [
    "{{< plotly obj=power-of-ratio-sequential-testing-design >}}"
   ]
  },
  {
   "cell_type": "code",
   "execution_count": 49,
   "metadata": {
    "colab": {
     "base_uri": "https://localhost:8080/",
     "height": 269
    },
    "id": "S-Gq9ODEQwka",
    "outputId": "7f748009-43d0-4ee9-8325-b6080dfdef7a"
   },
   "outputs": [
    {
     "data": {
      "text/html": [
       "<div>\n",
       "<style scoped>\n",
       "    .dataframe tbody tr th:only-of-type {\n",
       "        vertical-align: middle;\n",
       "    }\n",
       "\n",
       "    .dataframe tbody tr th {\n",
       "        vertical-align: top;\n",
       "    }\n",
       "\n",
       "    .dataframe thead th {\n",
       "        text-align: right;\n",
       "    }\n",
       "</style>\n",
       "<table border=\"1\" class=\"dataframe\">\n",
       "  <thead>\n",
       "    <tr style=\"text-align: right;\">\n",
       "      <th></th>\n",
       "      <th>PositiveRate</th>\n",
       "      <th>SampleSize</th>\n",
       "    </tr>\n",
       "  </thead>\n",
       "  <tbody>\n",
       "    <tr>\n",
       "      <th>No_Seq</th>\n",
       "      <td>0.930</td>\n",
       "      <td>4500</td>\n",
       "    </tr>\n",
       "    <tr>\n",
       "      <th>GAVI</th>\n",
       "      <td>0.767</td>\n",
       "      <td>2127</td>\n",
       "    </tr>\n",
       "    <tr>\n",
       "      <th>mSPRT</th>\n",
       "      <td>0.796</td>\n",
       "      <td>1593</td>\n",
       "    </tr>\n",
       "    <tr>\n",
       "      <th>StatSig_SPRT</th>\n",
       "      <td>0.718</td>\n",
       "      <td>1923</td>\n",
       "    </tr>\n",
       "    <tr>\n",
       "      <th>GST_linear</th>\n",
       "      <td>0.898</td>\n",
       "      <td>2250</td>\n",
       "    </tr>\n",
       "    <tr>\n",
       "      <th>GST_quadratic</th>\n",
       "      <td>0.915</td>\n",
       "      <td>2250</td>\n",
       "    </tr>\n",
       "    <tr>\n",
       "      <th>GST_cubic</th>\n",
       "      <td>0.921</td>\n",
       "      <td>2700</td>\n",
       "    </tr>\n",
       "  </tbody>\n",
       "</table>\n",
       "</div>"
      ],
      "text/plain": [
       "               PositiveRate  SampleSize\n",
       "No_Seq                0.930        4500\n",
       "GAVI                  0.767        2127\n",
       "mSPRT                 0.796        1593\n",
       "StatSig_SPRT          0.718        1923\n",
       "GST_linear            0.898        2250\n",
       "GST_quadratic         0.915        2250\n",
       "GST_cubic             0.921        2700"
      ]
     },
     "execution_count": 36,
     "metadata": {},
     "output_type": "execute_result"
    }
   ],
   "source": [
    "df = monte_carlo(aa_test=False, metric=\"choice\", effect_size=0.2)\n",
    "df"
   ]
  },
  {
   "cell_type": "code",
   "execution_count": 50,
   "metadata": {
    "colab": {
     "base_uri": "https://localhost:8080/",
     "height": 542
    },
    "id": "b1DzgU-ySjz3",
    "outputId": "368369f7-8f54-4606-e132-0becb179940e"
   },
   "outputs": [],
   "source": [
    "#| eval: false\n",
    "plot_positive_rate(df, aa_test=False, sampling=\"strong effect\")"
   ]
  },
  {
   "cell_type": "raw",
   "metadata": {},
   "source": [
    "{{< plotly obj=power-of-strong-effect-sequential-testing-design >}}"
   ]
  },
  {
   "cell_type": "markdown",
   "metadata": {
    "id": "fDW7x1zKTVTX"
   },
   "source": [
    "With the growing effect size the relative difference in power is getting lower, but you can check that with any kind of reasonable effect size, `GST` outperforms `AVI` and what is more even for conversion variable, where `mSPRT` method doesn't really control Type I error rate, it's less powerful than `GST` after all."
   ]
  },
  {
   "cell_type": "markdown",
   "metadata": {
    "id": "AECCPHaUUBN-"
   },
   "source": [
    "# Conclusion"
   ]
  },
  {
   "cell_type": "markdown",
   "metadata": {
    "id": "LFB3WABmC9AD"
   },
   "source": [
    "Generally speaking, I'd rather say that `GST` is yet the best framework for sequential testing, despite all the recent publications on cutting-edge `AVI` variations.\n",
    "\n",
    "However, I have to make a clause: while `AVI` is noticeably less powerful, it's perfect to work in a streaming manner for guardrail metrics, while GST is better for target metrics within you AB test."
   ]
  },
  {
   "cell_type": "raw",
   "metadata": {},
   "source": [
    "::: {.callout-tip}\n",
    "Combining these methodologies you may set up robust Sequential Testing framework, gaining from both: quick detection of major deterioration in your product with `AVI` and reliable uplifts discoveries in your decisive metrics with the most powerful `GST` procedure.\n",
    ":::"
   ]
  },
  {
   "cell_type": "markdown",
   "metadata": {},
   "source": [
    "Another important point is to be conscious about the choice of the specific version of the algorithms that you will use.\n",
    "\n",
    "For instance running an under-sampled experiments where `GST` with strict alpha spending functions, like Cubic, applied is less preferable, under-sampling works better with permissive spending functions, as well as over-sampling with Cubic spending is worse as it inflates $\\alpha$ more."
   ]
  },
  {
   "cell_type": "raw",
   "metadata": {},
   "source": [
    "::: {.callout-tip}\n",
    "## General Rule\n",
    "\n",
    "The more permissive spending function is the faster effect is identified, but the less power at the end of experiment is achieved, what is especially striking for less substantial effect sizes.\n",
    ":::"
   ]
  },
  {
   "cell_type": "markdown",
   "metadata": {},
   "source": [
    "Rounding this extensive blog-post up, here are the recommendations on choosing the sequential testing framework wrapped up into a single decision tree:"
   ]
  },
  {
   "cell_type": "raw",
   "metadata": {
    "id": "stCC_fN549TI"
   },
   "source": [
    "```{=html}\n",
    "<!-- draw.io diagram -->\n",
    "<div class=\"mxgraph\" style=\"max-width:100%;border:1px solid transparent;\" data-mxgraph=\"{&quot;highlight&quot;:&quot;#0000ff&quot;,&quot;lightbox&quot;:false,&quot;nav&quot;:true,&quot;resize&quot;:true,&quot;toolbar&quot;:&quot;zoom&quot;,&quot;edit&quot;:&quot;_blank&quot;,&quot;xml&quot;:&quot;&lt;mxfile host=\\&quot;ac.draw.io\\&quot; agent=\\&quot;Mozilla/5.0 (Windows NT 10.0; Win64; x64) AppleWebKit/537.36 (KHTML, like Gecko) Chrome/131.0.0.0 Safari/537.36\\&quot; version=\\&quot;25.0.3\\&quot;&gt;\\n  &lt;diagram name=\\&quot;Page-1\\&quot; id=\\&quot;10a91c8b-09ff-31b1-d368-03940ed4cc9e\\&quot;&gt;\\n    &lt;mxGraphModel dx=\\&quot;1985\\&quot; dy=\\&quot;1050\\&quot; grid=\\&quot;1\\&quot; gridSize=\\&quot;10\\&quot; guides=\\&quot;1\\&quot; tooltips=\\&quot;1\\&quot; connect=\\&quot;1\\&quot; arrows=\\&quot;1\\&quot; fold=\\&quot;1\\&quot; page=\\&quot;1\\&quot; pageScale=\\&quot;1\\&quot; pageWidth=\\&quot;1100\\&quot; pageHeight=\\&quot;850\\&quot; background=\\&quot;none\\&quot; math=\\&quot;0\\&quot; shadow=\\&quot;0\\&quot;&gt;\\n      &lt;root&gt;\\n        &lt;mxCell id=\\&quot;0\\&quot; /&gt;\\n        &lt;mxCell id=\\&quot;1\\&quot; parent=\\&quot;0\\&quot; /&gt;\\n        &lt;mxCell id=\\&quot;BCZGtb4ARAkY1Pyahnf2-1\\&quot; value=\\&quot;\\&quot; style=\\&quot;rounded=1;whiteSpace=wrap;html=1;strokeColor=#9B9C9D;glass=0;shadow=0;fillColor=#9B9C9D;\\&quot; vertex=\\&quot;1\\&quot; parent=\\&quot;1\\&quot;&gt;\\n          &lt;mxGeometry x=\\&quot;60\\&quot; y=\\&quot;10\\&quot; width=\\&quot;950\\&quot; height=\\&quot;830\\&quot; as=\\&quot;geometry\\&quot; /&gt;\\n        &lt;/mxCell&gt;\\n        &lt;mxCell id=\\&quot;62893188c0fa7362-1\\&quot; value=\\&quot;Data is supplied in a streaming manner\\&quot; style=\\&quot;whiteSpace=wrap;html=1;rounded=1;shadow=1;labelBackgroundColor=none;strokeWidth=1;fontFamily=Verdana;fontSize=12;align=center;\\&quot; parent=\\&quot;1\\&quot; vertex=\\&quot;1\\&quot;&gt;\\n          &lt;mxGeometry x=\\&quot;590\\&quot; y=\\&quot;30\\&quot; width=\\&quot;120\\&quot; height=\\&quot;60\\&quot; as=\\&quot;geometry\\&quot; /&gt;\\n        &lt;/mxCell&gt;\\n        &lt;mxCell id=\\&quot;62893188c0fa7362-2\\&quot; value=\\&quot;Sample size unknown\\&quot; style=\\&quot;whiteSpace=wrap;html=1;rounded=1;shadow=1;labelBackgroundColor=none;strokeWidth=1;fontFamily=Verdana;fontSize=12;align=center;\\&quot; parent=\\&quot;1\\&quot; vertex=\\&quot;1\\&quot;&gt;\\n          &lt;mxGeometry x=\\&quot;350\\&quot; y=\\&quot;140\\&quot; width=\\&quot;120\\&quot; height=\\&quot;60\\&quot; as=\\&quot;geometry\\&quot; /&gt;\\n        &lt;/mxCell&gt;\\n        &lt;mxCell id=\\&quot;62893188c0fa7362-5\\&quot; value=\\&quot;No\\&quot; style=\\&quot;rounded=0;html=1;labelBackgroundColor=none;startArrow=none;startFill=0;startSize=5;endArrow=classic;endFill=1;endSize=5;jettySize=auto;orthogonalLoop=1;strokeWidth=1;fontFamily=Verdana;fontSize=12;exitX=0.108;exitY=1;exitDx=0;exitDy=0;exitPerimeter=0;\\&quot; parent=\\&quot;1\\&quot; source=\\&quot;62893188c0fa7362-1\\&quot; target=\\&quot;62893188c0fa7362-2\\&quot; edge=\\&quot;1\\&quot;&gt;\\n          &lt;mxGeometry x=\\&quot;-0.2051\\&quot; y=\\&quot;-17\\&quot; relative=\\&quot;1\\&quot; as=\\&quot;geometry\\&quot;&gt;\\n            &lt;mxPoint as=\\&quot;offset\\&quot; /&gt;\\n          &lt;/mxGeometry&gt;\\n        &lt;/mxCell&gt;\\n        &lt;mxCell id=\\&quot;62893188c0fa7362-8\\&quot; value=\\&quot;Only upper bound for observations number is known\\&quot; style=\\&quot;whiteSpace=wrap;html=1;rounded=1;shadow=1;labelBackgroundColor=none;strokeWidth=1;fontFamily=Verdana;fontSize=12;align=center;\\&quot; parent=\\&quot;1\\&quot; vertex=\\&quot;1\\&quot;&gt;\\n          &lt;mxGeometry x=\\&quot;110\\&quot; y=\\&quot;410\\&quot; width=\\&quot;120\\&quot; height=\\&quot;60\\&quot; as=\\&quot;geometry\\&quot; /&gt;\\n        &lt;/mxCell&gt;\\n        &lt;mxCell id=\\&quot;62893188c0fa7362-9\\&quot; value=\\&quot;There are many intermittent analyses (&amp;amp;gt;30)&amp;amp;nbsp;\\&quot; style=\\&quot;whiteSpace=wrap;html=1;rounded=1;shadow=1;labelBackgroundColor=none;strokeWidth=1;fontFamily=Verdana;fontSize=12;align=center;\\&quot; parent=\\&quot;1\\&quot; vertex=\\&quot;1\\&quot;&gt;\\n          &lt;mxGeometry x=\\&quot;590\\&quot; y=\\&quot;250\\&quot; width=\\&quot;120\\&quot; height=\\&quot;60\\&quot; as=\\&quot;geometry\\&quot; /&gt;\\n        &lt;/mxCell&gt;\\n        &lt;mxCell id=\\&quot;62893188c0fa7362-10\\&quot; value=\\&quot;&amp;lt;span&amp;gt;Always Valid Inference (AVI)&amp;lt;/span&amp;gt;\\&quot; style=\\&quot;whiteSpace=wrap;html=1;rounded=0;shadow=1;labelBackgroundColor=none;strokeWidth=2;fontFamily=Verdana;fontSize=12;align=center;fillColor=#dae8fc;strokeColor=#6c8ebf;\\&quot; parent=\\&quot;1\\&quot; vertex=\\&quot;1\\&quot;&gt;\\n          &lt;mxGeometry x=\\&quot;850\\&quot; y=\\&quot;140\\&quot; width=\\&quot;120\\&quot; height=\\&quot;60\\&quot; as=\\&quot;geometry\\&quot; /&gt;\\n        &lt;/mxCell&gt;\\n        &lt;mxCell id=\\&quot;62893188c0fa7362-13\\&quot; value=\\&quot;Large-scale effect is expected from the experiment\\&quot; style=\\&quot;whiteSpace=wrap;html=1;rounded=1;shadow=1;labelBackgroundColor=none;strokeWidth=1;fontFamily=Verdana;fontSize=12;align=center;\\&quot; parent=\\&quot;1\\&quot; vertex=\\&quot;1\\&quot;&gt;\\n          &lt;mxGeometry x=\\&quot;110\\&quot; y=\\&quot;570\\&quot; width=\\&quot;120\\&quot; height=\\&quot;60\\&quot; as=\\&quot;geometry\\&quot; /&gt;\\n        &lt;/mxCell&gt;\\n        &lt;mxCell id=\\&quot;62893188c0fa7362-14\\&quot; value=\\&quot;No\\&quot; style=\\&quot;rounded=0;html=1;labelBackgroundColor=none;startArrow=none;startFill=0;startSize=5;endArrow=classic;endFill=1;endSize=5;jettySize=auto;orthogonalLoop=1;strokeWidth=1;fontFamily=Verdana;fontSize=12;exitX=0.5;exitY=1;exitDx=0;exitDy=0;entryX=0.5;entryY=0;entryDx=0;entryDy=0;\\&quot; parent=\\&quot;1\\&quot; source=\\&quot;eBBfYNGfGk0e3oGPA11c-2\\&quot; target=\\&quot;62893188c0fa7362-8\\&quot; edge=\\&quot;1\\&quot;&gt;\\n          &lt;mxGeometry x=\\&quot;0.1111\\&quot; y=\\&quot;-20\\&quot; relative=\\&quot;1\\&quot; as=\\&quot;geometry\\&quot;&gt;\\n            &lt;mxPoint as=\\&quot;offset\\&quot; /&gt;\\n          &lt;/mxGeometry&gt;\\n        &lt;/mxCell&gt;\\n        &lt;mxCell id=\\&quot;62893188c0fa7362-15\\&quot; value=\\&quot;Yes\\&quot; style=\\&quot;rounded=0;html=1;labelBackgroundColor=none;startArrow=none;startFill=0;startSize=5;endArrow=classic;endFill=1;endSize=5;jettySize=auto;orthogonalLoop=1;strokeWidth=1;fontFamily=Verdana;fontSize=12;exitX=1;exitY=1;exitDx=0;exitDy=0;entryX=0;entryY=0;entryDx=0;entryDy=0;\\&quot; parent=\\&quot;1\\&quot; source=\\&quot;62893188c0fa7362-2\\&quot; target=\\&quot;62893188c0fa7362-9\\&quot; edge=\\&quot;1\\&quot;&gt;\\n          &lt;mxGeometry x=\\&quot;-0.2\\&quot; y=\\&quot;14\\&quot; relative=\\&quot;1\\&quot; as=\\&quot;geometry\\&quot;&gt;\\n            &lt;mxPoint as=\\&quot;offset\\&quot; /&gt;\\n          &lt;/mxGeometry&gt;\\n        &lt;/mxCell&gt;\\n        &lt;mxCell id=\\&quot;62893188c0fa7362-16\\&quot; value=\\&quot;Yes\\&quot; style=\\&quot;rounded=0;html=1;labelBackgroundColor=none;startArrow=none;startFill=0;endArrow=classic;endFill=1;jettySize=auto;orthogonalLoop=1;strokeWidth=1;fontFamily=Verdana;fontSize=12;exitX=0.933;exitY=1.017;exitDx=0;exitDy=0;exitPerimeter=0;strokeColor=default;entryX=0;entryY=0;entryDx=0;entryDy=0;\\&quot; parent=\\&quot;1\\&quot; source=\\&quot;62893188c0fa7362-1\\&quot; target=\\&quot;62893188c0fa7362-10\\&quot; edge=\\&quot;1\\&quot;&gt;\\n          &lt;mxGeometry x=\\&quot;-0.0325\\&quot; y=\\&quot;11\\&quot; relative=\\&quot;1\\&quot; as=\\&quot;geometry\\&quot;&gt;\\n            &lt;mxPoint x=\\&quot;1\\&quot; as=\\&quot;offset\\&quot; /&gt;\\n            &lt;mxPoint x=\\&quot;810\\&quot; y=\\&quot;220\\&quot; as=\\&quot;sourcePoint\\&quot; /&gt;\\n            &lt;mxPoint x=\\&quot;880\\&quot; y=\\&quot;110\\&quot; as=\\&quot;targetPoint\\&quot; /&gt;\\n          &lt;/mxGeometry&gt;\\n        &lt;/mxCell&gt;\\n        &lt;mxCell id=\\&quot;62893188c0fa7362-19\\&quot; value=\\&quot;No\\&quot; style=\\&quot;rounded=0;html=1;labelBackgroundColor=none;startArrow=none;startFill=0;startSize=5;endArrow=classic;endFill=1;endSize=5;jettySize=auto;orthogonalLoop=1;strokeWidth=1;fontFamily=Verdana;fontSize=12;exitX=0.5;exitY=1;exitDx=0;exitDy=0;entryX=0.5;entryY=0;entryDx=0;entryDy=0;\\&quot; parent=\\&quot;1\\&quot; source=\\&quot;62893188c0fa7362-8\\&quot; target=\\&quot;62893188c0fa7362-13\\&quot; edge=\\&quot;1\\&quot;&gt;\\n          &lt;mxGeometry x=\\&quot;-0.2857\\&quot; y=\\&quot;-20\\&quot; relative=\\&quot;1\\&quot; as=\\&quot;geometry\\&quot;&gt;\\n            &lt;mxPoint as=\\&quot;offset\\&quot; /&gt;\\n            &lt;mxPoint x=\\&quot;190\\&quot; y=\\&quot;570\\&quot; as=\\&quot;targetPoint\\&quot; /&gt;\\n          &lt;/mxGeometry&gt;\\n        &lt;/mxCell&gt;\\n        &lt;mxCell id=\\&quot;62893188c0fa7362-21\\&quot; value=\\&quot;&amp;lt;span&amp;gt;Classic GST with permissive alpha spending function&amp;lt;/span&amp;gt;\\&quot; style=\\&quot;whiteSpace=wrap;html=1;rounded=0;shadow=1;labelBackgroundColor=none;strokeWidth=2;fontFamily=Verdana;fontSize=12;align=center;fillColor=#d5e8d4;strokeColor=#82b366;\\&quot; parent=\\&quot;1\\&quot; vertex=\\&quot;1\\&quot;&gt;\\n          &lt;mxGeometry x=\\&quot;390\\&quot; y=\\&quot;490\\&quot; width=\\&quot;120\\&quot; height=\\&quot;60\\&quot; as=\\&quot;geometry\\&quot; /&gt;\\n        &lt;/mxCell&gt;\\n        &lt;mxCell id=\\&quot;62893188c0fa7362-22\\&quot; value=\\&quot;Classic GST&amp;lt;br&amp;gt;with strict alpha spending function\\&quot; style=\\&quot;whiteSpace=wrap;html=1;rounded=0;shadow=1;labelBackgroundColor=none;strokeWidth=2;fontFamily=Verdana;fontSize=12;align=center;fillColor=#d5e8d4;strokeColor=#82b366;\\&quot; parent=\\&quot;1\\&quot; vertex=\\&quot;1\\&quot;&gt;\\n          &lt;mxGeometry x=\\&quot;110\\&quot; y=\\&quot;730\\&quot; width=\\&quot;120\\&quot; height=\\&quot;60\\&quot; as=\\&quot;geometry\\&quot; /&gt;\\n        &lt;/mxCell&gt;\\n        &lt;mxCell id=\\&quot;62893188c0fa7362-25\\&quot; value=\\&quot;Yes\\&quot; style=\\&quot;rounded=0;html=1;labelBackgroundColor=none;startArrow=none;startFill=0;startSize=5;endArrow=classic;endFill=1;endSize=5;jettySize=auto;orthogonalLoop=1;strokeWidth=1;fontFamily=Verdana;fontSize=12;exitX=1;exitY=0.5;exitDx=0;exitDy=0;entryX=0;entryY=0;entryDx=0;entryDy=0;\\&quot; parent=\\&quot;1\\&quot; source=\\&quot;62893188c0fa7362-8\\&quot; target=\\&quot;62893188c0fa7362-21\\&quot; edge=\\&quot;1\\&quot;&gt;\\n          &lt;mxGeometry x=\\&quot;0.1373\\&quot; y=\\&quot;16\\&quot; relative=\\&quot;1\\&quot; as=\\&quot;geometry\\&quot;&gt;\\n            &lt;mxPoint as=\\&quot;offset\\&quot; /&gt;\\n            &lt;mxPoint x=\\&quot;245.71428571428578\\&quot; y=\\&quot;605\\&quot; as=\\&quot;sourcePoint\\&quot; /&gt;\\n          &lt;/mxGeometry&gt;\\n        &lt;/mxCell&gt;\\n        &lt;mxCell id=\\&quot;62893188c0fa7362-26\\&quot; value=\\&quot;No\\&quot; style=\\&quot;rounded=0;html=1;labelBackgroundColor=none;startArrow=none;startFill=0;startSize=5;endArrow=classic;endFill=1;endSize=5;jettySize=auto;orthogonalLoop=1;strokeWidth=1;fontFamily=Verdana;fontSize=12;exitX=0.5;exitY=1;exitDx=0;exitDy=0;entryX=0.5;entryY=0;entryDx=0;entryDy=0;\\&quot; parent=\\&quot;1\\&quot; source=\\&quot;62893188c0fa7362-13\\&quot; target=\\&quot;62893188c0fa7362-22\\&quot; edge=\\&quot;1\\&quot;&gt;\\n          &lt;mxGeometry x=\\&quot;0.0033\\&quot; y=\\&quot;-12\\&quot; relative=\\&quot;1\\&quot; as=\\&quot;geometry\\&quot;&gt;\\n            &lt;mxPoint as=\\&quot;offset\\&quot; /&gt;\\n          &lt;/mxGeometry&gt;\\n        &lt;/mxCell&gt;\\n        &lt;mxCell id=\\&quot;62893188c0fa7362-27\\&quot; value=\\&quot;Yes\\&quot; style=\\&quot;rounded=0;html=1;labelBackgroundColor=none;startArrow=none;startFill=0;startSize=5;endArrow=classic;endFill=1;endSize=5;jettySize=auto;orthogonalLoop=1;strokeWidth=1;fontFamily=Verdana;fontSize=12;entryX=0;entryY=1;entryDx=0;entryDy=0;exitX=1;exitY=0.5;exitDx=0;exitDy=0;\\&quot; parent=\\&quot;1\\&quot; source=\\&quot;62893188c0fa7362-13\\&quot; target=\\&quot;62893188c0fa7362-21\\&quot; edge=\\&quot;1\\&quot;&gt;\\n          &lt;mxGeometry x=\\&quot;0.1373\\&quot; y=\\&quot;16\\&quot; relative=\\&quot;1\\&quot; as=\\&quot;geometry\\&quot;&gt;\\n            &lt;mxPoint as=\\&quot;offset\\&quot; /&gt;\\n            &lt;mxPoint x=\\&quot;250\\&quot; y=\\&quot;600\\&quot; as=\\&quot;sourcePoint\\&quot; /&gt;\\n          &lt;/mxGeometry&gt;\\n        &lt;/mxCell&gt;\\n        &lt;mxCell id=\\&quot;f_bxW6br7S2beZE4IyPl-2\\&quot; value=\\&quot;Yes\\&quot; style=\\&quot;rounded=0;html=1;labelBackgroundColor=none;startArrow=none;startFill=0;startSize=5;endArrow=classic;endFill=1;endSize=5;jettySize=auto;orthogonalLoop=1;strokeWidth=1;fontFamily=Verdana;fontSize=12;entryX=0;entryY=1;entryDx=0;entryDy=0;exitX=1.025;exitY=0.133;exitDx=0;exitDy=0;exitPerimeter=0;\\&quot; parent=\\&quot;1\\&quot; source=\\&quot;62893188c0fa7362-9\\&quot; target=\\&quot;62893188c0fa7362-10\\&quot; edge=\\&quot;1\\&quot;&gt;\\n          &lt;mxGeometry x=\\&quot;-0.0325\\&quot; y=\\&quot;11\\&quot; relative=\\&quot;1\\&quot; as=\\&quot;geometry\\&quot;&gt;\\n            &lt;mxPoint x=\\&quot;1\\&quot; as=\\&quot;offset\\&quot; /&gt;\\n            &lt;mxPoint x=\\&quot;710\\&quot; y=\\&quot;270\\&quot; as=\\&quot;sourcePoint\\&quot; /&gt;\\n            &lt;mxPoint x=\\&quot;780\\&quot; y=\\&quot;300\\&quot; as=\\&quot;targetPoint\\&quot; /&gt;\\n          &lt;/mxGeometry&gt;\\n        &lt;/mxCell&gt;\\n        &lt;mxCell id=\\&quot;f_bxW6br7S2beZE4IyPl-4\\&quot; value=\\&quot;&amp;lt;span&amp;gt;Simple Bonferroni Correction&amp;lt;/span&amp;gt;\\&quot; style=\\&quot;whiteSpace=wrap;html=1;rounded=0;shadow=1;labelBackgroundColor=none;strokeWidth=2;fontFamily=Verdana;fontSize=12;align=center;fillColor=#e1d5e7;strokeColor=#9673a6;\\&quot; parent=\\&quot;1\\&quot; vertex=\\&quot;1\\&quot;&gt;\\n          &lt;mxGeometry x=\\&quot;850\\&quot; y=\\&quot;360\\&quot; width=\\&quot;120\\&quot; height=\\&quot;60\\&quot; as=\\&quot;geometry\\&quot; /&gt;\\n        &lt;/mxCell&gt;\\n        &lt;mxCell id=\\&quot;f_bxW6br7S2beZE4IyPl-5\\&quot; value=\\&quot;No\\&quot; style=\\&quot;rounded=0;html=1;labelBackgroundColor=none;startArrow=none;startFill=0;startSize=5;endArrow=classic;endFill=1;endSize=5;jettySize=auto;orthogonalLoop=1;strokeWidth=1;fontFamily=Verdana;fontSize=12;exitX=1;exitY=1;exitDx=0;exitDy=0;entryX=0;entryY=0.5;entryDx=0;entryDy=0;\\&quot; parent=\\&quot;1\\&quot; source=\\&quot;62893188c0fa7362-9\\&quot; target=\\&quot;f_bxW6br7S2beZE4IyPl-4\\&quot; edge=\\&quot;1\\&quot;&gt;\\n          &lt;mxGeometry x=\\&quot;-0.2\\&quot; y=\\&quot;-14\\&quot; relative=\\&quot;1\\&quot; as=\\&quot;geometry\\&quot;&gt;\\n            &lt;mxPoint as=\\&quot;offset\\&quot; /&gt;\\n            &lt;mxPoint x=\\&quot;740\\&quot; y=\\&quot;400\\&quot; as=\\&quot;sourcePoint\\&quot; /&gt;\\n            &lt;mxPoint x=\\&quot;670\\&quot; y=\\&quot;470\\&quot; as=\\&quot;targetPoint\\&quot; /&gt;\\n          &lt;/mxGeometry&gt;\\n        &lt;/mxCell&gt;\\n        &lt;mxCell id=\\&quot;eBBfYNGfGk0e3oGPA11c-2\\&quot; value=\\&quot;Is there a need to run a test for an arbitrary long time\\&quot; style=\\&quot;whiteSpace=wrap;html=1;rounded=1;shadow=1;labelBackgroundColor=none;strokeWidth=1;fontFamily=Verdana;fontSize=12;align=center;\\&quot; parent=\\&quot;1\\&quot; vertex=\\&quot;1\\&quot;&gt;\\n          &lt;mxGeometry x=\\&quot;110\\&quot; y=\\&quot;250\\&quot; width=\\&quot;120\\&quot; height=\\&quot;60\\&quot; as=\\&quot;geometry\\&quot; /&gt;\\n        &lt;/mxCell&gt;\\n        &lt;mxCell id=\\&quot;eBBfYNGfGk0e3oGPA11c-3\\&quot; value=\\&quot;No\\&quot; style=\\&quot;rounded=0;html=1;labelBackgroundColor=none;startArrow=none;startFill=0;startSize=5;endArrow=classic;endFill=1;endSize=5;jettySize=auto;orthogonalLoop=1;strokeWidth=1;fontFamily=Verdana;fontSize=12;exitX=0;exitY=1;exitDx=0;exitDy=0;entryX=1;entryY=0;entryDx=0;entryDy=0;\\&quot; parent=\\&quot;1\\&quot; source=\\&quot;62893188c0fa7362-2\\&quot; target=\\&quot;eBBfYNGfGk0e3oGPA11c-2\\&quot; edge=\\&quot;1\\&quot;&gt;\\n          &lt;mxGeometry x=\\&quot;-0.2\\&quot; y=\\&quot;-14\\&quot; relative=\\&quot;1\\&quot; as=\\&quot;geometry\\&quot;&gt;\\n            &lt;mxPoint as=\\&quot;offset\\&quot; /&gt;\\n            &lt;mxPoint x=\\&quot;470\\&quot; y=\\&quot;245\\&quot; as=\\&quot;sourcePoint\\&quot; /&gt;\\n            &lt;mxPoint x=\\&quot;340\\&quot; y=\\&quot;460\\&quot; as=\\&quot;targetPoint\\&quot; /&gt;\\n          &lt;/mxGeometry&gt;\\n        &lt;/mxCell&gt;\\n        &lt;mxCell id=\\&quot;eBBfYNGfGk0e3oGPA11c-4\\&quot; value=\\&quot;Yes\\&quot; style=\\&quot;rounded=0;html=1;labelBackgroundColor=none;startArrow=none;startFill=0;startSize=5;endArrow=classic;endFill=1;endSize=5;jettySize=auto;orthogonalLoop=1;strokeWidth=1;fontFamily=Verdana;fontSize=12;exitX=1;exitY=0.5;exitDx=0;exitDy=0;entryX=0;entryY=0.5;entryDx=0;entryDy=0;\\&quot; parent=\\&quot;1\\&quot; source=\\&quot;eBBfYNGfGk0e3oGPA11c-2\\&quot; target=\\&quot;62893188c0fa7362-9\\&quot; edge=\\&quot;1\\&quot;&gt;\\n          &lt;mxGeometry x=\\&quot;-0.027\\&quot; y=\\&quot;20\\&quot; relative=\\&quot;1\\&quot; as=\\&quot;geometry\\&quot;&gt;\\n            &lt;mxPoint as=\\&quot;offset\\&quot; /&gt;\\n            &lt;mxPoint x=\\&quot;480\\&quot; y=\\&quot;210\\&quot; as=\\&quot;sourcePoint\\&quot; /&gt;\\n            &lt;mxPoint x=\\&quot;600\\&quot; y=\\&quot;275\\&quot; as=\\&quot;targetPoint\\&quot; /&gt;\\n          &lt;/mxGeometry&gt;\\n        &lt;/mxCell&gt;\\n      &lt;/root&gt;\\n    &lt;/mxGraphModel&gt;\\n  &lt;/diagram&gt;\\n&lt;/mxfile&gt;\\n&quot;}\"></div>\n",
    "<script type=\"text/javascript\" src=\"https://viewer.diagrams.net/js/viewer-static.min.js\"></script>\n",
    "```"
   ]
  },
  {
   "cell_type": "code",
   "execution_count": 51,
   "metadata": {},
   "outputs": [],
   "source": []
  }
 ],
 "metadata": {
  "colab": {
   "collapsed_sections": [
    "hvt2GnPOBBap",
    "yYDKHiN_fAGH"
   ],
   "provenance": [],
   "toc_visible": true
  },
  "kernelspec": {
   "display_name": "Python 3 (ipykernel)",
   "language": "python",
   "name": "python3"
  },
  "language_info": {
   "codemirror_mode": {
    "name": "ipython",
    "version": 3
   },
   "file_extension": ".py",
   "mimetype": "text/x-python",
   "name": "python",
   "nbconvert_exporter": "python",
   "pygments_lexer": "ipython3",
   "version": "3.11.4"
  }
 },
 "nbformat": 4,
 "nbformat_minor": 4
}
