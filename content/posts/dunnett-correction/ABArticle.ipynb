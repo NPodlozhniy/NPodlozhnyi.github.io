{
 "cells": [
  {
   "cell_type": "raw",
   "id": "be13a62f-ea00-4e62-8021-c621e8a42368",
   "metadata": {},
   "source": [
    "---\n",
    "title: \"Dunnett's Correction for ABC testing\"\n",
    "author: \"Nikita Podlozhniy\"\n",
    "date: \"2023-07-28\"\n",
    "format:\n",
    "    hugo-md:\n",
    "        output-file: \"dunnett-correction.md\"\n",
    "        html-math-method: katex\n",
    "        code-fold: true\n",
    "jupyter: python3\n",
    "execute:\n",
    "    enabled: true\n",
    "    cache: true\n",
    "---"
   ]
  },
  {
   "cell_type": "markdown",
   "id": "4cd5a3ab-c4b8-43c8-a039-da9dff16f8e6",
   "metadata": {},
   "source": [
    "## Background"
   ]
  },
  {
   "cell_type": "markdown",
   "id": "503d8c60-27a1-44d6-a194-41770b0a326c",
   "metadata": {},
   "source": [
    "We at HomeBuddy run a various number of AB tests to improve customer journey.\n",
    "A big part of efforts is allocated to onboarding funnel, hence the main metrics are conversions throughout this funnel.\n",
    "Usually we design multivariate tests with a few testing groups reflecting slightly different variations (often in terms of actual design) of the business hypothesis behind.\n",
    "No matter how you run the experiments you want to get accurate and powerful procedure, that's why we use Dunnett's correction for all of the experiments that we have to maximize the power of AB engine.\n",
    "Are you curious what it is?"
   ]
  },
  {
   "cell_type": "markdown",
   "id": "2ac40594-f41d-4223-a191-4e71c96a002e",
   "metadata": {},
   "source": [
    "### Prerequisites"
   ]
  },
  {
   "cell_type": "markdown",
   "id": "bf18009f-ed0f-40b2-9b58-49eadf541960",
   "metadata": {},
   "source": [
    "It's expected that the reader has an experience with Python and it's main libraries for data analysis.\n",
    "The actual notebook was written on Python 3.11.4 and to keep the results reproducible here is the list of particular packages that are being used in the article specified with their versions."
   ]
  },
  {
   "cell_type": "code",
   "execution_count": 1,
   "id": "046b8afc-01d8-490c-b52d-4ab11bfc11a1",
   "metadata": {},
   "outputs": [
    {
     "name": "stdout",
     "output_type": "stream",
     "text": [
      "Requirement already satisfied: jupyter-cache in c:\\users\\podlo\\appdata\\local\\programs\\python\\python311\\lib\\site-packages (1.0.0)\n",
      "Requirement already satisfied: attrs in c:\\users\\podlo\\appdata\\local\\programs\\python\\python311\\lib\\site-packages (from jupyter-cache) (23.1.0)\n",
      "Requirement already satisfied: click in c:\\users\\podlo\\appdata\\local\\programs\\python\\python311\\lib\\site-packages (from jupyter-cache) (8.1.7)\n",
      "Requirement already satisfied: importlib-metadata in c:\\users\\podlo\\appdata\\local\\programs\\python\\python311\\lib\\site-packages (from jupyter-cache) (8.2.0)\n",
      "Requirement already satisfied: nbclient>=0.2 in c:\\users\\podlo\\appdata\\local\\programs\\python\\python311\\lib\\site-packages (from jupyter-cache) (0.8.0)\n",
      "Requirement already satisfied: nbformat in c:\\users\\podlo\\appdata\\local\\programs\\python\\python311\\lib\\site-packages (from jupyter-cache) (5.9.2)\n",
      "Requirement already satisfied: pyyaml in c:\\users\\podlo\\appdata\\local\\programs\\python\\python311\\lib\\site-packages (from jupyter-cache) (6.0.1)\n",
      "Requirement already satisfied: sqlalchemy<3,>=1.3.12 in c:\\users\\podlo\\appdata\\local\\programs\\python\\python311\\lib\\site-packages (from jupyter-cache) (2.0.31)\n",
      "Requirement already satisfied: tabulate in c:\\users\\podlo\\appdata\\local\\programs\\python\\python311\\lib\\site-packages (from jupyter-cache) (0.9.0)\n",
      "Requirement already satisfied: jupyter-client>=6.1.12 in c:\\users\\podlo\\appdata\\local\\programs\\python\\python311\\lib\\site-packages (from nbclient>=0.2->jupyter-cache) (8.3.0)\n",
      "Requirement already satisfied: jupyter-core!=5.0.*,>=4.12 in c:\\users\\podlo\\appdata\\local\\programs\\python\\python311\\lib\\site-packages (from nbclient>=0.2->jupyter-cache) (5.3.1)\n",
      "Requirement already satisfied: traitlets>=5.4 in c:\\users\\podlo\\appdata\\local\\programs\\python\\python311\\lib\\site-packages (from nbclient>=0.2->jupyter-cache) (5.9.0)\n",
      "Requirement already satisfied: fastjsonschema in c:\\users\\podlo\\appdata\\local\\programs\\python\\python311\\lib\\site-packages (from nbformat->jupyter-cache) (2.18.0)\n",
      "Requirement already satisfied: jsonschema>=2.6 in c:\\users\\podlo\\appdata\\local\\programs\\python\\python311\\lib\\site-packages (from nbformat->jupyter-cache) (4.19.0)\n",
      "Requirement already satisfied: typing-extensions>=4.6.0 in c:\\users\\podlo\\appdata\\local\\programs\\python\\python311\\lib\\site-packages (from sqlalchemy<3,>=1.3.12->jupyter-cache) (4.7.1)\n",
      "Requirement already satisfied: greenlet!=0.4.17 in c:\\users\\podlo\\appdata\\local\\programs\\python\\python311\\lib\\site-packages (from sqlalchemy<3,>=1.3.12->jupyter-cache) (3.0.3)\n",
      "Requirement already satisfied: colorama in c:\\users\\podlo\\appdata\\local\\programs\\python\\python311\\lib\\site-packages (from click->jupyter-cache) (0.4.6)\n",
      "Requirement already satisfied: zipp>=0.5 in c:\\users\\podlo\\appdata\\local\\programs\\python\\python311\\lib\\site-packages (from importlib-metadata->jupyter-cache) (3.19.2)\n",
      "Requirement already satisfied: jsonschema-specifications>=2023.03.6 in c:\\users\\podlo\\appdata\\local\\programs\\python\\python311\\lib\\site-packages (from jsonschema>=2.6->nbformat->jupyter-cache) (2023.7.1)\n",
      "Requirement already satisfied: referencing>=0.28.4 in c:\\users\\podlo\\appdata\\local\\programs\\python\\python311\\lib\\site-packages (from jsonschema>=2.6->nbformat->jupyter-cache) (0.30.2)\n",
      "Requirement already satisfied: rpds-py>=0.7.1 in c:\\users\\podlo\\appdata\\local\\programs\\python\\python311\\lib\\site-packages (from jsonschema>=2.6->nbformat->jupyter-cache) (0.9.2)\n",
      "Requirement already satisfied: python-dateutil>=2.8.2 in c:\\users\\podlo\\appdata\\local\\programs\\python\\python311\\lib\\site-packages (from jupyter-client>=6.1.12->nbclient>=0.2->jupyter-cache) (2.8.2)\n",
      "Requirement already satisfied: pyzmq>=23.0 in c:\\users\\podlo\\appdata\\local\\programs\\python\\python311\\lib\\site-packages (from jupyter-client>=6.1.12->nbclient>=0.2->jupyter-cache) (25.1.1)\n",
      "Requirement already satisfied: tornado>=6.2 in c:\\users\\podlo\\appdata\\local\\programs\\python\\python311\\lib\\site-packages (from jupyter-client>=6.1.12->nbclient>=0.2->jupyter-cache) (6.3.3)\n",
      "Requirement already satisfied: platformdirs>=2.5 in c:\\users\\podlo\\appdata\\local\\programs\\python\\python311\\lib\\site-packages (from jupyter-core!=5.0.*,>=4.12->nbclient>=0.2->jupyter-cache) (3.10.0)\n",
      "Requirement already satisfied: pywin32>=300 in c:\\users\\podlo\\appdata\\local\\programs\\python\\python311\\lib\\site-packages (from jupyter-core!=5.0.*,>=4.12->nbclient>=0.2->jupyter-cache) (306)\n",
      "Requirement already satisfied: six>=1.5 in c:\\users\\podlo\\appdata\\local\\programs\\python\\python311\\lib\\site-packages (from python-dateutil>=2.8.2->jupyter-client>=6.1.12->nbclient>=0.2->jupyter-cache) (1.16.0)\n",
      "Note: you may need to restart the kernel to use updated packages.\n"
     ]
    },
    {
     "name": "stderr",
     "output_type": "stream",
     "text": [
      "\n",
      "[notice] A new release of pip is available: 24.1.2 -> 24.2\n",
      "[notice] To update, run: python311.exe -m pip install --upgrade pip\n"
     ]
    }
   ],
   "source": [
    "#| echo: false\n",
    "#| output: false\n",
    "pip install jupyter-cache"
   ]
  },
  {
   "cell_type": "code",
   "execution_count": 2,
   "id": "74e8ba4f-a79c-4831-b73b-cfdc03d6103c",
   "metadata": {},
   "outputs": [
    {
     "name": "stdout",
     "output_type": "stream",
     "text": [
      "Note: you may need to restart the kernel to use updated packages.\n"
     ]
    },
    {
     "name": "stderr",
     "output_type": "stream",
     "text": [
      "\n",
      "[notice] A new release of pip is available: 24.1.2 -> 24.2\n",
      "[notice] To update, run: python311.exe -m pip install --upgrade pip\n"
     ]
    }
   ],
   "source": [
    "#| output: false\n",
    "pip install --quiet --upgrade numpy==1.25.2 scipy==1.11.2 statsmodels==0.14.0 podlozhnyy_module==2.4b0"
   ]
  },
  {
   "cell_type": "markdown",
   "id": "16f919fd-168b-4e1f-9ad7-4016c66ab9d8",
   "metadata": {},
   "source": [
    "## Problem Definition"
   ]
  },
  {
   "cell_type": "markdown",
   "id": "3d03b01a-564b-4edf-93b5-2514109d713c",
   "metadata": {},
   "source": [
    "Imagine we want to optimize on onboarding funnel of an arbitrary product applying new business idea. \n",
    "We don't want to rely on expert assessment only and hence opt for design an AB test first.\n",
    "The target metric is an abstruct conversion and we carry out a classical AB test with one treatment group.\n",
    "\n",
    "It's not a secret that in such a scenario the best practice is a standard Z-test procedure for independant proportions\n",
    "\n",
    "$$ Z = \\frac{\\hat{p}_1 - \\hat{p}_2}{\\sqrt{P(1 - P)(\\frac{1}{n_1} + \\frac{1}{n_2})}} \\space\\text{,where}\\space P  = \\frac{\\hat{p}_1n_1 + \\hat{p}_2n_2}{n_1 + n_2} $$\n",
    "\n",
    "Under the conditions of the truth of the null hypothesis statistic follows standard normal distribution $$ Z \\stackrel{H_0}{\\sim} \\mathbb{N}(0, 1) $$"
   ]
  },
  {
   "cell_type": "code",
   "execution_count": 3,
   "id": "aea06951-8611-41de-85ee-0e751df3a15e",
   "metadata": {},
   "outputs": [],
   "source": [
    "import numpy as np\n",
    "\n",
    "from scipy.stats import binom\n",
    "from statsmodels.stats.proportion import proportions_ztest, proportion_confint"
   ]
  },
  {
   "cell_type": "markdown",
   "id": "b7b7cfa0-9620-4366-8be3-045584184047",
   "metadata": {},
   "source": [
    "There are multiple versions of calssical Z-test in Python and even though those have its unique selling points this time I apply my own implementation to stay consitent across this article using the same interface for all criteria."
   ]
  },
  {
   "cell_type": "code",
   "execution_count": 4,
   "id": "31d732bb-da7f-437b-a35d-c3dc1efd2f98",
   "metadata": {},
   "outputs": [
    {
     "name": "stderr",
     "output_type": "stream",
     "text": [
      "WARNING:param.main: pandas could not register all extension types imports failed with the following error: cannot import name 'ABCIndexClass' from 'pandas.core.dtypes.generic' (C:\\Users\\podlo\\AppData\\Local\\Programs\\Python\\Python311\\Lib\\site-packages\\pandas\\core\\dtypes\\generic.py)\n"
     ]
    },
    {
     "name": "stdout",
     "output_type": "stream",
     "text": [
      "Привет! Ты импортировал модуль созданный https://github.com/NPodlozhniy\n",
      "В нем собраны часто востребованные в работе аналитика методы\n",
      "Посмотреть полный cписок пакетов можно с помощью dir(<название библиотеки>)\n",
      "Приятного использования!\n"
     ]
    }
   ],
   "source": [
    "#| output: false\n",
    "from podlozhnyy_module.abtesting import Dunnett, Ztest"
   ]
  },
  {
   "cell_type": "markdown",
   "id": "ef4cfe90-df0f-4abd-a89d-2828721e238d",
   "metadata": {},
   "source": [
    "### Interface"
   ]
  },
  {
   "cell_type": "markdown",
   "id": "4af1313a-9c6e-458f-ac2e-b11ade6bff75",
   "metadata": {},
   "source": [
    "As a brief check that the method is working as expected and to make you acquainted with its interface let's identify a dummy experiment\n",
    "\n",
    "`input` must consist of at least three lists:\n",
    "\n",
    " - `base` is the basis event that stands as a denominator of conversion\n",
    " - `target` is the goal event - conversion numerator\n",
    " - `groups` are names of the experiment variants\n",
    "\n",
    "In addition `variant` is specified to explicitly define which group we're focus on (it makes sense in case of multivariate testing)"
   ]
  },
  {
   "cell_type": "code",
   "execution_count": 5,
   "id": "d46f1874-3781-4f59-ae97-071f8d807204",
   "metadata": {},
   "outputs": [],
   "source": [
    "input = {\n",
    "    \"base\": [\n",
    "        480,\n",
    "        437,\n",
    "    ],\n",
    "    \"target\": [\n",
    "        32,\n",
    "        37,\n",
    "    ],\n",
    "    \"groups\": [\n",
    "        \"test\",\n",
    "        \"control\",\n",
    "    ],\n",
    "    \"variant\": \"test\",\n",
    "}"
   ]
  },
  {
   "cell_type": "markdown",
   "id": "22661fa7-696f-4187-812a-929813c9f9ae",
   "metadata": {},
   "source": [
    "Functionality is written leveraging well-known OOP principles, so the experiment is not a function that stands aside, but a class which besides `input` dictionary gets the keys of the corrresponding entities"
   ]
  },
  {
   "cell_type": "code",
   "execution_count": 6,
   "id": "b52e401c-2da6-4d47-b58e-4295d6a14072",
   "metadata": {},
   "outputs": [
    {
     "name": "stdout",
     "output_type": "stream",
     "text": [
      "p-value: 0.151, Z-statistic: -1.032\n"
     ]
    }
   ],
   "source": [
    "test = Ztest(input, base=\"base\", target=\"target\", groups=\"groups\", variant=\"variant\")\n",
    "\n",
    "print(f\"p-value: {test.variant_pvalue(alternative='less'):.3f}, Z-statistic: {test.statistic[0]:.3f}\")"
   ]
  },
  {
   "cell_type": "markdown",
   "id": "05530d11-4280-4970-8eb4-68312b310170",
   "metadata": {},
   "source": [
    "For on the fly verification, the results might be compared to the output of well known `statsmodels` package"
   ]
  },
  {
   "cell_type": "code",
   "execution_count": 7,
   "id": "63f80ac1-f532-45b9-b620-2169dc4291b7",
   "metadata": {},
   "outputs": [
    {
     "name": "stdout",
     "output_type": "stream",
     "text": [
      "p-value: 0.151, Z-statistic: -1.032\n"
     ]
    }
   ],
   "source": [
    "count = input[\"target\"]\n",
    "nobs = input[\"base\"]\n",
    "stat, pval = proportions_ztest(count, nobs, alternative='smaller')\n",
    "print('p-value: {0:0.3f}, Z-statistic: {1:0.3f}'.format(pval, stat))"
   ]
  },
  {
   "cell_type": "markdown",
   "id": "907ec6e3-6607-4e32-a4e4-77c8cfdefd2d",
   "metadata": {},
   "source": [
    "The numbers coincide and now we're ready to move to the main topic"
   ]
  },
  {
   "cell_type": "markdown",
   "id": "2d4d2d42-5564-447f-a8ac-05de99eafd13",
   "metadata": {},
   "source": [
    "## Theory"
   ]
  },
  {
   "cell_type": "markdown",
   "id": "4b4a6085-63ce-4113-b953-662d32de79b5",
   "metadata": {},
   "source": [
    "While often basic Z-test procedure is the appropriate option for AB analysis, it's doesn't satisfy the genuine requirements for the statistical method when it comes to multiple hypothesis testing.\n",
    "I hope you understand what is the problem in case of having $n$ independant metric in your test: if you set up acceptable Type I error rate $\\alpha$ for each of them then the total probability to get at least one significant difference (dabbed as FWER) under the conditions of the truth of the null hypothesis (which means no difference between the groups by design) would be not $\\alpha$ but $1 - (1 - \\alpha)^n$ what totally invalidates the procedure.\n",
    "\n",
    "There are two possible scenarious: either we have multiple metrics that we want to compare across the test and control group or we have several testing groups that apply different treatment to customers.\n",
    "Whilst the first option is more popular by a wide margin and has lots of solutions, the second one is often undercovered in business industry and genrally the same procedures are used.\n",
    "If you apply any type of corrections for multiple testing you're already ahead of 80% of teams that don't, although what I want to show you is that the second scenario must be treated differently to extract more insights from your experiments.\n",
    "\n",
    "[Dunnet's test](https://en.wikipedia.org/wiki/Dunnett%27s_test) is a multiple comparison procedure developed specifically to compare each of a number of treatment groups to a control one, extended original [paper](https://www.jstor.org/stable/2528490?origin=crossref) was released in 1964. Dunnett's test is not a set aside procudure but more like an extension of monumental Student's T-test, for a specific design where every treatment group is compared to a single control one, what is leveraged to take into account the dependencies between comparisons. In case of proportions it's Z-test, as long as we don't need to estimate variance for binomial distribution in addition to the probability of success.\n",
    "\n",
    "The main trick is to calculate variance in a different way, just to remind you in case of a standard procedure statistic looks like\n",
    "\n",
    "$$ Z = \\frac{\\hat{p}_1 - \\hat{p}_2}{S\\sqrt{\\frac{1}{n_1} + \\frac{1}{n_2}}} $$\n",
    "\n",
    "where $S$ is a standard error estimate comprises the squared root of variance of a combined sample $\\sigma^2 = P(1 - P)$\n",
    "\n",
    "Dunnett's test statictic looks exactly the same for every treatment group with the only difference laying under how variance is calculated.\n",
    "In general in case of $n$ treatment groups and one control group $i=0$ of observations $(X_0, .. X_{N_i})$ with $N_i$ size of each, the formula is the following:\n",
    "$$ S^{2} = \\frac{\\sum_{i=0}^{n}S_i^2}{df} = \\frac{\\sum_{i=0}^{n}\\sum_{j=1}^{N_i}(X_{ij} - \\bar{X_i})^2}{df} = \\frac{\\sum_{i=0}^{n}\\sum_{j=1}^{N_i}X_{ij}^2 - n\\bar{X_i}^2}{df} $$\n",
    "\n",
    "where $df$ is degrees of freedom\n",
    "\n",
    "$$ df = \\sum_{i=0}^{n}N_{i} - (n + 1) $$\n",
    "\n",
    "For proportions this \"pooled\" variance simplifies even further as long as the rest part of calculations is exactly the same\n",
    "\n",
    "$$ S^{2} = \\frac{\\sum_{i=0}^{n}{N_i\\bar{p_i}(1 - \\bar{p_i})}}{df} $$"
   ]
  },
  {
   "cell_type": "markdown",
   "id": "cb3dd051-e667-4316-abd3-7e6ed34e7792",
   "metadata": {},
   "source": [
    "## Canonical AB test"
   ]
  },
  {
   "cell_type": "markdown",
   "id": "714e2382-fe2c-4651-b694-522dee4e0c05",
   "metadata": {},
   "source": [
    "First of all, to guarantee the accuracy we should challenge this specific criterion against a classical one in case when both of them are applicable - standard AB test.\n",
    "What is good about proportions we can easily simulate the data in the blnik of an eye, so we're setting up a simulation and employ Monte Carlo process to check two things:\n",
    "\n",
    "- correctness - the criterion should meet the identified confidence level, which means that in case of AA comparison we should get Type I error in $\\alpha$ percent of experiments\n",
    "- power - as it comes from the theory in case of only two groups Dunnett's test is equal to a classical Z-test, so shall we call the implementation out?\n",
    "\n",
    "In addition to point estimate of False Positive Rate I offer to build 90% confidence interval to be more precise in the comparisons"
   ]
  },
  {
   "cell_type": "code",
   "execution_count": 8,
   "id": "9f5d84b8-fd57-4830-9bd4-9c410de86554",
   "metadata": {},
   "outputs": [],
   "source": [
    "def generate_sample(size: int, prob: float) -> int:\n",
    "    \"\"\"\n",
    "    Return the number of target events\n",
    "    \"\"\"\n",
    "    return binom(n=size, p=prob).rvs()"
   ]
  },
  {
   "cell_type": "markdown",
   "id": "b61912b7-eb46-4380-b592-52917cd910a3",
   "metadata": {},
   "source": [
    "### Correctness in AA"
   ]
  },
  {
   "cell_type": "code",
   "execution_count": 9,
   "id": "739b3b49-c784-43a3-9f1f-4c9bc8b85d75",
   "metadata": {},
   "outputs": [
    {
     "name": "stdout",
     "output_type": "stream",
     "text": [
      "FPR for sample size 100\n",
      "Dunnet: 0.048 ± 0.011\n",
      "Z-test: 0.048 ± 0.011\n",
      "\n"
     ]
    },
    {
     "name": "stdout",
     "output_type": "stream",
     "text": [
      "FPR for sample size 1000\n",
      "Dunnet: 0.050 ± 0.011\n",
      "Z-test: 0.050 ± 0.011\n",
      "\n"
     ]
    },
    {
     "name": "stdout",
     "output_type": "stream",
     "text": [
      "FPR for sample size 10000\n",
      "Dunnet: 0.051 ± 0.011\n",
      "Z-test: 0.051 ± 0.011\n",
      "\n"
     ]
    }
   ],
   "source": [
    "np.random.seed(2024)\n",
    "\n",
    "alpha = 0.05\n",
    "n_iterations = 1000\n",
    "p_general = 0.1\n",
    "\n",
    "input = dict.fromkeys([\"base\", \"target\", \"names\", \"variant\"])\n",
    "input[\"names\"] = [\"A\", \"B\"]\n",
    "input[\"variant\"] = \"B\"\n",
    "\n",
    "for size in map(int, [1e2, 1e3, 1e4]):\n",
    "\n",
    "    dunnett_positives = 0\n",
    "    z_positives = 0\n",
    "\n",
    "    for i in range(n_iterations):\n",
    "\n",
    "        input[\"base\"] = [size, size]\n",
    "        input[\"target\"] = [generate_sample(size, p_general), generate_sample(size, p_general)]\n",
    "        \n",
    "        dunnett_test = Dunnett(input, \"base\", \"target\", \"names\", \"variant\")\n",
    "        z_test = Ztest(input, \"base\", \"target\", \"names\", \"variant\")\n",
    "\n",
    "        dunnett_p_value = dunnett_test.variant_pvalue(alternative=\"two-sided\")\n",
    "        z_p_value = z_test.variant_pvalue(alternative=\"two-sided\")\n",
    "\n",
    "        if dunnett_p_value <= alpha:\n",
    "            dunnett_positives += 1\n",
    "        if z_p_value <= alpha:\n",
    "            z_positives += 1\n",
    "\n",
    "    print(f'FPR for sample size {size}')\n",
    "    \n",
    "    l, r = proportion_confint(count=dunnett_positives, nobs=n_iterations, alpha=0.10, method='wilson')\n",
    "    print(f'Dunnet: {dunnett_positives / n_iterations:.3f} ± {(r - l) / 2:.3f}')\n",
    "\n",
    "    l, r = proportion_confint(count=z_positives, nobs=n_iterations, alpha=0.10, method='wilson')\n",
    "    print(f'Z-test: {z_positives / n_iterations:.3f} ± {(r - l) / 2:.3f}')\n",
    "\n",
    "    print()\n",
    "    "
   ]
  },
  {
   "cell_type": "markdown",
   "id": "7ea0d622-6d84-4e3f-bf1e-11abb4feb8fa",
   "metadata": {},
   "source": [
    "Amazing! It seems that 0.05 every time lies in the 90% confidence interval for FPR and hence the criterion is valid and moreover the numbers are exactly the same, it's what was expected and now let's check the power too"
   ]
  },
  {
   "cell_type": "markdown",
   "id": "dfc5a334-6c46-4d04-b3dc-b6c47769086e",
   "metadata": {},
   "source": [
    "### Power in AB"
   ]
  },
  {
   "cell_type": "code",
   "execution_count": 10,
   "id": "63c262b3-ab80-4f63-a71c-e87ecfad2ebe",
   "metadata": {},
   "outputs": [
    {
     "name": "stdout",
     "output_type": "stream",
     "text": [
      "TPR of 20% effect size for sample size 100\n",
      "Dunnet: 0.085 ± 0.015\n",
      "Z-test: 0.085 ± 0.015\n",
      "\n"
     ]
    },
    {
     "name": "stdout",
     "output_type": "stream",
     "text": [
      "TPR of 20% effect size for sample size 1000\n",
      "Dunnet: 0.306 ± 0.024\n",
      "Z-test: 0.306 ± 0.024\n",
      "\n"
     ]
    },
    {
     "name": "stdout",
     "output_type": "stream",
     "text": [
      "TPR of 20% effect size for sample size 10000\n",
      "Dunnet: 0.992 ± 0.005\n",
      "Z-test: 0.992 ± 0.005\n",
      "\n"
     ]
    }
   ],
   "source": [
    "np.random.seed(2024)\n",
    "\n",
    "alpha = 0.05\n",
    "n_iterations = 1000\n",
    "p_general = 0.10\n",
    "effect_size = 0.2\n",
    "\n",
    "input = dict.fromkeys([\"base\", \"target\", \"names\", \"variant\"])\n",
    "input[\"names\"] = [\"A\", \"B\"]\n",
    "input[\"variant\"] = \"B\"\n",
    "\n",
    "for size in map(int, [1e2, 1e3, 1e4]):\n",
    "\n",
    "    dunnett_positives = 0\n",
    "    z_positives = 0\n",
    "\n",
    "    for i in range(n_iterations):\n",
    "\n",
    "        input[\"base\"] = [size, size]\n",
    "        input[\"target\"] = [generate_sample(size, p_general), generate_sample(size, p_general * (1 + effect_size))]\n",
    "        \n",
    "        dunnett_test = Dunnett(input, \"base\", \"target\", \"names\", \"variant\")\n",
    "        z_test = Ztest(input, \"base\", \"target\", \"names\", \"variant\")\n",
    "\n",
    "        dunnett_p_value = dunnett_test.variant_pvalue(alternative=\"two-sided\")\n",
    "        z_p_value = z_test.variant_pvalue(alternative=\"two-sided\")\n",
    "\n",
    "        if dunnett_p_value <= alpha:\n",
    "            dunnett_positives += 1\n",
    "        if z_p_value <= alpha:\n",
    "            z_positives += 1\n",
    "\n",
    "    print(f'TPR of {effect_size:.0%} effect size for sample size {size}')\n",
    "    \n",
    "    l, r = proportion_confint(count=dunnett_positives, nobs=n_iterations, alpha=0.10, method='wilson')\n",
    "    print(f'Dunnet: {dunnett_positives / n_iterations:.3f} ± {(r - l) / 2:.3f}')\n",
    "\n",
    "    l, r = proportion_confint(count=z_positives, nobs=n_iterations, alpha=0.10, method='wilson')\n",
    "    print(f'Z-test: {z_positives / n_iterations:.3f} ± {(r - l) / 2:.3f}')\n",
    "\n",
    "    print()\n",
    "    "
   ]
  },
  {
   "cell_type": "markdown",
   "id": "f8d1ea9c-0dcc-472f-ae62-1666baae8e2a",
   "metadata": {},
   "source": [
    "We are well on our way - the numbers are exactly the same, which means that in case of 2 groups Dunnett's test at least as powerful as a standard procedure. It's time to challenge it in a way it's supposed to be used: meet multivariate testing!"
   ]
  },
  {
   "cell_type": "markdown",
   "id": "219c1ed4-26a4-4c4c-889b-523d14a4d884",
   "metadata": {},
   "source": [
    "## Multivariate ABC"
   ]
  },
  {
   "cell_type": "markdown",
   "id": "df182be4-956a-43c0-86ba-5bf9a2c975c7",
   "metadata": {},
   "source": [
    "### Monte Carlo"
   ]
  },
  {
   "cell_type": "markdown",
   "id": "0dcdc235-a546-4577-8319-8e4c315a44c1",
   "metadata": {},
   "source": [
    "Now we will track how the criterion controls not a single FPR, but family-wise error rate (FWER) and what is more in order to continue the comparison with a classical Z-test the latter needs to have bonferroni correction applied otherwise it wouldn't properly control FWER."
   ]
  },
  {
   "cell_type": "code",
   "execution_count": 11,
   "id": "950ce257-d40e-48cf-8e52-fc9904148a34",
   "metadata": {},
   "outputs": [],
   "source": [
    "def fwe(x: np.ndarray, alpha: float) -> bool:\n",
    "    \"\"\"\n",
    "    Indicates either at least one of null hypotheses is rejected\n",
    "    \"\"\"\n",
    "    return max(x <= alpha)\n",
    "\n",
    "def bonferroni_fwe(x: np.ndarray, alpha: float, n: int) -> bool:\n",
    "    \"\"\"\n",
    "    Bonferroni correction for FWER, you can think of as it's Bonferroni-Holm procedure\n",
    "    Because to have a False Positive result it's necessary and sufficient that at least one of `n` p-values doesn't exceed `alpha` / `n`\n",
    "    \"\"\"\n",
    "    return fwe(x, alpha / n)"
   ]
  },
  {
   "cell_type": "markdown",
   "id": "bbcc0a40-f4b1-420f-9020-d2a96d2208a4",
   "metadata": {},
   "source": [
    "To simplify the code in the future Monte Carlo procedure is wrapped into a function with all the necessary parameters supplied as arguments"
   ]
  },
  {
   "cell_type": "code",
   "execution_count": 12,
   "id": "a125c6dc-d899-4dc6-a59b-68fd0ab6d056",
   "metadata": {},
   "outputs": [],
   "source": [
    "def monte_carlo(\n",
    "    aa_test: bool = True,\n",
    "    verbose: bool = True,\n",
    "    n_iterations: int = 1000,\n",
    "    group_size: int = 100,\n",
    "    n_groups: int = 3,\n",
    "    p_general: float = 0.1,\n",
    "    effect_size: float = 0.2,\n",
    "    alpha: float = 0.05,\n",
    ") -> dict:\n",
    "\n",
    "    input = dict.fromkeys([\"base\", \"target\", \"names\", \"variant\"])\n",
    "    input[\"names\"] = [chr(ord(\"A\") + i) for i in range(n_groups)]\n",
    "    input[\"variant\"] = input[\"names\"][-1]\n",
    "\n",
    "    dunnett_positives = 0\n",
    "    z_positives = 0\n",
    "\n",
    "    for i in range(n_iterations):\n",
    "\n",
    "        input[\"base\"] = [group_size] * n_groups\n",
    "        input[\"target\"] = [generate_sample(group_size, p_general) for _ in range(n_groups - 1)]\n",
    "        input[\"target\"] += [generate_sample(group_size, p_general * (1 + effect_size * (1 - aa_test)))]\n",
    "\n",
    "        dunnett_test = Dunnett(input, \"base\", \"target\", \"names\", \"variant\")\n",
    "        z_test = Ztest(input, \"base\", \"target\", \"names\", \"variant\")\n",
    "\n",
    "        dunnett_p_value = dunnett_test.groups_results(alternative=\"two-sided\")[\"p-value\"]\n",
    "        z_p_value = z_test.groups_results(alternative=\"two-sided\")[\"p-value\"]\n",
    "\n",
    "        if aa_test:\n",
    "            if fwe(dunnett_p_value, alpha):\n",
    "                dunnett_positives += 1\n",
    "            if bonferroni_fwe(z_p_value, alpha, 2):\n",
    "                z_positives += 1\n",
    "        else:\n",
    "            if isinstance(dunnett_p_value, np.ndarray) and dunnett_p_value[-1] <= alpha:\n",
    "                dunnett_positives += 1\n",
    "            elif isinstance(dunnett_p_value, np.float64) and dunnett_p_value <= alpha:\n",
    "                dunnett_positives += 1\n",
    "            if sidak_holm(z_p_value, alpha)[-1]:\n",
    "                z_positives += 1\n",
    "            \n",
    "    dl, dr = proportion_confint(count=dunnett_positives, nobs=n_iterations, alpha=0.10, method='wilson')\n",
    "    zl, zr = proportion_confint(count=z_positives, nobs=n_iterations, alpha=0.10, method='wilson')\n",
    "\n",
    "    if verbose:\n",
    "        print (\n",
    "            f\"{'FPR' if aa_test else f'TPR of {effect_size:.0%} effect size'} for sample size {group_size}\\n\"\n",
    "            f\" - Dunnett: {dunnett_positives / n_iterations:.3f} ± {(dr - dl) / 2:.3f}\\n\"\n",
    "            f\" - Z-Test: {z_positives / n_iterations:.3f} ± {(zr - zl) / 2:.3f}\\n\"\n",
    "        )\n",
    "    return {\"dunnett\": [dl, dunnett_positives / n_iterations, dr], \"z-test\": [zl, z_positives / n_iterations, zr]}"
   ]
  },
  {
   "cell_type": "markdown",
   "id": "5392252d-c488-4eb7-a64d-724adc692f04",
   "metadata": {},
   "source": [
    "### Correctness"
   ]
  },
  {
   "cell_type": "markdown",
   "id": "8ae7c1f8-8895-4b30-857d-78893763c10b",
   "metadata": {},
   "source": [
    "Validity first, let's check the ability to control FWER at predefined $\\alpha$ level"
   ]
  },
  {
   "cell_type": "code",
   "execution_count": 13,
   "id": "32a4add4-43ba-49d1-9df1-ffcd411f8fc6",
   "metadata": {},
   "outputs": [
    {
     "name": "stdout",
     "output_type": "stream",
     "text": [
      "FPR for sample size 100\n",
      " - Dunnett: 0.045 ± 0.011\n",
      " - Z-Test: 0.042 ± 0.010\n",
      "\n"
     ]
    },
    {
     "name": "stdout",
     "output_type": "stream",
     "text": [
      "FPR for sample size 500\n",
      " - Dunnett: 0.048 ± 0.011\n",
      " - Z-Test: 0.045 ± 0.011\n",
      "\n"
     ]
    },
    {
     "name": "stdout",
     "output_type": "stream",
     "text": [
      "FPR for sample size 1000\n",
      " - Dunnett: 0.063 ± 0.013\n",
      " - Z-Test: 0.056 ± 0.012\n",
      "\n"
     ]
    },
    {
     "name": "stdout",
     "output_type": "stream",
     "text": [
      "FPR for sample size 5000\n",
      " - Dunnett: 0.050 ± 0.011\n",
      " - Z-Test: 0.046 ± 0.011\n",
      "\n"
     ]
    }
   ],
   "source": [
    "np.random.seed(2024)\n",
    "\n",
    "for size in [1e2, 5e2, 1e3, 5e3]:\n",
    "    _ = monte_carlo(aa_test=True, group_size=int(size))"
   ]
  },
  {
   "cell_type": "markdown",
   "id": "f0dee891-ef8f-4b68-93d1-fab98177ec09",
   "metadata": {},
   "source": [
    "Super cool, both methods: Dunnett's Test without any corrections and Z-Test with Bonferroni-Holm correction control FWER correctly"
   ]
  },
  {
   "cell_type": "markdown",
   "id": "03627bf5-ff15-4936-90a4-b88cb32f6fc9",
   "metadata": {},
   "source": [
    "### Power"
   ]
  },
  {
   "cell_type": "markdown",
   "id": "c9bf79ae-9ccb-4298-abf1-cc856e4ab0f6",
   "metadata": {},
   "source": [
    "Now it's the time to define a full fledged step-down procedure for multivariate testing as although its shortened version works well to define FWER it doesn't when it comes to a power analysis.\n",
    "I prefer Sidak-Holm procedure as it's known as the most powerful prodecure that controls FWER however as long as sample size is increased the difference from Bonferroni-Holm hardly noticeable."
   ]
  },
  {
   "cell_type": "code",
   "execution_count": 14,
   "id": "d6bd6367-3ca0-4d33-95e7-ce0b17e7fe5d",
   "metadata": {},
   "outputs": [],
   "source": [
    "def sidak_holm(p_values: np.ndarray, alpha: float) -> np.ndarray:\n",
    "    \"\"\"\n",
    "    Step down Sidak-Holm procedure\n",
    "    If the statistics are jointly independent, no procedure can be constructed to control FWER that is more powerful than the Sidak-Holm method\n",
    "    \"\"\"\n",
    "    m = p_values.size\n",
    "    adjusted_alpha = np.array([1 - (1 - alpha) ** (1 / (m - i + 1)) for i in range(1, m + 1)])\n",
    "    sorted_indexes = np.argsort(p_values)\n",
    "    sorted_pvalues = p_values[sorted_indexes]\n",
    "    first_reject = (list(sorted_pvalues <= adjusted_alpha) + [False]).index(False)\n",
    "    result = np.array([True] * first_reject + [False] * (m - first_reject))\n",
    "    return result[np.argsort(sorted_indexes)]"
   ]
  },
  {
   "cell_type": "markdown",
   "id": "d1d049fe-fa6b-46db-aa30-62635f7d7226",
   "metadata": {},
   "source": [
    "For the power test I suggest to use two treatment groups and a single control where in one of the treatment an effect of 20% uplift added. So the null hypothesis should be rejected and True Positive Rate is measured - is the share of rejected hypotheses among number of iterations."
   ]
  },
  {
   "cell_type": "code",
   "execution_count": 15,
   "id": "f493e116-5b40-4498-8ac9-cedc3167b260",
   "metadata": {},
   "outputs": [
    {
     "name": "stdout",
     "output_type": "stream",
     "text": [
      "TPR of 20% effect size for sample size 100\n",
      " - Dunnett: 0.051 ± 0.011\n",
      " - Z-Test: 0.043 ± 0.011\n",
      "\n"
     ]
    },
    {
     "name": "stdout",
     "output_type": "stream",
     "text": [
      "TPR of 20% effect size for sample size 500\n",
      " - Dunnett: 0.104 ± 0.016\n",
      " - Z-Test: 0.092 ± 0.015\n",
      "\n"
     ]
    },
    {
     "name": "stdout",
     "output_type": "stream",
     "text": [
      "TPR of 20% effect size for sample size 1000\n",
      " - Dunnett: 0.265 ± 0.023\n",
      " - Z-Test: 0.240 ± 0.022\n",
      "\n"
     ]
    },
    {
     "name": "stdout",
     "output_type": "stream",
     "text": [
      "TPR of 20% effect size for sample size 5000\n",
      " - Dunnett: 0.855 ± 0.018\n",
      " - Z-Test: 0.842 ± 0.019\n",
      "\n"
     ]
    }
   ],
   "source": [
    "np.random.seed(2024)\n",
    "\n",
    "for size in [1e2, 5e2, 1e3, 5e3]:\n",
    "    _ = monte_carlo(aa_test=False, group_size=int(size))"
   ]
  },
  {
   "cell_type": "markdown",
   "id": "203cbb04-718a-4e3c-a9b0-d3b186dee696",
   "metadata": {},
   "source": [
    "The results are promising! The power of Dunnett's test is every time exceeds the power of Z-test with Sidak-Holm procedure applied.\n",
    "The difference is not significant though, so we can't say for sure that it's better, let's experiment more with parameters and change `effect_size`."
   ]
  },
  {
   "cell_type": "code",
   "execution_count": 16,
   "id": "832553b6-0b8e-4556-8d24-1c846982da2f",
   "metadata": {},
   "outputs": [
    {
     "name": "stdout",
     "output_type": "stream",
     "text": [
      "TPR of 10% effect size for sample size 3000\n",
      " - Dunnett: 0.163 ± 0.019\n",
      " - Z-Test: 0.157 ± 0.019\n",
      "\n"
     ]
    },
    {
     "name": "stdout",
     "output_type": "stream",
     "text": [
      "TPR of 20% effect size for sample size 3000\n",
      " - Dunnett: 0.589 ± 0.026\n",
      " - Z-Test: 0.569 ± 0.026\n",
      "\n"
     ]
    },
    {
     "name": "stdout",
     "output_type": "stream",
     "text": [
      "TPR of 30% effect size for sample size 3000\n",
      " - Dunnett: 0.927 ± 0.014\n",
      " - Z-Test: 0.914 ± 0.015\n",
      "\n"
     ]
    }
   ],
   "source": [
    "np.random.seed(2024)\n",
    "\n",
    "for effect_size in [0.1, 0.2, 0.3]:\n",
    "    _ = monte_carlo(aa_test=False, group_size=3000, effect_size=effect_size)"
   ]
  },
  {
   "cell_type": "markdown",
   "id": "de8172b0-e9d7-41d2-8e90-1f055cfb4b17",
   "metadata": {},
   "source": [
    "Exciting, the result remains the same, and if we know that Sidak-Holm is the most powerful method that controls FWER for the general use case, we see now that Dunnett's at least not worse. Finally, the most appealing variable is the number of treatment groups, let's vary it too."
   ]
  },
  {
   "cell_type": "code",
   "execution_count": 17,
   "id": "37ec7092-39d3-4bdc-9e8c-de183c043307",
   "metadata": {},
   "outputs": [
    {
     "name": "stdout",
     "output_type": "stream",
     "text": [
      "TPR of 20% effect size for sample size 3000\n",
      " - Dunnett: 0.608 ± 0.025\n",
      " - Z-Test: 0.601 ± 0.025\n",
      "\n"
     ]
    },
    {
     "name": "stdout",
     "output_type": "stream",
     "text": [
      "TPR of 20% effect size for sample size 3000\n",
      " - Dunnett: 0.544 ± 0.026\n",
      " - Z-Test: 0.506 ± 0.026\n",
      "\n"
     ]
    },
    {
     "name": "stdout",
     "output_type": "stream",
     "text": [
      "TPR of 20% effect size for sample size 3000\n",
      " - Dunnett: 0.464 ± 0.026\n",
      " - Z-Test: 0.424 ± 0.026\n",
      "\n"
     ]
    }
   ],
   "source": [
    "np.random.seed(2024)\n",
    "\n",
    "for n_groups in [3, 5, 7]:\n",
    "    _ = monte_carlo(aa_test=False, group_size=3000, n_groups=n_groups)"
   ]
  },
  {
   "cell_type": "markdown",
   "id": "c6f635ad-262b-4a1d-a1fe-4d7654296481",
   "metadata": {},
   "source": [
    "Now we've nailed it! The number of groups is what affects the bottom line. The more groups are in the experiment - the more powerful Dunnett's Correction than Sidak-Holm.\n",
    "So, let's build a title image for this article that illustrates how Dunnett's test outperforms the well-known step-down procedure as the number of treatment groups increases."
   ]
  },
  {
   "cell_type": "code",
   "execution_count": 18,
   "id": "7b5105a4-1d92-4857-aacb-f971e1c8c924",
   "metadata": {},
   "outputs": [],
   "source": [
    "#| eval: false\n",
    "from tqdm.notebook import tqdm\n",
    "\n",
    "np.random.seed(2024)\n",
    "ztest_values = []\n",
    "dunnett_values = []\n",
    "\n",
    "for n_groups in tqdm(range(2, 16)):\n",
    "    result = monte_carlo(aa_test=False, verbose=False, group_size=3000, n_groups=n_groups)\n",
    "    dunnett_values.append(result[\"dunnett\"])\n",
    "    ztest_values.append(result[\"z-test\"])"
   ]
  },
  {
   "cell_type": "markdown",
   "id": "dc4469c3-6c64-46d3-bea9-46a592e1bb4f",
   "metadata": {},
   "source": [
    "Plotly is used for interactive visualization, hover over the image to see details"
   ]
  },
  {
   "cell_type": "code",
   "execution_count": 19,
   "id": "56b61796-bfbd-47fe-b9be-bbb8a40d9d98",
   "metadata": {},
   "outputs": [],
   "source": [
    "#| eval: false\n",
    "import plotly.express as px\n",
    "import plotly.graph_objs as go\n",
    "\n",
    "def hex2rgba(hex, alpha):\n",
    "    \"\"\"\n",
    "    Convert plotly hex colors to rgb and enables transparency adjustment\n",
    "    \"\"\"\n",
    "    col_hex = hex.lstrip('#')\n",
    "    col_rgb = tuple(int(col_hex[i : i + 2], 16) for i in (0, 2, 4))\n",
    "    col_rgb += (alpha,)\n",
    "    return 'rgba' + str(col_rgb)\n",
    "\n",
    "def get_new_color(colors):\n",
    "    while True:\n",
    "        for color in colors:\n",
    "            yield color\n",
    "\n",
    "colors_list = px.colors.qualitative.Plotly\n",
    "rgba_colors = [hex2rgba(color, alpha=0.5) for color in colors_list]\n",
    "palette = get_new_color(rgba_colors)\n",
    "\n",
    "def add_chart(figure, data, title):\n",
    "\n",
    "    x = list(range(1, 15))\n",
    "    color = next(palette)\n",
    "    \n",
    "    figure.add_trace(\n",
    "        go.Scatter(\n",
    "            name=title,\n",
    "            x=x,\n",
    "            y=[v[1] for v in data],\n",
    "            mode='lines',\n",
    "            line=dict(color=color),\n",
    "        ),\n",
    "    )\n",
    "    figure.add_trace(\n",
    "        go.Scatter(\n",
    "            name='Upper Bound',\n",
    "            x=x,\n",
    "            y=[v[2] for v in data],\n",
    "            mode='lines',\n",
    "            line=dict(width=0),\n",
    "            marker=dict(color=\"#444\"),\n",
    "            hovertemplate=\"%{y:.3f}\",\n",
    "            showlegend=False,\n",
    "        ),\n",
    "    )\n",
    "    figure.add_trace(\n",
    "        go.Scatter(\n",
    "            name='Lower Bound',\n",
    "            x=x,\n",
    "            y=[v[0] for v in data],\n",
    "            mode='lines',\n",
    "            line=dict(width=0),\n",
    "            marker=dict(color=\"#444\"),            \n",
    "            hovertemplate=\"%{y:.3f}\",\n",
    "            showlegend=False,\n",
    "            fillcolor=color,\n",
    "            fill='tonexty',\n",
    "        ),\n",
    "    )\n",
    "\n",
    "\n",
    "figure = go.Figure()\n",
    "\n",
    "add_chart(figure, dunnett_values, \"Dunnnett's Correction\")\n",
    "add_chart(figure, ztest_values, 'Z-Test with Sidak-Holm')\n",
    "\n",
    "figure.update_xaxes(\n",
    "    title_text=\"Number of Treatment Groups\"\n",
    ")\n",
    "\n",
    "figure.update_layout(\n",
    "    yaxis_title='True Positive Rate',\n",
    "    title={\n",
    "        \"x\": 0.5,\n",
    "        \"text\": 'Power of Сriterion',\n",
    "    },\n",
    "    hovermode=\"x\",\n",
    "    template=\"plotly_dark\",\n",
    ")\n",
    "\n",
    "figure.show()"
   ]
  },
  {
   "cell_type": "code",
   "execution_count": 20,
   "id": "71f449b5-30ac-4b4d-a6d8-3e184fcd9765",
   "metadata": {},
   "outputs": [],
   "source": [
    "#| eval: false\n",
    "#| echo: false\n",
    "#| code-summary: \"name of the code snippet\"\n",
    "\n",
    "from pathlib import Path\n",
    "\n",
    "def find_git_repo(path=None):\n",
    "    \"\"\"\n",
    "    Find the repository root where the script is\n",
    "    \"\"\"\n",
    "    source = Path(path) if path else Path.cwd()\n",
    "    for path in source.parents:\n",
    "        # Check whether \"path/.git\" exists and is a directory\n",
    "        git_dir = path / \".git\"\n",
    "        if git_dir.is_dir():\n",
    "            return path\n",
    "\n",
    "figure.write_json(find_git_repo().joinpath(\"data/plotly/multivariate-power.json\"))"
   ]
  },
  {
   "cell_type": "raw",
   "id": "44768279-217d-442e-80d8-e4205f94b877",
   "metadata": {},
   "source": [
    "{{< plotly obj=multivariate-power >}}"
   ]
  },
  {
   "cell_type": "markdown",
   "id": "f9f902a5-e3f1-435b-a7d9-ba3bea678fc6",
   "metadata": {},
   "source": [
    "## Conclusion"
   ]
  },
  {
   "cell_type": "markdown",
   "id": "60fe33b5-a1c4-4512-9228-487493482371",
   "metadata": {},
   "source": [
    "It was shown that when the experiment design satisfies the premises of Dunnett's Test applicability (only $n$ comparisons of $n$ test groups against a single control) at least in a specific case of conversion metrics, Dunnett's Correction is more powerful that the standard step-down procedures like Sidak-Holm.\n",
    "\n",
    "While Dunnet's correction is a definite winner it doesn't mean that Sidak-Holm is abandoned from now on inour team, the proper design would be to use Dunnett's Correction first for multivariate testing and Sidak-Holm procedure must be applied on top if there are multiple metrics to compare between the groups, which is often the case."
   ]
  },
  {
   "cell_type": "markdown",
   "id": "97536d9c-578c-46c1-82f0-25c4f75593a6",
   "metadata": {},
   "source": [
    "## Additional Information"
   ]
  },
  {
   "cell_type": "markdown",
   "id": "21ac9f1f-3af7-46e2-9ba8-8ffa37ca7b2e",
   "metadata": {},
   "source": [
    "\n",
    " 1. [Original Paper from Journal of the American Statistical Association](https://amstat.tandfonline.com/doi/abs/10.1080/01621459.1955.10501294?journalCode=uasa20)\n",
    " 2. [Multivariate Testing - Best Practices](https://blog.analytics-toolkit.com/2017/multivariate-testing-practices-tools-mvt-abn-tests/)\n",
    " 3. [Dunnett's Correction in Analytics ToolKit](https://www.analytics-toolkit.com/glossary/dunnett%E2%80%99s-correction/)\n",
    " 4. [Multiple comparisons problem](https://en.wikipedia.org/wiki/Multiple_comparisons_problem)"
   ]
  }
 ],
 "metadata": {
  "kernelspec": {
   "display_name": "Python 3 (ipykernel)",
   "language": "python",
   "name": "python3"
  },
  "language_info": {
   "codemirror_mode": {
    "name": "ipython",
    "version": 3
   },
   "file_extension": ".py",
   "mimetype": "text/x-python",
   "name": "python",
   "nbconvert_exporter": "python",
   "pygments_lexer": "ipython3",
   "version": "3.11.4"
  },
  "widgets": {
   "application/vnd.jupyter.widget-state+json": {
    "state": {
     "0b1ce8968d4246bca5d461e417b6d904": {
      "model_module": "@jupyter-widgets/controls",
      "model_module_version": "2.0.0",
      "model_name": "HTMLStyleModel",
      "state": {
       "_model_module": "@jupyter-widgets/controls",
       "_model_module_version": "2.0.0",
       "_model_name": "HTMLStyleModel",
       "_view_count": null,
       "_view_module": "@jupyter-widgets/base",
       "_view_module_version": "2.0.0",
       "_view_name": "StyleView",
       "background": null,
       "description_width": "",
       "font_size": null,
       "text_color": null
      }
     },
     "35ec09d8f8e34afe85fb42bb713bf166": {
      "model_module": "@jupyter-widgets/controls",
      "model_module_version": "2.0.0",
      "model_name": "ProgressStyleModel",
      "state": {
       "_model_module": "@jupyter-widgets/controls",
       "_model_module_version": "2.0.0",
       "_model_name": "ProgressStyleModel",
       "_view_count": null,
       "_view_module": "@jupyter-widgets/base",
       "_view_module_version": "2.0.0",
       "_view_name": "StyleView",
       "bar_color": null,
       "description_width": ""
      }
     },
     "446a6bd402864db0b4c77ed89309fb56": {
      "model_module": "@jupyter-widgets/controls",
      "model_module_version": "2.0.0",
      "model_name": "FloatProgressModel",
      "state": {
       "_dom_classes": [],
       "_model_module": "@jupyter-widgets/controls",
       "_model_module_version": "2.0.0",
       "_model_name": "FloatProgressModel",
       "_view_count": null,
       "_view_module": "@jupyter-widgets/controls",
       "_view_module_version": "2.0.0",
       "_view_name": "ProgressView",
       "bar_style": "success",
       "description": "",
       "description_allow_html": false,
       "layout": "IPY_MODEL_7cd7af879c404dd6b2a6936ea79157d4",
       "max": 2,
       "min": 0,
       "orientation": "horizontal",
       "style": "IPY_MODEL_35ec09d8f8e34afe85fb42bb713bf166",
       "tabbable": null,
       "tooltip": null,
       "value": 2
      }
     },
     "49ff257e253f4651ba2b83fc0ed65c2c": {
      "model_module": "@jupyter-widgets/controls",
      "model_module_version": "2.0.0",
      "model_name": "HTMLModel",
      "state": {
       "_dom_classes": [],
       "_model_module": "@jupyter-widgets/controls",
       "_model_module_version": "2.0.0",
       "_model_name": "HTMLModel",
       "_view_count": null,
       "_view_module": "@jupyter-widgets/controls",
       "_view_module_version": "2.0.0",
       "_view_name": "HTMLView",
       "description": "",
       "description_allow_html": false,
       "layout": "IPY_MODEL_8f8be0edf57848cea0876a83478297eb",
       "placeholder": "​",
       "style": "IPY_MODEL_bb70cef583b04432a0a8e647f7f9ee3b",
       "tabbable": null,
       "tooltip": null,
       "value": " 2/2 [00:34&lt;00:00, 18.85s/it]"
      }
     },
     "69160ae98c6543ed827f5a865259c4ea": {
      "model_module": "@jupyter-widgets/base",
      "model_module_version": "2.0.0",
      "model_name": "LayoutModel",
      "state": {
       "_model_module": "@jupyter-widgets/base",
       "_model_module_version": "2.0.0",
       "_model_name": "LayoutModel",
       "_view_count": null,
       "_view_module": "@jupyter-widgets/base",
       "_view_module_version": "2.0.0",
       "_view_name": "LayoutView",
       "align_content": null,
       "align_items": null,
       "align_self": null,
       "border_bottom": null,
       "border_left": null,
       "border_right": null,
       "border_top": null,
       "bottom": null,
       "display": null,
       "flex": null,
       "flex_flow": null,
       "grid_area": null,
       "grid_auto_columns": null,
       "grid_auto_flow": null,
       "grid_auto_rows": null,
       "grid_column": null,
       "grid_gap": null,
       "grid_row": null,
       "grid_template_areas": null,
       "grid_template_columns": null,
       "grid_template_rows": null,
       "height": null,
       "justify_content": null,
       "justify_items": null,
       "left": null,
       "margin": null,
       "max_height": null,
       "max_width": null,
       "min_height": null,
       "min_width": null,
       "object_fit": null,
       "object_position": null,
       "order": null,
       "overflow": null,
       "padding": null,
       "right": null,
       "top": null,
       "visibility": null,
       "width": null
      }
     },
     "7cd7af879c404dd6b2a6936ea79157d4": {
      "model_module": "@jupyter-widgets/base",
      "model_module_version": "2.0.0",
      "model_name": "LayoutModel",
      "state": {
       "_model_module": "@jupyter-widgets/base",
       "_model_module_version": "2.0.0",
       "_model_name": "LayoutModel",
       "_view_count": null,
       "_view_module": "@jupyter-widgets/base",
       "_view_module_version": "2.0.0",
       "_view_name": "LayoutView",
       "align_content": null,
       "align_items": null,
       "align_self": null,
       "border_bottom": null,
       "border_left": null,
       "border_right": null,
       "border_top": null,
       "bottom": null,
       "display": null,
       "flex": null,
       "flex_flow": null,
       "grid_area": null,
       "grid_auto_columns": null,
       "grid_auto_flow": null,
       "grid_auto_rows": null,
       "grid_column": null,
       "grid_gap": null,
       "grid_row": null,
       "grid_template_areas": null,
       "grid_template_columns": null,
       "grid_template_rows": null,
       "height": null,
       "justify_content": null,
       "justify_items": null,
       "left": null,
       "margin": null,
       "max_height": null,
       "max_width": null,
       "min_height": null,
       "min_width": null,
       "object_fit": null,
       "object_position": null,
       "order": null,
       "overflow": null,
       "padding": null,
       "right": null,
       "top": null,
       "visibility": null,
       "width": null
      }
     },
     "8f8be0edf57848cea0876a83478297eb": {
      "model_module": "@jupyter-widgets/base",
      "model_module_version": "2.0.0",
      "model_name": "LayoutModel",
      "state": {
       "_model_module": "@jupyter-widgets/base",
       "_model_module_version": "2.0.0",
       "_model_name": "LayoutModel",
       "_view_count": null,
       "_view_module": "@jupyter-widgets/base",
       "_view_module_version": "2.0.0",
       "_view_name": "LayoutView",
       "align_content": null,
       "align_items": null,
       "align_self": null,
       "border_bottom": null,
       "border_left": null,
       "border_right": null,
       "border_top": null,
       "bottom": null,
       "display": null,
       "flex": null,
       "flex_flow": null,
       "grid_area": null,
       "grid_auto_columns": null,
       "grid_auto_flow": null,
       "grid_auto_rows": null,
       "grid_column": null,
       "grid_gap": null,
       "grid_row": null,
       "grid_template_areas": null,
       "grid_template_columns": null,
       "grid_template_rows": null,
       "height": null,
       "justify_content": null,
       "justify_items": null,
       "left": null,
       "margin": null,
       "max_height": null,
       "max_width": null,
       "min_height": null,
       "min_width": null,
       "object_fit": null,
       "object_position": null,
       "order": null,
       "overflow": null,
       "padding": null,
       "right": null,
       "top": null,
       "visibility": null,
       "width": null
      }
     },
     "bb70cef583b04432a0a8e647f7f9ee3b": {
      "model_module": "@jupyter-widgets/controls",
      "model_module_version": "2.0.0",
      "model_name": "HTMLStyleModel",
      "state": {
       "_model_module": "@jupyter-widgets/controls",
       "_model_module_version": "2.0.0",
       "_model_name": "HTMLStyleModel",
       "_view_count": null,
       "_view_module": "@jupyter-widgets/base",
       "_view_module_version": "2.0.0",
       "_view_name": "StyleView",
       "background": null,
       "description_width": "",
       "font_size": null,
       "text_color": null
      }
     },
     "dbfe79f74ab947ef8194ace8ed724544": {
      "model_module": "@jupyter-widgets/controls",
      "model_module_version": "2.0.0",
      "model_name": "HBoxModel",
      "state": {
       "_dom_classes": [],
       "_model_module": "@jupyter-widgets/controls",
       "_model_module_version": "2.0.0",
       "_model_name": "HBoxModel",
       "_view_count": null,
       "_view_module": "@jupyter-widgets/controls",
       "_view_module_version": "2.0.0",
       "_view_name": "HBoxView",
       "box_style": "",
       "children": [
        "IPY_MODEL_fd17e1173e9e4cfead575b2aefeac255",
        "IPY_MODEL_446a6bd402864db0b4c77ed89309fb56",
        "IPY_MODEL_49ff257e253f4651ba2b83fc0ed65c2c"
       ],
       "layout": "IPY_MODEL_f63e1c14a93e42048ee5dc57fa27ec8d",
       "tabbable": null,
       "tooltip": null
      }
     },
     "f63e1c14a93e42048ee5dc57fa27ec8d": {
      "model_module": "@jupyter-widgets/base",
      "model_module_version": "2.0.0",
      "model_name": "LayoutModel",
      "state": {
       "_model_module": "@jupyter-widgets/base",
       "_model_module_version": "2.0.0",
       "_model_name": "LayoutModel",
       "_view_count": null,
       "_view_module": "@jupyter-widgets/base",
       "_view_module_version": "2.0.0",
       "_view_name": "LayoutView",
       "align_content": null,
       "align_items": null,
       "align_self": null,
       "border_bottom": null,
       "border_left": null,
       "border_right": null,
       "border_top": null,
       "bottom": null,
       "display": null,
       "flex": null,
       "flex_flow": null,
       "grid_area": null,
       "grid_auto_columns": null,
       "grid_auto_flow": null,
       "grid_auto_rows": null,
       "grid_column": null,
       "grid_gap": null,
       "grid_row": null,
       "grid_template_areas": null,
       "grid_template_columns": null,
       "grid_template_rows": null,
       "height": null,
       "justify_content": null,
       "justify_items": null,
       "left": null,
       "margin": null,
       "max_height": null,
       "max_width": null,
       "min_height": null,
       "min_width": null,
       "object_fit": null,
       "object_position": null,
       "order": null,
       "overflow": null,
       "padding": null,
       "right": null,
       "top": null,
       "visibility": null,
       "width": null
      }
     },
     "fd17e1173e9e4cfead575b2aefeac255": {
      "model_module": "@jupyter-widgets/controls",
      "model_module_version": "2.0.0",
      "model_name": "HTMLModel",
      "state": {
       "_dom_classes": [],
       "_model_module": "@jupyter-widgets/controls",
       "_model_module_version": "2.0.0",
       "_model_name": "HTMLModel",
       "_view_count": null,
       "_view_module": "@jupyter-widgets/controls",
       "_view_module_version": "2.0.0",
       "_view_name": "HTMLView",
       "description": "",
       "description_allow_html": false,
       "layout": "IPY_MODEL_69160ae98c6543ed827f5a865259c4ea",
       "placeholder": "​",
       "style": "IPY_MODEL_0b1ce8968d4246bca5d461e417b6d904",
       "tabbable": null,
       "tooltip": null,
       "value": "100%"
      }
     }
    },
    "version_major": 2,
    "version_minor": 0
   }
  }
 },
 "nbformat": 4,
 "nbformat_minor": 5
}
